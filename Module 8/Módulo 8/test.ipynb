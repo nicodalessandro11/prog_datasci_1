{
 "cells": [
  {
   "cell_type": "markdown",
   "metadata": {},
   "source": [
    "### Ejercicio 1\n",
    "\n",
    "Pokemon es una saga RPG muy famosa a nivel mundial. La misión de estos juegos es capturar y entrenar a los pokemon, unas criaturas que habitan en todo el continente, para hacerse con el título de maestro de la liga Pokemon. Los Pokemons son criaturas muy diversas, hay muchos tipos diferentes y algunos de ellos pueden evolucionar.\n",
    "\n",
    "En este ejercicio exploraremos los Pokemons de la primera generación con el dataset `pokemon.csv`. <span style=\"font-family: Courier New; background-color: #82b74b; color: #000000; padding: 3px; \">NM</span> \n",
    "\n",
    "\n",
    "1. ¿Cuántos Pokemons legendarios hay? Cuántos Pokemons hay de cada tipo de evolución (_variable Stage_)?\n",
    "\n",
    "2. ¿Cuál es el tipo más frecuente? Y el menos?\n",
    "\n",
    "3. Un nuevo entrenador tiene que escoger entre 3 Pokemons iniciales (Bulbasaur, Charmander y Squirtle) y nos ha pedido que le ayudemos a decidir basándonos en las estadísticas de los pokemons de estos tres tipos (Grass, Fire y Water) . Si nos centramos sólo en las características de ataque y defensa, qué tipo deberíamos recomendar?\n",
    "\n",
    "**Representa las respuestas gráficamente.**\n",
    "\n",
    "Pista: podéis utilizar la función jointplot que hemos visto en el Notebook de teoría. Considerad qué tipo de gráfica, de entre las que ofrece jointplot, se ajusta a los requerimientos del enunciado.\n",
    "\n",
    "**(2.5 puntos)**"
   ]
  },
  {
   "cell_type": "code",
   "execution_count": 1,
   "metadata": {},
   "outputs": [],
   "source": [
    "import pandas as pd\n",
    "import seaborn as sns\n",
    "import matplotlib.pyplot as plt\n",
    "import numpy as np"
   ]
  },
  {
   "cell_type": "code",
   "execution_count": 2,
   "metadata": {},
   "outputs": [],
   "source": [
    "path = '/Users/nicolasdalessandro/Desktop/Módulo 8/data/'"
   ]
  },
  {
   "cell_type": "code",
   "execution_count": 3,
   "metadata": {},
   "outputs": [],
   "source": [
    "df = pd.read_csv('pokemon.csv')"
   ]
  },
  {
   "cell_type": "code",
   "execution_count": 4,
   "metadata": {
    "scrolled": true
   },
   "outputs": [
    {
     "data": {
      "text/html": [
       "<div>\n",
       "<style scoped>\n",
       "    .dataframe tbody tr th:only-of-type {\n",
       "        vertical-align: middle;\n",
       "    }\n",
       "\n",
       "    .dataframe tbody tr th {\n",
       "        vertical-align: top;\n",
       "    }\n",
       "\n",
       "    .dataframe thead th {\n",
       "        text-align: right;\n",
       "    }\n",
       "</style>\n",
       "<table border=\"1\" class=\"dataframe\">\n",
       "  <thead>\n",
       "    <tr style=\"text-align: right;\">\n",
       "      <th></th>\n",
       "      <th>Number</th>\n",
       "      <th>Name</th>\n",
       "      <th>Type 1</th>\n",
       "      <th>Type 2</th>\n",
       "      <th>Total</th>\n",
       "      <th>HP</th>\n",
       "      <th>Attack</th>\n",
       "      <th>Defense</th>\n",
       "      <th>Sp. Atk</th>\n",
       "      <th>Sp. Def</th>\n",
       "      <th>Speed</th>\n",
       "      <th>Stage</th>\n",
       "      <th>Legendary</th>\n",
       "    </tr>\n",
       "  </thead>\n",
       "  <tbody>\n",
       "    <tr>\n",
       "      <td>0</td>\n",
       "      <td>1</td>\n",
       "      <td>Bulbasaur</td>\n",
       "      <td>Grass</td>\n",
       "      <td>Poison</td>\n",
       "      <td>318</td>\n",
       "      <td>45</td>\n",
       "      <td>49</td>\n",
       "      <td>49</td>\n",
       "      <td>65</td>\n",
       "      <td>65</td>\n",
       "      <td>45</td>\n",
       "      <td>1</td>\n",
       "      <td>False</td>\n",
       "    </tr>\n",
       "    <tr>\n",
       "      <td>1</td>\n",
       "      <td>2</td>\n",
       "      <td>Ivysaur</td>\n",
       "      <td>Grass</td>\n",
       "      <td>Poison</td>\n",
       "      <td>405</td>\n",
       "      <td>60</td>\n",
       "      <td>62</td>\n",
       "      <td>63</td>\n",
       "      <td>80</td>\n",
       "      <td>80</td>\n",
       "      <td>60</td>\n",
       "      <td>2</td>\n",
       "      <td>False</td>\n",
       "    </tr>\n",
       "    <tr>\n",
       "      <td>2</td>\n",
       "      <td>3</td>\n",
       "      <td>Venusaur</td>\n",
       "      <td>Grass</td>\n",
       "      <td>Poison</td>\n",
       "      <td>525</td>\n",
       "      <td>80</td>\n",
       "      <td>82</td>\n",
       "      <td>83</td>\n",
       "      <td>100</td>\n",
       "      <td>100</td>\n",
       "      <td>80</td>\n",
       "      <td>3</td>\n",
       "      <td>False</td>\n",
       "    </tr>\n",
       "    <tr>\n",
       "      <td>3</td>\n",
       "      <td>4</td>\n",
       "      <td>Charmander</td>\n",
       "      <td>Fire</td>\n",
       "      <td>NaN</td>\n",
       "      <td>309</td>\n",
       "      <td>39</td>\n",
       "      <td>52</td>\n",
       "      <td>43</td>\n",
       "      <td>60</td>\n",
       "      <td>50</td>\n",
       "      <td>65</td>\n",
       "      <td>1</td>\n",
       "      <td>False</td>\n",
       "    </tr>\n",
       "    <tr>\n",
       "      <td>4</td>\n",
       "      <td>5</td>\n",
       "      <td>Charmeleon</td>\n",
       "      <td>Fire</td>\n",
       "      <td>NaN</td>\n",
       "      <td>405</td>\n",
       "      <td>58</td>\n",
       "      <td>64</td>\n",
       "      <td>58</td>\n",
       "      <td>80</td>\n",
       "      <td>65</td>\n",
       "      <td>80</td>\n",
       "      <td>2</td>\n",
       "      <td>False</td>\n",
       "    </tr>\n",
       "  </tbody>\n",
       "</table>\n",
       "</div>"
      ],
      "text/plain": [
       "   Number        Name Type 1  Type 2  Total  HP  Attack  Defense  Sp. Atk  \\\n",
       "0       1   Bulbasaur  Grass  Poison    318  45      49       49       65   \n",
       "1       2     Ivysaur  Grass  Poison    405  60      62       63       80   \n",
       "2       3    Venusaur  Grass  Poison    525  80      82       83      100   \n",
       "3       4  Charmander   Fire     NaN    309  39      52       43       60   \n",
       "4       5  Charmeleon   Fire     NaN    405  58      64       58       80   \n",
       "\n",
       "   Sp. Def  Speed  Stage  Legendary  \n",
       "0       65     45      1      False  \n",
       "1       80     60      2      False  \n",
       "2      100     80      3      False  \n",
       "3       50     65      1      False  \n",
       "4       65     80      2      False  "
      ]
     },
     "execution_count": 4,
     "metadata": {},
     "output_type": "execute_result"
    }
   ],
   "source": [
    "df.head()"
   ]
  },
  {
   "cell_type": "code",
   "execution_count": 5,
   "metadata": {},
   "outputs": [],
   "source": [
    "def make_pie_plot(labels,sizes,title=False):\n",
    "    # Pie chart\n",
    "    #colors\n",
    "    colors = ['#ff9999','#66b3ff','#99ff99','#ffcc99']\n",
    "    #explsion\n",
    "\n",
    "    plt.pie(sizes, labels=labels, autopct='%1.1f%%', startangle=90, pctdistance=0.85)\n",
    "    #draw circle\n",
    "    centre_circle = plt.Circle((0,0),0.70,fc='white')\n",
    "    fig = plt.gcf()\n",
    "\n",
    "    fig.gca().add_artist(centre_circle)\n",
    "    # Equal aspect ratio ensures that pie is drawn as a circle  \n",
    "    plt.tight_layout()\n",
    "    if title !=False:\n",
    "        plt.title(title)\n",
    "    plt.show()"
   ]
  },
  {
   "cell_type": "markdown",
   "metadata": {},
   "source": [
    "## Preprocessing"
   ]
  },
  {
   "cell_type": "markdown",
   "metadata": {},
   "source": [
    "Una best practice suele ser no tener columnas con espacios."
   ]
  },
  {
   "cell_type": "code",
   "execution_count": 6,
   "metadata": {},
   "outputs": [],
   "source": [
    "df.columns = df.columns.str.replace(' ', '_')"
   ]
  },
  {
   "cell_type": "markdown",
   "metadata": {},
   "source": [
    "#### Respuesta 1"
   ]
  },
  {
   "cell_type": "code",
   "execution_count": 7,
   "metadata": {},
   "outputs": [
    {
     "data": {
      "text/html": [
       "<div>\n",
       "<style scoped>\n",
       "    .dataframe tbody tr th:only-of-type {\n",
       "        vertical-align: middle;\n",
       "    }\n",
       "\n",
       "    .dataframe tbody tr th {\n",
       "        vertical-align: top;\n",
       "    }\n",
       "\n",
       "    .dataframe thead th {\n",
       "        text-align: right;\n",
       "    }\n",
       "</style>\n",
       "<table border=\"1\" class=\"dataframe\">\n",
       "  <thead>\n",
       "    <tr style=\"text-align: right;\">\n",
       "      <th></th>\n",
       "      <th>Legendary</th>\n",
       "      <th>Number</th>\n",
       "    </tr>\n",
       "  </thead>\n",
       "  <tbody>\n",
       "    <tr>\n",
       "      <th>0</th>\n",
       "      <td>False</td>\n",
       "      <td>147</td>\n",
       "    </tr>\n",
       "    <tr>\n",
       "      <th>1</th>\n",
       "      <td>True</td>\n",
       "      <td>4</td>\n",
       "    </tr>\n",
       "  </tbody>\n",
       "</table>\n",
       "</div>"
      ],
      "text/plain": [
       "   Legendary  Number\n",
       "0      False     147\n",
       "1       True       4"
      ]
     },
     "execution_count": 7,
     "metadata": {},
     "output_type": "execute_result"
    },
    {
     "data": {
      "image/png": "[encoded data removed]",
      "text/plain": [
       "<Figure size 432x288 with 1 Axes>"
      ]
     },
     "metadata": {
      "needs_background": "light"
     },
     "output_type": "display_data"
    }
   ],
   "source": [
    "groupe1 = df.groupby('Legendary').agg({'Number':'count'}).reset_index()\n",
    "g=sns.barplot(x='Legendary',y='Number',data=groupe1)\n",
    "groupe1"
   ]
  },
  {
   "cell_type": "code",
   "execution_count": 8,
   "metadata": {},
   "outputs": [
    {
     "data": {
      "image/png": "[encoded data removed]",
      "text/plain": [
       "<Figure size 432x288 with 1 Axes>"
      ]
     },
     "metadata": {},
     "output_type": "display_data"
    }
   ],
   "source": [
    "make_pie_plot(groupe1.Legendary.values,groupe1.Number.values,title = 'Percentage of Legendary pokemons')"
   ]
  },
  {
   "cell_type": "code",
   "execution_count": 9,
   "metadata": {},
   "outputs": [
    {
     "name": "stdout",
     "output_type": "stream",
     "text": [
      "Existen 4 pokemon legendarios.\n"
     ]
    }
   ],
   "source": [
    "print('Existen {} pokemon legendarios.'.format(df[df['Legendary'] == True].shape[0]))"
   ]
  },
  {
   "cell_type": "code",
   "execution_count": 10,
   "metadata": {
    "scrolled": true
   },
   "outputs": [
    {
     "data": {
      "text/html": [
       "<div>\n",
       "<style scoped>\n",
       "    .dataframe tbody tr th:only-of-type {\n",
       "        vertical-align: middle;\n",
       "    }\n",
       "\n",
       "    .dataframe tbody tr th {\n",
       "        vertical-align: top;\n",
       "    }\n",
       "\n",
       "    .dataframe thead th {\n",
       "        text-align: right;\n",
       "    }\n",
       "</style>\n",
       "<table border=\"1\" class=\"dataframe\">\n",
       "  <thead>\n",
       "    <tr style=\"text-align: right;\">\n",
       "      <th></th>\n",
       "      <th>Stage</th>\n",
       "      <th>Number</th>\n",
       "    </tr>\n",
       "  </thead>\n",
       "  <tbody>\n",
       "    <tr>\n",
       "      <th>0</th>\n",
       "      <td>1</td>\n",
       "      <td>79</td>\n",
       "    </tr>\n",
       "    <tr>\n",
       "      <th>1</th>\n",
       "      <td>2</td>\n",
       "      <td>56</td>\n",
       "    </tr>\n",
       "    <tr>\n",
       "      <th>2</th>\n",
       "      <td>3</td>\n",
       "      <td>16</td>\n",
       "    </tr>\n",
       "  </tbody>\n",
       "</table>\n",
       "</div>"
      ],
      "text/plain": [
       "   Stage  Number\n",
       "0      1      79\n",
       "1      2      56\n",
       "2      3      16"
      ]
     },
     "execution_count": 10,
     "metadata": {},
     "output_type": "execute_result"
    },
    {
     "data": {
      "image/png": "[encoded data removed]",
      "text/plain": [
       "<Figure size 432x288 with 1 Axes>"
      ]
     },
     "metadata": {
      "needs_background": "light"
     },
     "output_type": "display_data"
    }
   ],
   "source": [
    "groupe2 = df.groupby('Stage').agg({'Number':'count'}).reset_index()\n",
    "g=sns.barplot(x='Stage',y='Number',data=groupe2)\n",
    "groupe2"
   ]
  },
  {
   "cell_type": "code",
   "execution_count": 11,
   "metadata": {},
   "outputs": [
    {
     "data": {
      "image/png": "[encoded data removed]",
      "text/plain": [
       "<Figure size 432x288 with 1 Axes>"
      ]
     },
     "metadata": {},
     "output_type": "display_data"
    }
   ],
   "source": [
    "make_pie_plot(groupe2.Stage.values,groupe2.Number.values,title= 'Pokemos at stage')"
   ]
  },
  {
   "cell_type": "markdown",
   "metadata": {},
   "source": [
    "#### Respuesta 2"
   ]
  },
  {
   "cell_type": "code",
   "execution_count": 12,
   "metadata": {
    "scrolled": true
   },
   "outputs": [
    {
     "data": {
      "text/html": [
       "<div>\n",
       "<style scoped>\n",
       "    .dataframe tbody tr th:only-of-type {\n",
       "        vertical-align: middle;\n",
       "    }\n",
       "\n",
       "    .dataframe tbody tr th {\n",
       "        vertical-align: top;\n",
       "    }\n",
       "\n",
       "    .dataframe thead th {\n",
       "        text-align: right;\n",
       "    }\n",
       "</style>\n",
       "<table border=\"1\" class=\"dataframe\">\n",
       "  <thead>\n",
       "    <tr style=\"text-align: right;\">\n",
       "      <th></th>\n",
       "      <th>Type_1</th>\n",
       "      <th>Number</th>\n",
       "    </tr>\n",
       "  </thead>\n",
       "  <tbody>\n",
       "    <tr>\n",
       "      <th>0</th>\n",
       "      <td>Water</td>\n",
       "      <td>28</td>\n",
       "    </tr>\n",
       "    <tr>\n",
       "      <th>1</th>\n",
       "      <td>Normal</td>\n",
       "      <td>22</td>\n",
       "    </tr>\n",
       "    <tr>\n",
       "      <th>2</th>\n",
       "      <td>Poison</td>\n",
       "      <td>14</td>\n",
       "    </tr>\n",
       "    <tr>\n",
       "      <th>3</th>\n",
       "      <td>Bug</td>\n",
       "      <td>12</td>\n",
       "    </tr>\n",
       "    <tr>\n",
       "      <th>4</th>\n",
       "      <td>Fire</td>\n",
       "      <td>12</td>\n",
       "    </tr>\n",
       "    <tr>\n",
       "      <th>5</th>\n",
       "      <td>Grass</td>\n",
       "      <td>12</td>\n",
       "    </tr>\n",
       "    <tr>\n",
       "      <th>6</th>\n",
       "      <td>Electric</td>\n",
       "      <td>9</td>\n",
       "    </tr>\n",
       "    <tr>\n",
       "      <th>7</th>\n",
       "      <td>Rock</td>\n",
       "      <td>9</td>\n",
       "    </tr>\n",
       "    <tr>\n",
       "      <th>8</th>\n",
       "      <td>Ground</td>\n",
       "      <td>8</td>\n",
       "    </tr>\n",
       "    <tr>\n",
       "      <th>9</th>\n",
       "      <td>Psychic</td>\n",
       "      <td>8</td>\n",
       "    </tr>\n",
       "    <tr>\n",
       "      <th>10</th>\n",
       "      <td>Fighting</td>\n",
       "      <td>7</td>\n",
       "    </tr>\n",
       "    <tr>\n",
       "      <th>11</th>\n",
       "      <td>Dragon</td>\n",
       "      <td>3</td>\n",
       "    </tr>\n",
       "    <tr>\n",
       "      <th>12</th>\n",
       "      <td>Ghost</td>\n",
       "      <td>3</td>\n",
       "    </tr>\n",
       "    <tr>\n",
       "      <th>13</th>\n",
       "      <td>Fairy</td>\n",
       "      <td>2</td>\n",
       "    </tr>\n",
       "    <tr>\n",
       "      <th>14</th>\n",
       "      <td>Ice</td>\n",
       "      <td>2</td>\n",
       "    </tr>\n",
       "  </tbody>\n",
       "</table>\n",
       "</div>"
      ],
      "text/plain": [
       "      Type_1  Number\n",
       "0      Water      28\n",
       "1     Normal      22\n",
       "2     Poison      14\n",
       "3        Bug      12\n",
       "4       Fire      12\n",
       "5      Grass      12\n",
       "6   Electric       9\n",
       "7       Rock       9\n",
       "8     Ground       8\n",
       "9    Psychic       8\n",
       "10  Fighting       7\n",
       "11    Dragon       3\n",
       "12     Ghost       3\n",
       "13     Fairy       2\n",
       "14       Ice       2"
      ]
     },
     "execution_count": 12,
     "metadata": {},
     "output_type": "execute_result"
    },
    {
     "data": {
      "image/png": "[encoded data removed]",
      "text/plain": [
       "<Figure size 432x288 with 1 Axes>"
      ]
     },
     "metadata": {
      "needs_background": "light"
     },
     "output_type": "display_data"
    }
   ],
   "source": [
    "groupe3 = df.groupby('Type_1').agg({'Number':'count'}).reset_index()\n",
    "groupe3 = groupe3.sort_values('Number', ascending = False).reset_index(drop=True)\n",
    "g=sns.barplot(x='Type_1',y='Number',data=groupe3)\n",
    "g.set_xticklabels(g.get_xticklabels(), rotation=45, horizontalalignment='right')\n",
    "groupe3"
   ]
  },
  {
   "cell_type": "code",
   "execution_count": 13,
   "metadata": {},
   "outputs": [
    {
     "data": {
      "image/png": "[encoded data removed]",
      "text/plain": [
       "<Figure size 432x288 with 1 Axes>"
      ]
     },
     "metadata": {},
     "output_type": "display_data"
    }
   ],
   "source": [
    "make_pie_plot(groupe3.Type_1.values,groupe3.Number.values)"
   ]
  },
  {
   "cell_type": "code",
   "execution_count": 15,
   "metadata": {},
   "outputs": [
    {
     "name": "stdout",
     "output_type": "stream",
     "text": [
      "El tipo con mayor frecuencia es \"Water\" y el de menor frecuencia \"Ice\"\n"
     ]
    }
   ],
   "source": [
    "print('El tipo con mayor frecuencia es \"{}\" y el de menor frecuencia \"{}\"'.format(\n",
    "    groupe3.loc[0,'Type_1'], groupe3.loc[len(groupe3.index)-1,'Type_1']))"
   ]
  },
  {
   "cell_type": "markdown",
   "metadata": {},
   "source": [
    "#### Respuesta 3"
   ]
  },
  {
   "cell_type": "code",
   "execution_count": 16,
   "metadata": {
    "scrolled": true
   },
   "outputs": [
    {
     "data": {
      "text/html": [
       "<div>\n",
       "<style scoped>\n",
       "    .dataframe tbody tr th:only-of-type {\n",
       "        vertical-align: middle;\n",
       "    }\n",
       "\n",
       "    .dataframe tbody tr th {\n",
       "        vertical-align: top;\n",
       "    }\n",
       "\n",
       "    .dataframe thead th {\n",
       "        text-align: right;\n",
       "    }\n",
       "</style>\n",
       "<table border=\"1\" class=\"dataframe\">\n",
       "  <thead>\n",
       "    <tr style=\"text-align: right;\">\n",
       "      <th></th>\n",
       "      <th>Number</th>\n",
       "      <th>Name</th>\n",
       "      <th>Type_1</th>\n",
       "      <th>Type_2</th>\n",
       "      <th>Total</th>\n",
       "      <th>HP</th>\n",
       "      <th>Attack</th>\n",
       "      <th>Defense</th>\n",
       "      <th>Sp._Atk</th>\n",
       "      <th>Sp._Def</th>\n",
       "      <th>Speed</th>\n",
       "      <th>Stage</th>\n",
       "      <th>Legendary</th>\n",
       "    </tr>\n",
       "  </thead>\n",
       "  <tbody>\n",
       "    <tr>\n",
       "      <th>0</th>\n",
       "      <td>1</td>\n",
       "      <td>Bulbasaur</td>\n",
       "      <td>Grass</td>\n",
       "      <td>Poison</td>\n",
       "      <td>318</td>\n",
       "      <td>45</td>\n",
       "      <td>49</td>\n",
       "      <td>49</td>\n",
       "      <td>65</td>\n",
       "      <td>65</td>\n",
       "      <td>45</td>\n",
       "      <td>1</td>\n",
       "      <td>False</td>\n",
       "    </tr>\n",
       "    <tr>\n",
       "      <th>3</th>\n",
       "      <td>4</td>\n",
       "      <td>Charmander</td>\n",
       "      <td>Fire</td>\n",
       "      <td>NaN</td>\n",
       "      <td>309</td>\n",
       "      <td>39</td>\n",
       "      <td>52</td>\n",
       "      <td>43</td>\n",
       "      <td>60</td>\n",
       "      <td>50</td>\n",
       "      <td>65</td>\n",
       "      <td>1</td>\n",
       "      <td>False</td>\n",
       "    </tr>\n",
       "    <tr>\n",
       "      <th>6</th>\n",
       "      <td>7</td>\n",
       "      <td>Squirtle</td>\n",
       "      <td>Water</td>\n",
       "      <td>NaN</td>\n",
       "      <td>314</td>\n",
       "      <td>44</td>\n",
       "      <td>48</td>\n",
       "      <td>65</td>\n",
       "      <td>50</td>\n",
       "      <td>64</td>\n",
       "      <td>43</td>\n",
       "      <td>1</td>\n",
       "      <td>False</td>\n",
       "    </tr>\n",
       "  </tbody>\n",
       "</table>\n",
       "</div>"
      ],
      "text/plain": [
       "   Number        Name Type_1  Type_2  Total  HP  Attack  Defense  Sp._Atk  \\\n",
       "0       1   Bulbasaur  Grass  Poison    318  45      49       49       65   \n",
       "3       4  Charmander   Fire     NaN    309  39      52       43       60   \n",
       "6       7    Squirtle  Water     NaN    314  44      48       65       50   \n",
       "\n",
       "   Sp._Def  Speed  Stage  Legendary  \n",
       "0       65     45      1      False  \n",
       "3       50     65      1      False  \n",
       "6       64     43      1      False  "
      ]
     },
     "execution_count": 16,
     "metadata": {},
     "output_type": "execute_result"
    }
   ],
   "source": [
    "df[df['Name'].isin(['Bulbasaur', 'Charmander','Squirtle'])]"
   ]
  },
  {
   "cell_type": "code",
   "execution_count": 17,
   "metadata": {},
   "outputs": [],
   "source": [
    "top3 = df[df['Name'].isin(['Bulbasaur', 'Charmander','Squirtle'])].copy()"
   ]
  },
  {
   "cell_type": "markdown",
   "metadata": {},
   "source": [
    " **Si nos centramos sólo en las características de ataque y defensa, qué tipo deberíamos recomendar?**"
   ]
  },
  {
   "cell_type": "code",
   "execution_count": 27,
   "metadata": {},
   "outputs": [
    {
     "data": {
      "image/png": "[encoded data removed]",
      "text/plain": [
       "<Figure size 432x288 with 1 Axes>"
      ]
     },
     "metadata": {},
     "output_type": "display_data"
    },
    {
     "data": {
      "image/png": "[encoded data removed]",
      "text/plain": [
       "<Figure size 432x288 with 1 Axes>"
      ]
     },
     "metadata": {},
     "output_type": "display_data"
    }
   ],
   "source": [
    "make_pie_plot(top3.Name.values,top3.Attack.values,title = 'Ataque')\n",
    "make_pie_plot(top3.Name.values,top3.Defense.values,title = 'Defensa')"
   ]
  },
  {
   "cell_type": "markdown",
   "metadata": {},
   "source": [
    "Para evaluar correctamente que Pokemon elegir basandonos solamente en defensa y ataque creamos la variable **Calidad**:\n",
    "\n",
    "\\begin{equation*}\n",
    "Calidad = Defensa + Ataque\n",
    "\\end{equation*}"
   ]
  },
  {
   "cell_type": "code",
   "execution_count": 20,
   "metadata": {},
   "outputs": [],
   "source": [
    "top3['Calidad'] = top3['Defense']+top3['Attack']"
   ]
  },
  {
   "cell_type": "code",
   "execution_count": 21,
   "metadata": {
    "scrolled": true
   },
   "outputs": [
    {
     "data": {
      "image/png": "[encoded data removed]",
      "text/plain": [
       "<Figure size 432x288 with 1 Axes>"
      ]
     },
     "metadata": {},
     "output_type": "display_data"
    }
   ],
   "source": [
    "make_pie_plot(top3.Name.values,top3.Calidad.values,title = 'Calidad')"
   ]
  },
  {
   "cell_type": "markdown",
   "metadata": {},
   "source": [
    "Hemos definido el indicador 'Calidad'. El pokemon con mejor calidad es Squirtle"
   ]
  },
  {
   "cell_type": "code",
   "execution_count": 29,
   "metadata": {},
   "outputs": [
    {
     "data": {
      "text/html": [
       "<div>\n",
       "<style scoped>\n",
       "    .dataframe tbody tr th:only-of-type {\n",
       "        vertical-align: middle;\n",
       "    }\n",
       "\n",
       "    .dataframe tbody tr th {\n",
       "        vertical-align: top;\n",
       "    }\n",
       "\n",
       "    .dataframe thead th {\n",
       "        text-align: right;\n",
       "    }\n",
       "</style>\n",
       "<table border=\"1\" class=\"dataframe\">\n",
       "  <thead>\n",
       "    <tr style=\"text-align: right;\">\n",
       "      <th></th>\n",
       "      <th>Number</th>\n",
       "      <th>Name</th>\n",
       "      <th>Type_1</th>\n",
       "      <th>Type_2</th>\n",
       "      <th>Total</th>\n",
       "      <th>HP</th>\n",
       "      <th>Attack</th>\n",
       "      <th>Defense</th>\n",
       "      <th>Sp._Atk</th>\n",
       "      <th>Sp._Def</th>\n",
       "      <th>Speed</th>\n",
       "      <th>Stage</th>\n",
       "      <th>Legendary</th>\n",
       "      <th>Calidad</th>\n",
       "    </tr>\n",
       "  </thead>\n",
       "  <tbody>\n",
       "    <tr>\n",
       "      <th>6</th>\n",
       "      <td>7</td>\n",
       "      <td>Squirtle</td>\n",
       "      <td>Water</td>\n",
       "      <td>NaN</td>\n",
       "      <td>314</td>\n",
       "      <td>44</td>\n",
       "      <td>48</td>\n",
       "      <td>65</td>\n",
       "      <td>50</td>\n",
       "      <td>64</td>\n",
       "      <td>43</td>\n",
       "      <td>1</td>\n",
       "      <td>False</td>\n",
       "      <td>113</td>\n",
       "    </tr>\n",
       "    <tr>\n",
       "      <th>0</th>\n",
       "      <td>1</td>\n",
       "      <td>Bulbasaur</td>\n",
       "      <td>Grass</td>\n",
       "      <td>Poison</td>\n",
       "      <td>318</td>\n",
       "      <td>45</td>\n",
       "      <td>49</td>\n",
       "      <td>49</td>\n",
       "      <td>65</td>\n",
       "      <td>65</td>\n",
       "      <td>45</td>\n",
       "      <td>1</td>\n",
       "      <td>False</td>\n",
       "      <td>98</td>\n",
       "    </tr>\n",
       "    <tr>\n",
       "      <th>3</th>\n",
       "      <td>4</td>\n",
       "      <td>Charmander</td>\n",
       "      <td>Fire</td>\n",
       "      <td>NaN</td>\n",
       "      <td>309</td>\n",
       "      <td>39</td>\n",
       "      <td>52</td>\n",
       "      <td>43</td>\n",
       "      <td>60</td>\n",
       "      <td>50</td>\n",
       "      <td>65</td>\n",
       "      <td>1</td>\n",
       "      <td>False</td>\n",
       "      <td>95</td>\n",
       "    </tr>\n",
       "  </tbody>\n",
       "</table>\n",
       "</div>"
      ],
      "text/plain": [
       "   Number        Name Type_1  Type_2  Total  HP  Attack  Defense  Sp._Atk  \\\n",
       "6       7    Squirtle  Water     NaN    314  44      48       65       50   \n",
       "0       1   Bulbasaur  Grass  Poison    318  45      49       49       65   \n",
       "3       4  Charmander   Fire     NaN    309  39      52       43       60   \n",
       "\n",
       "   Sp._Def  Speed  Stage  Legendary  Calidad  \n",
       "6       64     43      1      False      113  \n",
       "0       65     45      1      False       98  \n",
       "3       50     65      1      False       95  "
      ]
     },
     "execution_count": 29,
     "metadata": {},
     "output_type": "execute_result"
    }
   ],
   "source": [
    "top3.sort_values('Calidad',ascending=False)"
   ]
  },
  {
   "cell_type": "code",
   "execution_count": 25,
   "metadata": {
    "scrolled": true
   },
   "outputs": [
    {
     "data": {
      "text/plain": [
       "<seaborn.axisgrid.JointGrid at 0x128ff0f50>"
      ]
     },
     "execution_count": 25,
     "metadata": {},
     "output_type": "execute_result"
    },
    {
     "data": {
      "image/png": "[encoded data removed]",
      "text/plain": [
       "<Figure size 432x432 with 3 Axes>"
      ]
     },
     "metadata": {
      "needs_background": "light"
     },
     "output_type": "display_data"
    }
   ],
   "source": [
    "sns.jointplot(x=top3.Attack,y=top3.Defense,kind=\"kde\", space=0, color=\"g\")"
   ]
  },
  {
   "cell_type": "markdown",
   "metadata": {},
   "source": [
    "# No tengo muy claro lo que has hecho aqui"
   ]
  },
  {
   "cell_type": "code",
   "execution_count": null,
   "metadata": {
    "scrolled": true
   },
   "outputs": [],
   "source": [
    "grouped4 = df[df['Type 1'].isin(['Water', 'Fire', 'Grass'])]\n",
    "grouped4 = grouped4.groupby('Type 1').agg({'Attack':'mean', 'Defense':'mean'}).round(2).reset_index()\n",
    "grouped4"
   ]
  },
  {
   "cell_type": "code",
   "execution_count": null,
   "metadata": {},
   "outputs": [],
   "source": [
    "g = sns.jointplot(\"Attack\", \"Defense\", \n",
    "                  data=grouped4, \n",
    "                  kind=\"scatter\", \n",
    "                  space=0, color=\"g\", height=10)"
   ]
  },
  {
   "cell_type": "markdown",
   "metadata": {},
   "source": [
    "### Exercici 2"
   ]
  },
  {
   "cell_type": "markdown",
   "metadata": {},
   "source": [
    "La ciudad de Barcelona está realizando un estudio para ampliar las áreas verdes de la ciudad. Es por ello que el ayuntamiento de Barcelona requiere de nuestro servicio para construir un mapa **interactivo** que muestre los puntos donde hay árboles y palmeras en la ciudad.\n",
    "\n",
    "Nos piden crear un mapa utilizando la librería _geoplotlib_ que nos debe permitir ver la localización de cada árbol/palmera. <span style=\"font-family: Courier New; background-color: #ffcc5c; color: #000000; padding: 3px; \">EG</span>\n",
    "\n",
    "Nota 1: Puede obtener los datos del arbolado de zona de la ciudad de Barcelona en el portal [Open Data BCN](https://opendata-ajuntament.barcelona.cat/data/es/dataset) y [cargar los datos](https://github.com/andrea-cuttone/geoplotlib/wiki/user-Guide#loading-data) a partir de un diccionario o un dataframe. Sino también puede cargar el conjunto de datos `arbrat_zona.csv` **(que os proporcionamos junto con el enunciado de la PEC)**.\n",
    "\n",
    "Nota 2: Es importante que los tipos diferentes de zonas (arbol o palmera) tengan distinto color en el mapa.\n",
    "\n",
    "**(2.5 puntos)**"
   ]
  },
  {
   "cell_type": "code",
   "execution_count": null,
   "metadata": {},
   "outputs": [],
   "source": [
    "data = pd.read_csv(path + 'arbrat_zona.csv', encoding = 'utf-8')\n",
    "data = data.rename(columns={'LATITUD_WGS84':'lat', 'LONGITUD_WGS84':'lon' })\n",
    "data = data.drop(columns=['X_ETRS89', 'Y_ETRS89'])"
   ]
  },
  {
   "cell_type": "code",
   "execution_count": null,
   "metadata": {},
   "outputs": [],
   "source": [
    "data1 = data[data['TIPUS_ELEMENT'] == 'PALMERA ZONA']\n",
    "data1.head(2)"
   ]
  },
  {
   "cell_type": "code",
   "execution_count": null,
   "metadata": {},
   "outputs": [],
   "source": [
    "data2 = data[data['TIPUS_ELEMENT'] == 'ARBRE ZONA']\n",
    "data2.head(2)"
   ]
  },
  {
   "cell_type": "code",
   "execution_count": null,
   "metadata": {},
   "outputs": [],
   "source": [
    "import geoplotlib\n",
    "\n",
    "data1 = geoplotlib.utils.DataAccessObject.from_dataframe(data)\n",
    "data2 = geoplotlib.utils.DataAccessObject.from_dataframe(data2)\n",
    "\n",
    "# Mostramos los puntos del fichero directamente sobre un mapa en color azul.\n",
    "geoplotlib.dot(data1, color='g', point_size=2.75)\n",
    "geoplotlib.dot(data2, color='b', point_size=2.75)\n",
    "\n",
    "# Mostramos el mapa dentro del notebook.\n",
    "geoplotlib.inline()"
   ]
  },
  {
   "cell_type": "markdown",
   "metadata": {},
   "source": [
    "### Ejercicio 3\n",
    "\n",
    "Teniendo en cuenta los datos obtenidos en el ejercicio anterior, el ayuntamiento de Barcelona también nos pide llevar a cabo un análisis descriptivo de los árboles. <span style=\"font-family: Courier New; background-color: #82b74b; color: #000000; padding: 3px; \">NM</span> \n",
    "\n",
    "1. ¿Cuántos árboles y cuántas palmeras han plantado cada año? **Ver resultados separados para cada grupo (árbol y palmera).**\n",
    "\n",
    "2. Adicionalmente, se nos pide generar una gráfica que muestre la **distribución** de los meses en los que se han plantado árboles y palmeras en los últimos 3 años (de 2017 2019).\n",
    "\n",
    "Nota 1: La columna con la información de la fecha de plantación tiene missing. Por lo tanto, se deben seleccionar sólo aquellas filas con este dato.\n",
    "\n",
    "Nota 2: Para obtener la información del mes y año a partir de la fecha, puede utilizar la función _DatetimeIndex_ de la librería pandas.\n",
    "\n",
    "Nota 3: La visualización de los datos debería ser atractiva y clara a fin de que los responsables del ayuntamiento puedan sacar conclusiones de ellas.\n",
    "\n",
    "\n",
    "**(2.5 puntos)**"
   ]
  },
  {
   "cell_type": "code",
   "execution_count": null,
   "metadata": {},
   "outputs": [],
   "source": [
    "#cargamos el dataset nuevamente\n",
    "df = pd.read_csv(path + 'arbrat_zona.csv', encoding = 'utf-8')"
   ]
  },
  {
   "cell_type": "code",
   "execution_count": null,
   "metadata": {},
   "outputs": [],
   "source": [
    "#aplicamos las funciones para explorar nuestro dataset"
   ]
  },
  {
   "cell_type": "code",
   "execution_count": null,
   "metadata": {},
   "outputs": [],
   "source": [
    "def cleanUp_columns(data):\n",
    "    '''\n",
    "    This function map column names with values in lowercase and low_uderscore instead of spaces if apply.\n",
    "        >>> Parameter 1: [DataFrame] Pandas DataFrame.\n",
    "        ------------------------------------------------\n",
    "        <<< Return: None\n",
    "    '''\n",
    "    data.rename(columns= {column: column.lower().replace(' ', '_') for column in data.columns.tolist()},\n",
    "                inplace = True)"
   ]
  },
  {
   "cell_type": "code",
   "execution_count": null,
   "metadata": {},
   "outputs": [],
   "source": [
    "cleanUp_columns(df)\n",
    "df.columns"
   ]
  },
  {
   "cell_type": "code",
   "execution_count": null,
   "metadata": {},
   "outputs": [],
   "source": [
    "#chequeamos valores nulos en nuestro dataset\n",
    "\n",
    "def nullvaluesf_count(data):\n",
    "    '''\n",
    "    This function displays the features that contains null values as well as the correspondig count:\n",
    "        >>> Parameter 1: [DataFrame] Pandas DataFrame.\n",
    "        ------------------------------------------------\n",
    "        <<< Return: Features with null values and count.\n",
    "    '''\n",
    "    print('Features with null values:')\n",
    "    null_values = {}\n",
    "    for i in data.columns[data.isnull().any()]:\n",
    "        null_values[i] = data.shape[0] - data.loc[:, i].count()\n",
    "        \n",
    "    return null_values"
   ]
  },
  {
   "cell_type": "code",
   "execution_count": null,
   "metadata": {},
   "outputs": [],
   "source": [
    "nullvaluesf_count(df)"
   ]
  },
  {
   "cell_type": "code",
   "execution_count": null,
   "metadata": {},
   "outputs": [],
   "source": [
    "#Como explica el enunciado \"La columna con la información de la fecha de plantación tiene missing\" \n",
    "#Filtraremos nuestro df con sólo aquellas filas que contengan este dato.\n",
    "df = df[df['data_plantacio'].isna() == False].reset_index()"
   ]
  },
  {
   "cell_type": "code",
   "execution_count": null,
   "metadata": {},
   "outputs": [],
   "source": [
    "#comprobamos que no haya valores nulos\n",
    "df['data_plantacio'].isna().any()"
   ]
  },
  {
   "cell_type": "code",
   "execution_count": null,
   "metadata": {},
   "outputs": [],
   "source": [
    "#convertimos a DateTime la columna 'data_plantacio'\n",
    "df['data_plantacio'] = pd.to_datetime(df['data_plantacio'])"
   ]
  },
  {
   "cell_type": "code",
   "execution_count": null,
   "metadata": {},
   "outputs": [],
   "source": [
    "#comprobamos los \"dtypes\" de nuestro dataset\n",
    "df['data_plantacio'].dtypes"
   ]
  },
  {
   "cell_type": "code",
   "execution_count": null,
   "metadata": {},
   "outputs": [],
   "source": [
    "#creamos la columna 'año_plantacio' y 'mes_plantacio' para las graficas necesarias\n",
    "df['año_plantacio'] = df['data_plantacio'].dt.strftime('%Y')\n",
    "df['mes_plantacio'] = df['data_plantacio'].dt.strftime('%Y-%m')\n",
    "df = df.drop(columns='index')\n",
    "df.head()"
   ]
  },
  {
   "cell_type": "code",
   "execution_count": null,
   "metadata": {},
   "outputs": [],
   "source": [
    "#creamos una función para graficar la respuesta 1\n",
    "\n",
    "def answer1(df): \n",
    "    #filtramos los datos solicitados en el enunciado\n",
    "    table1 = df[df['tipus_element'] ==\n",
    "                'ARBRE ZONA'].groupby('año_plantacio').agg({'tipus_element':'count'}).reset_index()\n",
    "    table2 = df[df['tipus_element'] == \n",
    "                'PALMERA ZONA'].groupby('año_plantacio').agg({'tipus_element':'count'}).reset_index()\n",
    "    table1 = table1.rename(columns = {'tipus_element': 'arbre'})\n",
    "    table2 = table2.rename(columns = {'tipus_element': 'palmera'})\n",
    "\n",
    "    #unimos las agrupaciones\n",
    "    filtered = pd.merge(table1,\n",
    "                     table2,\n",
    "                     on='año_plantacio', \n",
    "                     how='outer')\n",
    "\n",
    "    filtered.fillna(0, inplace = True)\n",
    "\n",
    "    filtered['palmera'] = filtered['palmera'].astype(int)\n",
    "\n",
    "    #finalmente obtenemos el dataframe necesario para realizar el ejercicio y graficamos\n",
    "    display(filtered)\n",
    "    sns.set()\n",
    "    f, ax = plt.subplots(2, 1, figsize=(15, 7), sharex=False)\n",
    "    g1 = sns.catplot(x='año_plantacio', y='arbre', data=filtered, kind='bar', ax=ax[0])\n",
    "    g2 = sns.catplot(x='año_plantacio', y='palmera', data=filtered, kind='bar', ax=ax[1])\n",
    "    \n",
    "    return plt.show()"
   ]
  },
  {
   "cell_type": "code",
   "execution_count": null,
   "metadata": {},
   "outputs": [],
   "source": [
    "answer1(df)"
   ]
  },
  {
   "cell_type": "code",
   "execution_count": null,
   "metadata": {},
   "outputs": [],
   "source": [
    "#creamos una función para graficar la respuesta 1\n",
    "\n",
    "def answer2(df): \n",
    "    \n",
    "    df = df[df['año_plantacio'].isin(['2017', '2018', '2019'])]\n",
    "    \n",
    "    #filtramos los datos solicitados en el enunciado\n",
    "    table1 = df[df['tipus_element'] ==\n",
    "                'ARBRE ZONA'].groupby('mes_plantacio').agg({'tipus_element':'count'}).reset_index()\n",
    "    table2 = df[df['tipus_element'] == \n",
    "                'PALMERA ZONA'].groupby('mes_plantacio').agg({'tipus_element':'count'}).reset_index()\n",
    "    table1 = table1.rename(columns = {'tipus_element': 'arbre'})\n",
    "    table2 = table2.rename(columns = {'tipus_element': 'palmera'})\n",
    "\n",
    "    #unimos las agrupaciones\n",
    "    filtered = pd.merge(table1,\n",
    "                     table2,\n",
    "                     on= 'mes_plantacio',\n",
    "                     how='outer')\n",
    "\n",
    "    filtered.fillna(0, inplace = True)\n",
    "\n",
    "    filtered['palmera'] = filtered['palmera'].astype(int)\n",
    "    filtered['arbre'] = filtered['arbre'].astype(int)\n",
    "    filtered = filtered.sort_values('mes_plantacio')\n",
    "\n",
    "    #finalmente obtenemos el dataframe necesario para realizar el ejercicio y graficamos\n",
    "    display(filtered)\n",
    "    sns.set()\n",
    "    f, ax = plt.subplots(2, 1, figsize=(15, 7), sharex=False)\n",
    "    g1 = sns.lineplot(x=\"mes_plantacio\", y=\"arbre\", data=filtered, ax=ax[0])\n",
    "    g1.set_xticklabels(g1.get_xticklabels(), rotation=45)\n",
    "    g2 = sns.lineplot(x=\"mes_plantacio\", y=\"palmera\", data=filtered, color= 'g', ax=ax[1])\n",
    "    g2.set_xticklabels(g2.get_xticklabels(), rotation=45)\n",
    "    \n",
    "    return plt.show()"
   ]
  },
  {
   "cell_type": "code",
   "execution_count": null,
   "metadata": {},
   "outputs": [],
   "source": [
    "answer2(df)"
   ]
  },
  {
   "cell_type": "markdown",
   "metadata": {},
   "source": [
    "### Ejercicio 4\n",
    "\n",
    "Juego de Tronos es conocida por las complicadas interacciones entre sus personajes. En este ejercicio trabajaremos con el conjunto de datos `book1.csv` que constituye una red de las relaciones entre los personajes del primer libro de _Juego de Tronos_. <span style=\"font-family: Courier New; background-color: #ffcc5c; color: #000000; padding: 3px; \">EG</span>\n",
    "\n",
    "Cada fila representa un link entre 2 personajes (Source y Target) y el valor (Weight) indica el número de veces que han interaccionado.\n",
    "\n",
    "1. Representad gráficamente el grafo y pintad de diferente color cada comunidad detectada.\n",
    "\n",
    "2. Cuál es el personaje más importante del primer libro de Juego de Tronos?\n",
    "\n",
    "Nota: La importancia de un nodo dentro de una red se mide con el número de nodos a los que está conectado. Esta característica se conoce con el nombre de **degree_centrality**. Podéis ver este [link](https://networkx.github.io/documentation/stable/reference/algorithms/generated/networkx.algorithms.centrality.degree_centrality.html#networkx.algorithms.centrality.degree_centrality) para más información:\n",
    "\n",
    "**(2.5 puntos)**"
   ]
  },
  {
   "cell_type": "code",
   "execution_count": null,
   "metadata": {},
   "outputs": [],
   "source": [
    "# Datos disponibles para el ejercicio\n",
    "\n",
    "import numpy as np\n",
    "import pandas as pd\n",
    "import matplotlib.pyplot as plt\n",
    "import networkx as nx \n",
    "\n",
    "# Cargamos los datos del fichero book1.csv en un dataframe\n",
    "book1 = pd.read_csv('data/book1.csv')\n",
    "\n",
    "# Creamos un objeto grafo vacío\n",
    "G_book1 = nx.Graph()\n",
    "\n",
    "# Iteramos para todas las filas del dataset\n",
    "for _, edge in book1.iterrows():\n",
    "    G_book1.add_edge(edge['Source'], edge['Target'], weight=edge['weight'])"
   ]
  },
  {
   "cell_type": "code",
   "execution_count": null,
   "metadata": {},
   "outputs": [],
   "source": [
    "book1.head()"
   ]
  },
  {
   "cell_type": "markdown",
   "metadata": {},
   "source": [
    "# Importamos la librería de detección de comunidades.\n",
    "import community\n",
    "from community import best_partitio\n",
    "# Generamos una nueva figura.\n",
    "plt.figure(1, figsize=(12, 10))\n",
    "# Calculamos las posiciones de los nodos del grafo en el plano con el algoritmo # spring.\n",
    "graph_pos = nx.spring_layout(G)\n",
    "# Detectamos las comunidades existentes en el grafo.\n",
    "partition = community.best_partition(G)\n",
    "# Definimos los colores que utilizaremos para los nodos.\n",
    "colors = ['green', 'blue', 'red', 'orange', 'yellow', 'magenta', 'white'] # Para cada comunidad detectada, mostramos los nodos:\n",
    "for count, com in enumerate(set(partition.values())):\n",
    "# Seleccionamos los nodos de la comunidad que estamos procesando.\n",
    "list_nodes = [nodes for nodes in partition.keys() if partition[nodes] == com]\n",
    "# Mostramos los nodos, coloreados según la comunidad a la que pertenecen.\n",
    "nx.draw_networkx_nodes(G, graph_pos, list_nodes, node_size = 800,\n",
    "node_color = colors[count], alpha = 0.5)\n",
    "# Mostramos las aristas del grafo, especificando la posición,\n",
    "# el color y la transparencia.\n",
    "nx.draw_networkx_edges(G, graph_pos, edge_color='k', alpha=0.3)\n",
    "# Mostramos las etiquetas, indicando la fuente y el tamaño.\n",
    "a = nx.draw_networkx_labels(G, graph_pos, font_size=12,␣ 􏰀→font_family='sans-serif')"
   ]
  },
  {
   "cell_type": "code",
   "execution_count": null,
   "metadata": {},
   "outputs": [],
   "source": [
    "import community"
   ]
  },
  {
   "cell_type": "markdown",
   "metadata": {},
   "source": [
    "### Ejercicio Opcional\n",
    "\n",
    "Mediante la _degree centrality_ hemos podido descubrir cuál es el personaje más importante del primer libro de _Juego de Tronos_. Sin embargo, esta saga consta de cinco volúmenes, por lo tanto, tiene sentido que la importancia de los personajes cambie a lo largo de los cinco libros.\n",
    "\n",
    "En este ejercicio estudiaremos la evolución de los personajes mediante la red de relaciones de los cinco libros. Trabajaremos con los conjuntos de datos `book1.csv`,` book2.csv`, `book3.csv`,` book4.csv` y `book5.csv` **(que os proporcionamos junto con el enunciado de la PEC)**. <span style=\"font-family: Courier New; background-color: #f2ae72; color: #000000; padding: 3px; \">EI</span>\n",
    "\n",
    "- ¿Cuál es el personaje más importante de cada libro?\n",
    "- Muestra gráficamente cómo varía la importancia de Eddard Stark, Arya Stark, Tyrion Lannister, Jon Snow y Cersei Lannister en cada libro."
   ]
  },
  {
   "cell_type": "code",
   "execution_count": null,
   "metadata": {},
   "outputs": [],
   "source": [
    "# Respuesta"
   ]
  },
  {
   "cell_type": "markdown",
   "metadata": {},
   "source": [
    "---\n",
    "\n",
    "## Soluciones a los ejercicios para practicar"
   ]
  },
  {
   "cell_type": "markdown",
   "metadata": {},
   "source": [
    "### Ejercicio 1\n",
    "\n",
    "Cargad el conjunto de datos `pulitzer-circulation-data.csv` en un dataframe de Pandas. La fuente original de este conjunto de datos es el repositorio de datos de [FiveThirtyEight] (https://github.com/fivethirtyeight/data).\n",
    "\n",
    "Cread un diagrama de dispersión que permita visualizar las muestras del conjunto de datos de pulitzer según las variables `Daily Circulation 2004` y `Daily Circulation 2013`. Incluid una recta con el ajuste lineal entre las dos variables. En cuanto a los detalles de visualización, limitad la visualización de ambos ejes en el intervalo (0, 1000000), utilice el estilo `whitegrid` de Seaborn, y dibuja los puntos y la línea en color verde.\n",
    "\n",
    "Pista: podéis utilizar la función `jointplot` que hemos visto en el Notebook de explicación. Considerad qué tipo de gráfica, [de entre las que ofrece jointplot] (http://seaborn.pydata.org/generated/seaborn.jointplot.html), se ajusta a los requerimientos del enunciado."
   ]
  },
  {
   "cell_type": "code",
   "execution_count": null,
   "metadata": {},
   "outputs": [],
   "source": [
    "# Importamos las librerías\n",
    "import pandas as pd\n",
    "import seaborn as sns\n",
    "\n",
    "# Mostramos las gráficas en el notebook\n",
    "%matplotlib inline\n",
    "\n",
    "# Indicamos que queremos utilizar el estilo \"whitegrid\" de Seaborn\n",
    "sns.set_style(\"whitegrid\")\n",
    "\n",
    "# Cargamos los datos del fichero pulitzer-circulation-data.csv en un dataframe\n",
    "data = pd.read_csv('data/pulitzer-circulation-data.csv')\n",
    "\n",
    "# Generamos la gráfica de tipo \"reg\"\n",
    "g = sns.jointplot(\"Daily Circulation 2004\", \"Daily Circulation 2013\", data=data, \n",
    "                  xlim=[0, 1000000], ylim=[0, 1000000],\n",
    "                  kind=\"reg\", \n",
    "                  color=\"g\", height=8)"
   ]
  },
  {
   "cell_type": "markdown",
   "metadata": {},
   "source": [
    "### Ejercicio 2\n",
    "\n",
    "_Juego de Tronos_ es una serie de televisión basada en la famosa saga _Una Canción de Fuego y Hielo_ de George RR Martin. Esta serie es conocida por sus complejos escenarios políticos y bélicos, así como las numerosas muertes de personajes.\n",
    "\n",
    "En este ejercicio trabajamos con el dataset `battles.csv` que nos da información sobre las batallas que han tenido lugar a lo largo de _Juego de Tronos_.\n",
    "\n",
    "Cread un diagrama de puntos (_scatter_) que permita comparar el tamaño ( `attacker_size` vs` defender_size`) de los dos principales ejércitos involucrados en cada batalla. Utilizad la columna `attacker_outcome` para mostrar con diferentes colores el resultado de la batalla por el atacante.\n",
    "\n",
    "Podéis utilizar la función [ `lmplot`] (https://seaborn.pydata.org/generated/seaborn.lmplot.html) de Seaborn para generar la gráfica. Considerad qué atributos nos permiten crear este tipo de visualización.\n",
    "\n",
    "Viendo la gráfica, podemos afirmar que el tamaño del ejército es determinante en el _outcome_ de la batalla?\n",
    "\n",
    "Nota: utilizad el estilo `whitegrid` de Seaborn.\n"
   ]
  },
  {
   "cell_type": "code",
   "execution_count": null,
   "metadata": {},
   "outputs": [],
   "source": [
    "# Importamos las librerías\n",
    "import pandas as pd\n",
    "import seaborn as sns\n",
    "\n",
    "# Mostramos las gráficas en el notebook\n",
    "%matplotlib inline\n",
    "\n",
    "# Indicamos que queremos utilizar el estilo \"whitegrid\" de Seaborn\n",
    "sns.set(style=\"whitegrid\")\n",
    "\n",
    "# Cargamos los datos del fichero got.csv en un dataframe\n",
    "got_data = pd.read_csv('data/battles.csv')\n",
    "\n",
    "# Eliminamos las muestras con valores NaN en las columnas attacker_size o defender_size\n",
    "got_data = got_data.dropna(subset=[\"attacker_size\", \"defender_size\"])\n",
    "\n",
    "# Mostramos la gráfica\n",
    "sns.lmplot(x=\"attacker_size\", y=\"defender_size\", hue=\"attacker_outcome\", scatter=True, fit_reg=False, data=got_data)"
   ]
  },
  {
   "cell_type": "markdown",
   "metadata": {},
   "source": [
    "**Respuesta** \n",
    "\n",
    "Veient la gràfica anterior, no podem afirmar que la mida de l'exèrcit és determinant en l'outcome de la batalla. Com podem observar, hi ha casos on l'atacant perd la batalla tot i la superioritat numèrica de les tropes i a l'inrevés, l'atacant guanya la batalla tot i la superioritat numèrica del bàndol contrari."
   ]
  },
  {
   "cell_type": "markdown",
   "metadata": {},
   "source": [
    "### Ejercicio 3\n",
    "\n",
    "En los reinos de Poniente, los Grandes Maestros consideran que todo el mundo debería tener acceso a una biblioteca. Desgraciadamente, después de una gran guerra la red de carreteras que comunican estos reinos ha quedado gravemente afectada. Los Grandes Maestros nos han contratado para resolver las siguientes cuestiones:\n",
    "\n",
    "1. ¿Qué reinos han quedado sin poder acceder a una biblioteca?\n",
    "2. ¿Cuál es el número mínimo de bibliotecas que se deberían construir para que todo el mundo vuelva a tener acceso a una biblioteca? (Si no podemos re-construir ninguna carretera)\n",
    "3. ¿Cuál es el coste mínimo de re-construcción de carreteras a fin de que todo el mundo vuelva a tener acceso a una biblioteca? (Si no podemos construir ninguna biblioteca)\n",
    "4. Viendo la respuesta de la pregunta 2 y 3, que sería lo más óptimo teniendo en cuenta que queremos minimizar los costes?\n",
    "\n",
    "Para poder responder a estas preguntas, los Grandes Maestros nos facilitan la siguiente información:\n",
    "\n",
    "- Disponemos de un grafo con el estado de la red de carreteras entre los reinos.\n",
    "- Disponemos de un listado con las ciudades que disponen de una biblioteca.\n",
    "- Una ciudad se considera que tiene acceso a una biblioteca si existe una biblioteca en la misma ciudad o si los habitantes pueden viajar por carretera hasta otra ciudad con biblioteca.\n",
    "- El coste de construir una biblioteca es de 150.000 €.\n",
    "- El coste de re-construir una carretera es de 80.000 €.\n",
    "\n",
    "Nota: para resolver el ejercicio, **tenéis que generar una visualización del grafo que os permita responder a las cuatro preguntas planteadas**. Después, **recuerda responder a las cuatro preguntas!**\n"
   ]
  },
  {
   "cell_type": "code",
   "execution_count": null,
   "metadata": {},
   "outputs": [],
   "source": [
    "# Datos disponibles para el ejercicio\n",
    "\n",
    "import networkx as nx\n",
    "\n",
    "# Lista de carreteras transitables\n",
    "carreteras_ok = [(1,3), (3,4), (2, 7), (2, 8), (5, 6), (9, 10)]\n",
    "\n",
    "# Lista de carreteras cortadas\n",
    "carreteras_ko = [(1, 2), (2, 4), (2, 5), (8, 9)]\n",
    "\n",
    "# Graf G, que representa la red de carreteras entre las ciudades\n",
    "G = nx.Graph()\n",
    "\n",
    "G.add_edges_from(carreteras_ok)\n",
    "G.add_edges_from(carreteras_ko) \n",
    "\n",
    "# Lista de ciudades con biblioteca\n",
    "ciudades_con_biblioteca = [3, 6, 9]"
   ]
  },
  {
   "cell_type": "code",
   "execution_count": null,
   "metadata": {},
   "outputs": [],
   "source": [
    "%matplotlib inline\n",
    "\n",
    "# Calculamos la posición de los nodos usando el algoritmo spring\n",
    "graph_pos = nx.spring_layout(G)\n",
    "\n",
    "# Mostramos los nodos del grafo. Mostramos con un tamaño más grande y en azul las ciudades que tienen biblioteca\n",
    "nx.draw_networkx_nodes(G, graph_pos, ciudades_con_biblioteca, node_size=700, node_color='blue', alpha = 0.6)\n",
    "\n",
    "# Mostramos con un tamaño más pequeño y en naranja los otros nodos del grafo\n",
    "ciudades_sin_biblioteca = list(set(G.nodes()) - set(ciudades_con_biblioteca))\n",
    "nx.draw_networkx_nodes(G, graph_pos, ciudades_sin_biblioteca, node_size=300, node_color='orange', alpha = 0.6)\n",
    " \n",
    "# Mostramos las etiquetas del nodos, especificando el tamaño y la fuente\n",
    "nx.draw_networkx_labels(G, graph_pos, font_size=12, font_family='sans-serif')\n",
    "    \n",
    "# Mostramos las aristas del grafo\n",
    "# Primero, mostramos con color verde las aristas que corresponden a las carreteras que aún son transitables\n",
    "nx.draw_networkx_edges(G, graph_pos, edgelist=carreteras_ok, edge_color='green', alpha=0.5)\n",
    "\n",
    "# Mostramos con color rojo las aristas que corresponden a las carreteras cortadas\n",
    "nx.draw_networkx_edges(G, graph_pos, edgelist=carreteras_ko, edge_color='red', alpha=0.5)"
   ]
  },
  {
   "cell_type": "markdown",
   "metadata": {},
   "source": [
    "**Respuesta**\n",
    "\n",
    "Una vez construido el grafo, podemos contestar las preguntas que nos han hecho los Grandes Maestros.\n",
    "\n",
    "- Qué reinos han quedado sin poder acceder a una biblioteca?\n",
    "\n",
    "Los reinos que han quedado sin acceso a una biblioteca son: `[2, 7, 8]`.\n",
    "\n",
    "- Cuál es el número mínimo de bibliotecas que se deberían construir para que todo el mundo vuelva a tener acceso a una biblioteca? (Si no podemos re-construir ninguna carretera)\n",
    "\n",
    "Dado que los tres reinos que han quedado sin acceso a una biblioteca están conectados entre sí (aunque quedan carreteras que los unen), podemos construir una biblioteca en cualquiera de los tres para que los ciudadanos de estos reinos puedan volver a disfrutar de una biblioteca. Por tanto, el número mínimo de bibliotecas sería **1**.\n",
    "\n",
    "- Cuál es el coste mínimo de re-construcción de carreteras a fin de que todo el mundo vuelva a tener acceso a una biblioteca? (Si no podemos construir ninguna biblioteca)\n",
    "\n",
    "Siguiendo el mismo razonamiento anterior, si re-construimos la carretera que conectaba el reino 8 con el reino 9 (que tiene biblioteca), también estaremos habilitando el acceso a los reinos 2 y 7. Por tanto, el coste mínimo para re-construir carreteras sería **150.000 €**.\n",
    "\n",
    "- Viendo la respuesta de la pregunta 2 y 3, que sería lo más óptimo teniendo en cuenta que queremos minimizar los costes?\n",
    "\n",
    "En este caso, lo más óptimo sería re-construir una carretera (por ejemplo la que une los reinos 8 y 9). Esto costaría `80.000 €`, mientras que construir una biblioteca nos implica un coste de `150.000 €`."
   ]
  },
  {
   "cell_type": "code",
   "execution_count": null,
   "metadata": {},
   "outputs": [],
   "source": []
  }
 ],
 "metadata": {
  "kernelspec": {
   "display_name": "Python 3",
   "language": "python",
   "name": "python3"
  },
  "language_info": {
   "codemirror_mode": {
    "name": "ipython",
    "version": 3
   },
   "file_extension": ".py",
   "mimetype": "text/x-python",
   "name": "python",
   "nbconvert_exporter": "python",
   "pygments_lexer": "ipython3",
   "version": "3.7.4"
  }
 },
 "nbformat": 4,
 "nbformat_minor": 2
}
