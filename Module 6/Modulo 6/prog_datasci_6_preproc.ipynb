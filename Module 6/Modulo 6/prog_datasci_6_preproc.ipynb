{
 "cells": [
  {
   "cell_type": "markdown",
   "metadata": {},
   "source": [
    "# Programación para *Data Science*"
   ]
  },
  {
   "cell_type": "markdown",
   "metadata": {},
   "source": [
    "Unidad 6: Preprocesamiento de datos en Python\n",
    "------------------------------------------------------\n",
    "\n",
    "## Instrucciones de uso\n",
    "\n",
    "A continuación se presentarán explicaciones y ejemplos de preprocesamiento de datos en Python. Recordad que podéis ir ejecutando los ejemplos para obtener sus resultados.\n",
    "\n",
    "## Introducción\n",
    "\n",
    "En este módulo trabajaremos con la librería [pandas](http://pandas.pydata.org/), que ya hemos introducido en módulos anteriores, y [scikit-learn](http://scikit-learn.org), una nueva librería que presentamos en este módulo. Scikit-learn es una librería de aprendizaje automático de Python que nos ofrece herramientas y implementaciones de algoritmos para minería y análisis de datos. En la propia web de scikit-learn podéis encontrar la [documentación completa](http://scikit-learn.org/stable/documentation.html) de la librería.\n",
    "\n",
    "Este Notebook contiene ejemplos concretos de técnicas que pueden aplicarse para preprocesar datos para cada uno de los grupos de técnicas descritos en la introducción del módulo (en la xwiki asociada). Es importante destacar que se han seleccionado únicamente algunas técnicas dentro de cada grupo para presentar ejemplos del tipo de transformaciones que se realizan pero, en la práctica, el conjunto de técnicas que se aplican en el preprocesamiento de los datos es mucho más amplio. \n",
    "\n",
    "En este Notebook veremos cómo aplicar diferentes técnicas de preprocesamiento de datos sobre un conjunto de datos metereológicos de la ciudad de Pequín. El *dataset* original puede encontrarse en el siguiente [repositorio de Machine Learning de la UC Irvine](http://archive.ics.uci.edu/ml/datasets/Beijing+PM2.5+Data#), aunque para las actividades utilizaremos una variante modificada del mismo que nos permitirá practicar un conjunto más amplio de técnicas. Podéis encontrar una pequeña descripción de los atributos del conjunto de datos siguiendo el enlace anterior.\n",
    "\n",
    "## Primeros pasos\n",
    "\n",
    "En primer lugar, cargamos el conjunto de datos:"
   ]
  },
  {
   "cell_type": "code",
   "execution_count": 1,
   "metadata": {},
   "outputs": [
    {
     "name": "stdout",
     "output_type": "stream",
     "text": [
      "<class 'pandas.core.frame.DataFrame'>\n",
      "43824\n"
     ]
    },
    {
     "data": {
      "text/html": [
       "<div>\n",
       "<style scoped>\n",
       "    .dataframe tbody tr th:only-of-type {\n",
       "        vertical-align: middle;\n",
       "    }\n",
       "\n",
       "    .dataframe tbody tr th {\n",
       "        vertical-align: top;\n",
       "    }\n",
       "\n",
       "    .dataframe thead th {\n",
       "        text-align: right;\n",
       "    }\n",
       "</style>\n",
       "<table border=\"1\" class=\"dataframe\">\n",
       "  <thead>\n",
       "    <tr style=\"text-align: right;\">\n",
       "      <th></th>\n",
       "      <th>No</th>\n",
       "      <th>year</th>\n",
       "      <th>month</th>\n",
       "      <th>day</th>\n",
       "      <th>hour</th>\n",
       "      <th>pm2.5</th>\n",
       "      <th>DEWP</th>\n",
       "      <th>TEMP</th>\n",
       "      <th>PRES</th>\n",
       "      <th>cbwd</th>\n",
       "      <th>Iws</th>\n",
       "      <th>Is</th>\n",
       "      <th>Ir</th>\n",
       "    </tr>\n",
       "  </thead>\n",
       "  <tbody>\n",
       "    <tr>\n",
       "      <td>0</td>\n",
       "      <td>1</td>\n",
       "      <td>2010</td>\n",
       "      <td>jan</td>\n",
       "      <td>1</td>\n",
       "      <td>0</td>\n",
       "      <td>NaN</td>\n",
       "      <td>-21</td>\n",
       "      <td>-11.0</td>\n",
       "      <td>1021.0</td>\n",
       "      <td>Nw</td>\n",
       "      <td>1.79</td>\n",
       "      <td>0</td>\n",
       "      <td>0</td>\n",
       "    </tr>\n",
       "    <tr>\n",
       "      <td>1</td>\n",
       "      <td>2</td>\n",
       "      <td>2010</td>\n",
       "      <td>jan</td>\n",
       "      <td>1</td>\n",
       "      <td>1</td>\n",
       "      <td>NaN</td>\n",
       "      <td>-21</td>\n",
       "      <td>-12.0</td>\n",
       "      <td>1020.0</td>\n",
       "      <td>nw</td>\n",
       "      <td>4.92</td>\n",
       "      <td>0</td>\n",
       "      <td>0</td>\n",
       "    </tr>\n",
       "    <tr>\n",
       "      <td>2</td>\n",
       "      <td>3</td>\n",
       "      <td>2010</td>\n",
       "      <td>jan</td>\n",
       "      <td>1</td>\n",
       "      <td>2</td>\n",
       "      <td>NaN</td>\n",
       "      <td>-21</td>\n",
       "      <td>-11.0</td>\n",
       "      <td>1019.0</td>\n",
       "      <td>nw</td>\n",
       "      <td>6.71</td>\n",
       "      <td>0</td>\n",
       "      <td>0</td>\n",
       "    </tr>\n",
       "    <tr>\n",
       "      <td>3</td>\n",
       "      <td>4</td>\n",
       "      <td>2010</td>\n",
       "      <td>jan</td>\n",
       "      <td>1</td>\n",
       "      <td>3</td>\n",
       "      <td>NaN</td>\n",
       "      <td>-21</td>\n",
       "      <td>-14.0</td>\n",
       "      <td>1019.0</td>\n",
       "      <td>NW</td>\n",
       "      <td>9.84</td>\n",
       "      <td>0</td>\n",
       "      <td>0</td>\n",
       "    </tr>\n",
       "    <tr>\n",
       "      <td>4</td>\n",
       "      <td>5</td>\n",
       "      <td>2010</td>\n",
       "      <td>jan</td>\n",
       "      <td>1</td>\n",
       "      <td>4</td>\n",
       "      <td>NaN</td>\n",
       "      <td>-20</td>\n",
       "      <td>-12.0</td>\n",
       "      <td>1018.0</td>\n",
       "      <td>nW</td>\n",
       "      <td>12.97</td>\n",
       "      <td>0</td>\n",
       "      <td>0</td>\n",
       "    </tr>\n",
       "  </tbody>\n",
       "</table>\n",
       "</div>"
      ],
      "text/plain": [
       "   No  year month  day  hour  pm2.5  DEWP  TEMP    PRES cbwd    Iws  Is  Ir\n",
       "0   1  2010   jan    1     0    NaN   -21 -11.0  1021.0   Nw   1.79   0   0\n",
       "1   2  2010   jan    1     1    NaN   -21 -12.0  1020.0   nw   4.92   0   0\n",
       "2   3  2010   jan    1     2    NaN   -21 -11.0  1019.0   nw   6.71   0   0\n",
       "3   4  2010   jan    1     3    NaN   -21 -14.0  1019.0   NW   9.84   0   0\n",
       "4   5  2010   jan    1     4    NaN   -20 -12.0  1018.0   nW  12.97   0   0"
      ]
     },
     "execution_count": 1,
     "metadata": {},
     "output_type": "execute_result"
    }
   ],
   "source": [
    "# Importamos la librería pandas.\n",
    "import pandas as pd\n",
    "\n",
    "# Cargamos los datos del fichero \"weather_dataset_edited.csv\" en un dataframe.\n",
    "data = pd.read_csv(\"data/weather_dataset_edited.csv\")\n",
    "\n",
    "# Mostramos una descripción básica de los datos cargados.\n",
    "print(type(data))\n",
    "print(len(data))\n",
    "data.head(n=5)"
   ]
  },
  {
   "cell_type": "markdown",
   "metadata": {},
   "source": [
    "## Integración de datos\n",
    "\n",
    "El conjunto de datos ha sido creado con la colaboración de diferentes personas. Aunque todas ellas anotaban la misma información, lo cierto es que utilizaron una nomenclatura distinta para describir la dirección del viento. Veamos cómo podemos unificar la nomenclatura usada por todos ellos."
   ]
  },
  {
   "cell_type": "code",
   "execution_count": 2,
   "metadata": {},
   "outputs": [
    {
     "data": {
      "text/plain": [
       "{'NE', 'NW', 'Nw', 'SE', 'Se', 'nW', nan, 'ne', 'nw', 'sE', 'se'}"
      ]
     },
     "execution_count": 2,
     "metadata": {},
     "output_type": "execute_result"
    }
   ],
   "source": [
    "# Visualizamos las diferentes abreviaturas utilizadas.\n",
    "set(data[\"cbwd\"])"
   ]
  },
  {
   "cell_type": "code",
   "execution_count": 3,
   "metadata": {},
   "outputs": [],
   "source": [
    "# Unificamos la nomenclatura para usar únicamente mayúsculas.\n",
    "data.loc[data.cbwd == \"ne\", \"cbwd\"] = \"NE\"\n",
    "data.loc[(data.cbwd == \"Nw\") | (data.cbwd == \"nW\") | (data.cbwd == \"nw\"), \"cbwd\"] = \"NW\"\n",
    "data.loc[(data.cbwd == \"Se\") | (data.cbwd == \"sE\") | (data.cbwd == \"se\"), \"cbwd\"] = \"SE\""
   ]
  },
  {
   "cell_type": "markdown",
   "metadata": {},
   "source": [
    "Notad que usamos el operador `.loc`, que habíamos visto en el módulo 4 (en las explicaciones sobre la librería pandas) para filtrar las filas que cumplen una característica concreta (por ejemplo, para la primera sentencia, que tienen el valor 'ne' en el campo `cbwd`) y luego seleccionamos únicamente la columna `cbwd` para poder asignarle el nuevo valor (en este caso, 'NE')."
   ]
  },
  {
   "cell_type": "code",
   "execution_count": 4,
   "metadata": {},
   "outputs": [
    {
     "data": {
      "text/plain": [
       "{'NE', 'NW', 'SE', nan}"
      ]
     },
     "execution_count": 4,
     "metadata": {},
     "output_type": "execute_result"
    }
   ],
   "source": [
    "# Comprobamos que la sustitución se haya realizado correctamente.\n",
    "set(data[\"cbwd\"])"
   ]
  },
  {
   "cell_type": "markdown",
   "metadata": {},
   "source": [
    "Además, sabemos que normalmente la temperatura se tomaba con un termómetro configurado para usar el sistema métrico internacional, por lo que esta se encuentra expresada en grados Celsius. Sin embargo, durante el año 2011 se estuvieron tomando las mediciones con otro termómetro configurado con grados Farenheit, por lo que las muestras de ese año se encuentran expresadas en °F. Veamos cómo podemos unificar las mediciones de temperatura."
   ]
  },
  {
   "cell_type": "code",
   "execution_count": 5,
   "metadata": {},
   "outputs": [
    {
     "data": {
      "text/html": [
       "<div>\n",
       "<style scoped>\n",
       "    .dataframe tbody tr th:only-of-type {\n",
       "        vertical-align: middle;\n",
       "    }\n",
       "\n",
       "    .dataframe tbody tr th {\n",
       "        vertical-align: top;\n",
       "    }\n",
       "\n",
       "    .dataframe thead th {\n",
       "        text-align: right;\n",
       "    }\n",
       "</style>\n",
       "<table border=\"1\" class=\"dataframe\">\n",
       "  <thead>\n",
       "    <tr style=\"text-align: right;\">\n",
       "      <th></th>\n",
       "      <th>TEMP</th>\n",
       "    </tr>\n",
       "    <tr>\n",
       "      <th>year</th>\n",
       "      <th></th>\n",
       "    </tr>\n",
       "  </thead>\n",
       "  <tbody>\n",
       "    <tr>\n",
       "      <td>2010</td>\n",
       "      <td>11.632420</td>\n",
       "    </tr>\n",
       "    <tr>\n",
       "      <td>2011</td>\n",
       "      <td>54.617534</td>\n",
       "    </tr>\n",
       "    <tr>\n",
       "      <td>2012</td>\n",
       "      <td>11.967441</td>\n",
       "    </tr>\n",
       "    <tr>\n",
       "      <td>2013</td>\n",
       "      <td>12.399201</td>\n",
       "    </tr>\n",
       "    <tr>\n",
       "      <td>2014</td>\n",
       "      <td>13.679566</td>\n",
       "    </tr>\n",
       "  </tbody>\n",
       "</table>\n",
       "</div>"
      ],
      "text/plain": [
       "           TEMP\n",
       "year           \n",
       "2010  11.632420\n",
       "2011  54.617534\n",
       "2012  11.967441\n",
       "2013  12.399201\n",
       "2014  13.679566"
      ]
     },
     "execution_count": 5,
     "metadata": {},
     "output_type": "execute_result"
    }
   ],
   "source": [
    "# Importamos la librería NumPy.\n",
    "import numpy as np\n",
    "\n",
    "# Visualizamos la media anual de las temperaturas.\n",
    "grouped = data.groupby(\"year\")\n",
    "grouped.aggregate({\"TEMP\": np.mean})"
   ]
  },
  {
   "cell_type": "markdown",
   "metadata": {},
   "source": [
    "Fijaos como, efectivamente, la media del año 2011 es mucho más alta que la del resto de años."
   ]
  },
  {
   "cell_type": "code",
   "execution_count": 6,
   "metadata": {},
   "outputs": [],
   "source": [
    "# Definimos una función que convierte grados Fahrenheit en grados Celsius.\n",
    "def fahrenheit_to_celsius(x):\n",
    "    return (x-32)*5/9\n",
    "\n",
    "# Sustituimos los valores de las temperaturas del año 2011 por el resultado de aplicar la función\n",
    "# 'fahrenheit_to_celsius' al valor actual.\n",
    "data.loc[data.year == 2011, \"TEMP\"] = data[data.year == 2011][\"TEMP\"].apply(fahrenheit_to_celsius)\n"
   ]
  },
  {
   "cell_type": "code",
   "execution_count": 7,
   "metadata": {},
   "outputs": [
    {
     "data": {
      "text/html": [
       "<div>\n",
       "<style scoped>\n",
       "    .dataframe tbody tr th:only-of-type {\n",
       "        vertical-align: middle;\n",
       "    }\n",
       "\n",
       "    .dataframe tbody tr th {\n",
       "        vertical-align: top;\n",
       "    }\n",
       "\n",
       "    .dataframe thead th {\n",
       "        text-align: right;\n",
       "    }\n",
       "</style>\n",
       "<table border=\"1\" class=\"dataframe\">\n",
       "  <thead>\n",
       "    <tr style=\"text-align: right;\">\n",
       "      <th></th>\n",
       "      <th>TEMP</th>\n",
       "    </tr>\n",
       "    <tr>\n",
       "      <th>year</th>\n",
       "      <th></th>\n",
       "    </tr>\n",
       "  </thead>\n",
       "  <tbody>\n",
       "    <tr>\n",
       "      <td>2010</td>\n",
       "      <td>11.632420</td>\n",
       "    </tr>\n",
       "    <tr>\n",
       "      <td>2011</td>\n",
       "      <td>12.565297</td>\n",
       "    </tr>\n",
       "    <tr>\n",
       "      <td>2012</td>\n",
       "      <td>11.967441</td>\n",
       "    </tr>\n",
       "    <tr>\n",
       "      <td>2013</td>\n",
       "      <td>12.399201</td>\n",
       "    </tr>\n",
       "    <tr>\n",
       "      <td>2014</td>\n",
       "      <td>13.679566</td>\n",
       "    </tr>\n",
       "  </tbody>\n",
       "</table>\n",
       "</div>"
      ],
      "text/plain": [
       "           TEMP\n",
       "year           \n",
       "2010  11.632420\n",
       "2011  12.565297\n",
       "2012  11.967441\n",
       "2013  12.399201\n",
       "2014  13.679566"
      ]
     },
     "execution_count": 7,
     "metadata": {},
     "output_type": "execute_result"
    }
   ],
   "source": [
    "# Comprobamos que los cambios realizados han tenido efecto.\n",
    "grouped.aggregate({\"TEMP\": np.mean})"
   ]
  },
  {
   "cell_type": "markdown",
   "metadata": {},
   "source": [
    "## Transformación de datos"
   ]
  },
  {
   "cell_type": "markdown",
   "metadata": {},
   "source": [
    "Los atributos `month` y `cbwd` contienen cadenas de caracteres como valores y representan variables categóricas, por lo que algunos tipos de algoritmos de minería de datos no podrán trabajar con ellas. Por ello, las transformaremos en un conjunto de atributos binarios (un atributo para cada categoría posible)."
   ]
  },
  {
   "cell_type": "code",
   "execution_count": 8,
   "metadata": {},
   "outputs": [
    {
     "name": "stdout",
     "output_type": "stream",
     "text": [
      "['No', 'year', 'month', 'day', 'hour', 'pm2.5', 'DEWP', 'TEMP', 'PRES', 'cbwd', 'Iws', 'Is', 'Ir']\n"
     ]
    }
   ],
   "source": [
    "# Mostramos el conjunto de atributos original.\n",
    "print(list(data))"
   ]
  },
  {
   "cell_type": "code",
   "execution_count": 9,
   "metadata": {},
   "outputs": [],
   "source": [
    "# Creamos nuevos atributos binarios para las categorías utilizadas en las columnas \"month\" y \"cbwd\".\n",
    "data_trans = pd.get_dummies(data, columns=[\"month\", \"cbwd\"], dummy_na=True)"
   ]
  },
  {
   "cell_type": "code",
   "execution_count": 10,
   "metadata": {},
   "outputs": [
    {
     "name": "stdout",
     "output_type": "stream",
     "text": [
      "['No', 'year', 'day', 'hour', 'pm2.5', 'DEWP', 'TEMP', 'PRES', 'Iws', 'Is', 'Ir', 'month_apr', 'month_aug', 'month_dec', 'month_feb', 'month_jan', 'month_jul', 'month_jun', 'month_mar', 'month_may', 'month_nov', 'month_oct', 'month_sept', 'month_nan', 'cbwd_NE', 'cbwd_NW', 'cbwd_SE', 'cbwd_nan']\n"
     ]
    }
   ],
   "source": [
    "# Mostramos el conjunto de atributos después de la transformación.\n",
    "print(list(data_trans))"
   ]
  },
  {
   "cell_type": "markdown",
   "metadata": {},
   "source": [
    "Podemos ver un ejemplo de cómo se han transformado los valores observando algunas muestras concretas. Así, para las muestras entre las posiciones diez y veinte y la columna `cbwd`:"
   ]
  },
  {
   "cell_type": "code",
   "execution_count": 11,
   "metadata": {},
   "outputs": [
    {
     "name": "stdout",
     "output_type": "stream",
     "text": [
      "   cbwd\n",
      "10   NW\n",
      "11   NW\n",
      "12   NW\n",
      "13   NW\n",
      "14   NW\n",
      "15  NaN\n",
      "16   NW\n",
      "17   NW\n",
      "18   NE\n",
      "19   NW\n",
      "20  NaN\n"
     ]
    },
    {
     "data": {
      "text/html": [
       "<div>\n",
       "<style scoped>\n",
       "    .dataframe tbody tr th:only-of-type {\n",
       "        vertical-align: middle;\n",
       "    }\n",
       "\n",
       "    .dataframe tbody tr th {\n",
       "        vertical-align: top;\n",
       "    }\n",
       "\n",
       "    .dataframe thead th {\n",
       "        text-align: right;\n",
       "    }\n",
       "</style>\n",
       "<table border=\"1\" class=\"dataframe\">\n",
       "  <thead>\n",
       "    <tr style=\"text-align: right;\">\n",
       "      <th></th>\n",
       "      <th>cbwd_NE</th>\n",
       "      <th>cbwd_NW</th>\n",
       "      <th>cbwd_SE</th>\n",
       "      <th>cbwd_nan</th>\n",
       "    </tr>\n",
       "  </thead>\n",
       "  <tbody>\n",
       "    <tr>\n",
       "      <td>10</td>\n",
       "      <td>0</td>\n",
       "      <td>1</td>\n",
       "      <td>0</td>\n",
       "      <td>0</td>\n",
       "    </tr>\n",
       "    <tr>\n",
       "      <td>11</td>\n",
       "      <td>0</td>\n",
       "      <td>1</td>\n",
       "      <td>0</td>\n",
       "      <td>0</td>\n",
       "    </tr>\n",
       "    <tr>\n",
       "      <td>12</td>\n",
       "      <td>0</td>\n",
       "      <td>1</td>\n",
       "      <td>0</td>\n",
       "      <td>0</td>\n",
       "    </tr>\n",
       "    <tr>\n",
       "      <td>13</td>\n",
       "      <td>0</td>\n",
       "      <td>1</td>\n",
       "      <td>0</td>\n",
       "      <td>0</td>\n",
       "    </tr>\n",
       "    <tr>\n",
       "      <td>14</td>\n",
       "      <td>0</td>\n",
       "      <td>1</td>\n",
       "      <td>0</td>\n",
       "      <td>0</td>\n",
       "    </tr>\n",
       "    <tr>\n",
       "      <td>15</td>\n",
       "      <td>0</td>\n",
       "      <td>0</td>\n",
       "      <td>0</td>\n",
       "      <td>1</td>\n",
       "    </tr>\n",
       "    <tr>\n",
       "      <td>16</td>\n",
       "      <td>0</td>\n",
       "      <td>1</td>\n",
       "      <td>0</td>\n",
       "      <td>0</td>\n",
       "    </tr>\n",
       "    <tr>\n",
       "      <td>17</td>\n",
       "      <td>0</td>\n",
       "      <td>1</td>\n",
       "      <td>0</td>\n",
       "      <td>0</td>\n",
       "    </tr>\n",
       "    <tr>\n",
       "      <td>18</td>\n",
       "      <td>1</td>\n",
       "      <td>0</td>\n",
       "      <td>0</td>\n",
       "      <td>0</td>\n",
       "    </tr>\n",
       "    <tr>\n",
       "      <td>19</td>\n",
       "      <td>0</td>\n",
       "      <td>1</td>\n",
       "      <td>0</td>\n",
       "      <td>0</td>\n",
       "    </tr>\n",
       "    <tr>\n",
       "      <td>20</td>\n",
       "      <td>0</td>\n",
       "      <td>0</td>\n",
       "      <td>0</td>\n",
       "      <td>1</td>\n",
       "    </tr>\n",
       "  </tbody>\n",
       "</table>\n",
       "</div>"
      ],
      "text/plain": [
       "    cbwd_NE  cbwd_NW  cbwd_SE  cbwd_nan\n",
       "10        0        1        0         0\n",
       "11        0        1        0         0\n",
       "12        0        1        0         0\n",
       "13        0        1        0         0\n",
       "14        0        1        0         0\n",
       "15        0        0        0         1\n",
       "16        0        1        0         0\n",
       "17        0        1        0         0\n",
       "18        1        0        0         0\n",
       "19        0        1        0         0\n",
       "20        0        0        0         1"
      ]
     },
     "execution_count": 11,
     "metadata": {},
     "output_type": "execute_result"
    }
   ],
   "source": [
    "# Mostramos el valor de la columna \"cbwd\" original para las muestras entre las posiciones diez y veinte.\n",
    "print(data.loc[10:20, [\"cbwd\"]])\n",
    "\n",
    "# Mostramos los valores de las nuevas columnas \"cbwd_NE\", \"cbwd_NW\", \"cbwd_SE\", \"cbwd_nan\"\n",
    "# para las muestras entre las posiciones diez y veinte.\n",
    "data_trans.loc[10:20, [\"cbwd_NE\", \"cbwd_NW\", \"cbwd_SE\", \"cbwd_nan\"]]"
   ]
  },
  {
   "cell_type": "markdown",
   "metadata": {},
   "source": [
    "## Limpieza de datos\n",
    "\n",
    "Uno de los problemas que se tratan en la limpieza de datos es el tratamiento de valores perdidos. Existen múltiples estrategias para tratar con estos valores, desde directamente eliminar las muestras que contienen algún valor perdido hasta sustituir los valores perdidos por algún otro valor (por ejemplo, para atributos numéricos, la media del atributo en el resto de muestras). Veamos un ejemplo de sustitución de valores perdidos por la media del atributo."
   ]
  },
  {
   "cell_type": "markdown",
   "metadata": {},
   "source": [
    "En primer lugar, identificamos los atributos que tienen algún valor NaN:"
   ]
  },
  {
   "cell_type": "code",
   "execution_count": 12,
   "metadata": {},
   "outputs": [
    {
     "name": "stdout",
     "output_type": "stream",
     "text": [
      "No            False\n",
      "year          False\n",
      "day           False\n",
      "hour          False\n",
      "pm2.5          True\n",
      "DEWP          False\n",
      "TEMP          False\n",
      "PRES          False\n",
      "Iws           False\n",
      "Is            False\n",
      "Ir            False\n",
      "month_apr     False\n",
      "month_aug     False\n",
      "month_dec     False\n",
      "month_feb     False\n",
      "month_jan     False\n",
      "month_jul     False\n",
      "month_jun     False\n",
      "month_mar     False\n",
      "month_may     False\n",
      "month_nov     False\n",
      "month_oct     False\n",
      "month_sept    False\n",
      "month_nan     False\n",
      "cbwd_NE       False\n",
      "cbwd_NW       False\n",
      "cbwd_SE       False\n",
      "cbwd_nan      False\n",
      "dtype: bool\n"
     ]
    }
   ],
   "source": [
    "# Definimos una función que nos retorna un valor booleano indicando si alguno de los valores\n",
    "# de la serie es NaN.\n",
    "def any_is_null(x):\n",
    "    return any(pd.isnull(x))\n",
    "\n",
    "# Aplicamos la función any_is_null a cada columna del dataframe. \n",
    "print(data_trans.apply(any_is_null))"
   ]
  },
  {
   "cell_type": "markdown",
   "metadata": {},
   "source": [
    "Notad que aunque la columna `cbwd` original contenía valores perdidos, después de la transformación ya no los tenemos, ya que estos se encuentran representados con valores binarios en la columna `cbwd_nan`. Así, únicamente será necesario tratar los valores perdidos de la columna `pm2.5`.\n",
    "\n",
    "Procedemos a sustituir los valores perdidos de la columa `pm2.5` por la media de la columna utilizando la librería sklearn (aunque también podríamos utilizar las funciones de indexación de pandas para conseguir el mismo objetivo)."
   ]
  },
  {
   "cell_type": "code",
   "execution_count": 13,
   "metadata": {},
   "outputs": [],
   "source": [
    "# Importamos Imputer del módulo de preprocesamiento de la librería sklearn.\n",
    "from sklearn.impute import SimpleImputer\n",
    "\n",
    "# Sustituiremos los valores perdidos por la media de la columna \n",
    "imp = SimpleImputer(strategy='mean')\n",
    "\n",
    "# Aplicamos la transformación a la columna pm2.5.\n",
    "data_trans[\"pm2.5\"] = imp.fit_transform(data_trans[[\"pm2.5\"]]).ravel()\n"
   ]
  },
  {
   "cell_type": "code",
   "execution_count": 14,
   "metadata": {},
   "outputs": [
    {
     "name": "stdout",
     "output_type": "stream",
     "text": [
      "No            False\n",
      "year          False\n",
      "day           False\n",
      "hour          False\n",
      "pm2.5         False\n",
      "DEWP          False\n",
      "TEMP          False\n",
      "PRES          False\n",
      "Iws           False\n",
      "Is            False\n",
      "Ir            False\n",
      "month_apr     False\n",
      "month_aug     False\n",
      "month_dec     False\n",
      "month_feb     False\n",
      "month_jan     False\n",
      "month_jul     False\n",
      "month_jun     False\n",
      "month_mar     False\n",
      "month_may     False\n",
      "month_nov     False\n",
      "month_oct     False\n",
      "month_sept    False\n",
      "month_nan     False\n",
      "cbwd_NE       False\n",
      "cbwd_NW       False\n",
      "cbwd_SE       False\n",
      "cbwd_nan      False\n",
      "dtype: bool\n"
     ]
    }
   ],
   "source": [
    "# Comprobamos que se han eliminado los valores perdidos.\n",
    "print(data_trans.apply(any_is_null))"
   ]
  },
  {
   "cell_type": "markdown",
   "metadata": {},
   "source": [
    "## Normalización de datos\n",
    "\n",
    "Una de las alternativas para normalizar los datos consiste en centrar los valores para que la media del atributo se encuentre cercana a cero y escalarlos para que la varianza sea 1. Veamos cómo realizar este proceso sobre el atributo que contiene la presión atmosférica."
   ]
  },
  {
   "cell_type": "code",
   "execution_count": 15,
   "metadata": {},
   "outputs": [
    {
     "data": {
      "text/plain": [
       "count    43824.000000\n",
       "mean      1016.447654\n",
       "std         10.268698\n",
       "min        991.000000\n",
       "25%       1008.000000\n",
       "50%       1016.000000\n",
       "75%       1025.000000\n",
       "max       1046.000000\n",
       "Name: PRES, dtype: float64"
      ]
     },
     "execution_count": 15,
     "metadata": {},
     "output_type": "execute_result"
    }
   ],
   "source": [
    "# Observamos los estadísticos básicos originales del atributo \"PRES\".\n",
    "data_trans[\"PRES\"].describe()"
   ]
  },
  {
   "cell_type": "code",
   "execution_count": 16,
   "metadata": {},
   "outputs": [],
   "source": [
    "# Importamos StandardScaler del módulo de preprocesamiento de la librería sklearn.\n",
    "from sklearn.preprocessing import StandardScaler\n",
    "\n",
    "# Utilizamos el StandardScaler de sklearn para normalizar los valores del atributo \"PRES\".\n",
    "data_trans.loc[:, [\"PRES\"]] = StandardScaler().fit_transform(data_trans.loc[:, [\"PRES\"]])"
   ]
  },
  {
   "cell_type": "code",
   "execution_count": 17,
   "metadata": {},
   "outputs": [
    {
     "data": {
      "text/plain": [
       "count    4.382400e+04\n",
       "mean     2.664485e-15\n",
       "std      1.000011e+00\n",
       "min     -2.478206e+00\n",
       "25%     -8.226701e-01\n",
       "50%     -4.359456e-02\n",
       "75%      8.328654e-01\n",
       "max      2.877939e+00\n",
       "Name: PRES, dtype: float64"
      ]
     },
     "execution_count": 17,
     "metadata": {},
     "output_type": "execute_result"
    }
   ],
   "source": [
    "# Observamos los estadísticos básicos del atributo \"PRES\" después de la transformación.\n",
    "data_trans[\"PRES\"].describe()\n"
   ]
  },
  {
   "cell_type": "markdown",
   "metadata": {},
   "source": [
    "Notad como, efectivamente, la media se aproxima ahora al valor 0, y la desviación, a 1."
   ]
  },
  {
   "cell_type": "markdown",
   "metadata": {},
   "source": [
    "## Reducción de dimensiones\n",
    "\n",
    "Una opción sencilla para reducir dimensiones consiste en seleccionar un conjunto de características de interés. Podemos realizar esta selección de manera sencilla gracias a las funciones que disponemos sobre los *dataframes* de pandas."
   ]
  },
  {
   "cell_type": "code",
   "execution_count": 18,
   "metadata": {},
   "outputs": [
    {
     "name": "stdout",
     "output_type": "stream",
     "text": [
      "['No', 'year', 'day', 'hour', 'pm2.5', 'DEWP', 'TEMP', 'PRES', 'Iws', 'Is', 'Ir', 'month_apr', 'month_aug', 'month_dec', 'month_feb', 'month_jan', 'month_jul', 'month_jun', 'month_mar', 'month_may', 'month_nov', 'month_oct', 'month_sept', 'month_nan', 'cbwd_NE', 'cbwd_NW', 'cbwd_SE', 'cbwd_nan']\n"
     ]
    }
   ],
   "source": [
    "# Mostramos los atributos actuales.\n",
    "print(list(data_trans))"
   ]
  },
  {
   "cell_type": "code",
   "execution_count": 19,
   "metadata": {},
   "outputs": [],
   "source": [
    "# Eliminamos el atributo \"DEWP\".\n",
    "data_trans = data_trans.drop(\"DEWP\", axis=1)"
   ]
  },
  {
   "cell_type": "code",
   "execution_count": 20,
   "metadata": {},
   "outputs": [
    {
     "name": "stdout",
     "output_type": "stream",
     "text": [
      "['No', 'year', 'day', 'hour', 'pm2.5', 'TEMP', 'PRES', 'Iws', 'Is', 'Ir', 'month_apr', 'month_aug', 'month_dec', 'month_feb', 'month_jan', 'month_jul', 'month_jun', 'month_mar', 'month_may', 'month_nov', 'month_oct', 'month_sept', 'month_nan', 'cbwd_NE', 'cbwd_NW', 'cbwd_SE', 'cbwd_nan']\n"
     ]
    }
   ],
   "source": [
    "# Mostramos los atributos después del cambio.\n",
    "print(list(data_trans))"
   ]
  },
  {
   "cell_type": "markdown",
   "metadata": {},
   "source": [
    "Un grupo de técnicas de reducción de dimensiones muy desarrollado se centra en la extracción de características. Aunque conceptualmente estos procesos se escapan de este curso introductorio, lo cierto es que es fácil aplicar estas técnicas con sklearn. El lector interesado puede consultar [los ejemplos](http://scikit-learn.org/stable/modules/generated/sklearn.decomposition.PCA.html#examples-using-sklearn-decomposition-pca) de la propia documentación de sklearn."
   ]
  },
  {
   "cell_type": "markdown",
   "metadata": {},
   "source": [
    "## Reducción de muestras\n",
    "\n",
    "Una alternativa sencilla para realizar una reducción de las muestras disponibles consiste en seleccionar de manera aleatoria uniforme un subconjunto de muestras del *dataset*."
   ]
  },
  {
   "cell_type": "code",
   "execution_count": 21,
   "metadata": {},
   "outputs": [
    {
     "name": "stdout",
     "output_type": "stream",
     "text": [
      "43824\n"
     ]
    }
   ],
   "source": [
    "# Mostramos el número de muestras original.\n",
    "print(len(data_trans))"
   ]
  },
  {
   "cell_type": "code",
   "execution_count": 22,
   "metadata": {},
   "outputs": [],
   "source": [
    "# Seleccionamos un 25 % de las muestras de manera aleatoria.\n",
    "sampled_data = data_trans.sample(frac=0.25)"
   ]
  },
  {
   "cell_type": "code",
   "execution_count": 23,
   "metadata": {},
   "outputs": [
    {
     "name": "stdout",
     "output_type": "stream",
     "text": [
      "10956\n"
     ]
    },
    {
     "data": {
      "text/html": [
       "<div>\n",
       "<style scoped>\n",
       "    .dataframe tbody tr th:only-of-type {\n",
       "        vertical-align: middle;\n",
       "    }\n",
       "\n",
       "    .dataframe tbody tr th {\n",
       "        vertical-align: top;\n",
       "    }\n",
       "\n",
       "    .dataframe thead th {\n",
       "        text-align: right;\n",
       "    }\n",
       "</style>\n",
       "<table border=\"1\" class=\"dataframe\">\n",
       "  <thead>\n",
       "    <tr style=\"text-align: right;\">\n",
       "      <th></th>\n",
       "      <th>No</th>\n",
       "      <th>year</th>\n",
       "      <th>day</th>\n",
       "      <th>hour</th>\n",
       "      <th>pm2.5</th>\n",
       "      <th>TEMP</th>\n",
       "      <th>PRES</th>\n",
       "      <th>Iws</th>\n",
       "      <th>Is</th>\n",
       "      <th>Ir</th>\n",
       "      <th>...</th>\n",
       "      <th>month_mar</th>\n",
       "      <th>month_may</th>\n",
       "      <th>month_nov</th>\n",
       "      <th>month_oct</th>\n",
       "      <th>month_sept</th>\n",
       "      <th>month_nan</th>\n",
       "      <th>cbwd_NE</th>\n",
       "      <th>cbwd_NW</th>\n",
       "      <th>cbwd_SE</th>\n",
       "      <th>cbwd_nan</th>\n",
       "    </tr>\n",
       "  </thead>\n",
       "  <tbody>\n",
       "    <tr>\n",
       "      <td>2615</td>\n",
       "      <td>2616</td>\n",
       "      <td>2010</td>\n",
       "      <td>19</td>\n",
       "      <td>23</td>\n",
       "      <td>152.0</td>\n",
       "      <td>11.0</td>\n",
       "      <td>0.151174</td>\n",
       "      <td>35.76</td>\n",
       "      <td>0</td>\n",
       "      <td>0</td>\n",
       "      <td>...</td>\n",
       "      <td>0</td>\n",
       "      <td>0</td>\n",
       "      <td>0</td>\n",
       "      <td>0</td>\n",
       "      <td>0</td>\n",
       "      <td>0</td>\n",
       "      <td>0</td>\n",
       "      <td>0</td>\n",
       "      <td>1</td>\n",
       "      <td>0</td>\n",
       "    </tr>\n",
       "    <tr>\n",
       "      <td>37053</td>\n",
       "      <td>37054</td>\n",
       "      <td>2014</td>\n",
       "      <td>24</td>\n",
       "      <td>21</td>\n",
       "      <td>225.0</td>\n",
       "      <td>14.0</td>\n",
       "      <td>-0.530517</td>\n",
       "      <td>17.87</td>\n",
       "      <td>0</td>\n",
       "      <td>0</td>\n",
       "      <td>...</td>\n",
       "      <td>1</td>\n",
       "      <td>0</td>\n",
       "      <td>0</td>\n",
       "      <td>0</td>\n",
       "      <td>0</td>\n",
       "      <td>0</td>\n",
       "      <td>0</td>\n",
       "      <td>0</td>\n",
       "      <td>1</td>\n",
       "      <td>0</td>\n",
       "    </tr>\n",
       "    <tr>\n",
       "      <td>40613</td>\n",
       "      <td>40614</td>\n",
       "      <td>2014</td>\n",
       "      <td>20</td>\n",
       "      <td>5</td>\n",
       "      <td>104.0</td>\n",
       "      <td>21.0</td>\n",
       "      <td>-0.627901</td>\n",
       "      <td>48.72</td>\n",
       "      <td>0</td>\n",
       "      <td>0</td>\n",
       "      <td>...</td>\n",
       "      <td>0</td>\n",
       "      <td>0</td>\n",
       "      <td>0</td>\n",
       "      <td>0</td>\n",
       "      <td>0</td>\n",
       "      <td>0</td>\n",
       "      <td>0</td>\n",
       "      <td>0</td>\n",
       "      <td>1</td>\n",
       "      <td>0</td>\n",
       "    </tr>\n",
       "    <tr>\n",
       "      <td>25811</td>\n",
       "      <td>25812</td>\n",
       "      <td>2012</td>\n",
       "      <td>11</td>\n",
       "      <td>11</td>\n",
       "      <td>73.0</td>\n",
       "      <td>-3.0</td>\n",
       "      <td>1.709325</td>\n",
       "      <td>9.84</td>\n",
       "      <td>0</td>\n",
       "      <td>0</td>\n",
       "      <td>...</td>\n",
       "      <td>0</td>\n",
       "      <td>0</td>\n",
       "      <td>0</td>\n",
       "      <td>0</td>\n",
       "      <td>0</td>\n",
       "      <td>0</td>\n",
       "      <td>0</td>\n",
       "      <td>1</td>\n",
       "      <td>0</td>\n",
       "      <td>0</td>\n",
       "    </tr>\n",
       "    <tr>\n",
       "      <td>27982</td>\n",
       "      <td>27983</td>\n",
       "      <td>2013</td>\n",
       "      <td>11</td>\n",
       "      <td>22</td>\n",
       "      <td>117.0</td>\n",
       "      <td>9.0</td>\n",
       "      <td>-0.043595</td>\n",
       "      <td>42.48</td>\n",
       "      <td>0</td>\n",
       "      <td>0</td>\n",
       "      <td>...</td>\n",
       "      <td>1</td>\n",
       "      <td>0</td>\n",
       "      <td>0</td>\n",
       "      <td>0</td>\n",
       "      <td>0</td>\n",
       "      <td>0</td>\n",
       "      <td>0</td>\n",
       "      <td>0</td>\n",
       "      <td>1</td>\n",
       "      <td>0</td>\n",
       "    </tr>\n",
       "  </tbody>\n",
       "</table>\n",
       "<p>5 rows × 27 columns</p>\n",
       "</div>"
      ],
      "text/plain": [
       "          No  year  day  hour  pm2.5  TEMP      PRES    Iws  Is  Ir  ...  \\\n",
       "2615    2616  2010   19    23  152.0  11.0  0.151174  35.76   0   0  ...   \n",
       "37053  37054  2014   24    21  225.0  14.0 -0.530517  17.87   0   0  ...   \n",
       "40613  40614  2014   20     5  104.0  21.0 -0.627901  48.72   0   0  ...   \n",
       "25811  25812  2012   11    11   73.0  -3.0  1.709325   9.84   0   0  ...   \n",
       "27982  27983  2013   11    22  117.0   9.0 -0.043595  42.48   0   0  ...   \n",
       "\n",
       "       month_mar  month_may  month_nov  month_oct  month_sept  month_nan  \\\n",
       "2615           0          0          0          0           0          0   \n",
       "37053          1          0          0          0           0          0   \n",
       "40613          0          0          0          0           0          0   \n",
       "25811          0          0          0          0           0          0   \n",
       "27982          1          0          0          0           0          0   \n",
       "\n",
       "       cbwd_NE  cbwd_NW  cbwd_SE  cbwd_nan  \n",
       "2615         0        0        1         0  \n",
       "37053        0        0        1         0  \n",
       "40613        0        0        1         0  \n",
       "25811        0        1        0         0  \n",
       "27982        0        0        1         0  \n",
       "\n",
       "[5 rows x 27 columns]"
      ]
     },
     "execution_count": 23,
     "metadata": {},
     "output_type": "execute_result"
    }
   ],
   "source": [
    "# Mostramos el número de muestras seleccionado.\n",
    "print(len(sampled_data))\n",
    "\n",
    "# Mostramos las cinco primeras muestras seleccionadas.\n",
    "sampled_data.head(n=5)"
   ]
  },
  {
   "cell_type": "markdown",
   "metadata": {},
   "source": [
    "Notad que el *dataframe* conserva el número de atributos original, pero solo contiene un 25 % de las muestras originales."
   ]
  },
  {
   "cell_type": "markdown",
   "metadata": {},
   "source": [
    "## Discretización\n",
    "\n",
    "En ocasiones nos interesará convertir un atributo continuo en uno de discreto. Una manera de hacerlo es divir el espacio de posibles valores que toma el atributo en `n` _bins_ o intervalos del mismo tamaño y asignar cada muestra al intervalo al que pertenece. Veamos un ejemplo discretizando el atributo `Iws` en cinco intervalos del mismo tamaño."
   ]
  },
  {
   "cell_type": "code",
   "execution_count": 24,
   "metadata": {},
   "outputs": [
    {
     "data": {
      "text/plain": [
       "count    43824.000000\n",
       "mean        23.889140\n",
       "std         50.010635\n",
       "min          0.450000\n",
       "25%          1.790000\n",
       "50%          5.370000\n",
       "75%         21.910000\n",
       "max        585.600000\n",
       "Name: Iws, dtype: float64"
      ]
     },
     "execution_count": 24,
     "metadata": {},
     "output_type": "execute_result"
    }
   ],
   "source": [
    "# Observamos los estadísticos básicos del atributo \"Iws\".\n",
    "data_trans[\"Iws\"].describe()"
   ]
  },
  {
   "cell_type": "code",
   "execution_count": 25,
   "metadata": {},
   "outputs": [],
   "source": [
    "# Creamos un nuevo atributo \"Iws_disc\" que contiene la discretización de \"Iws\".\n",
    "data_trans[\"Iws_disc\"] = pd.cut(data_trans[\"Iws\"], 5)"
   ]
  },
  {
   "cell_type": "code",
   "execution_count": 26,
   "metadata": {},
   "outputs": [
    {
     "data": {
      "text/html": [
       "<div>\n",
       "<style scoped>\n",
       "    .dataframe tbody tr th:only-of-type {\n",
       "        vertical-align: middle;\n",
       "    }\n",
       "\n",
       "    .dataframe tbody tr th {\n",
       "        vertical-align: top;\n",
       "    }\n",
       "\n",
       "    .dataframe thead th {\n",
       "        text-align: right;\n",
       "    }\n",
       "</style>\n",
       "<table border=\"1\" class=\"dataframe\">\n",
       "  <thead>\n",
       "    <tr style=\"text-align: right;\">\n",
       "      <th></th>\n",
       "      <th>Iws</th>\n",
       "      <th>Iws_disc</th>\n",
       "    </tr>\n",
       "  </thead>\n",
       "  <tbody>\n",
       "    <tr>\n",
       "      <td>80</td>\n",
       "      <td>80.90</td>\n",
       "      <td>(-0.135, 117.48]</td>\n",
       "    </tr>\n",
       "    <tr>\n",
       "      <td>81</td>\n",
       "      <td>90.73</td>\n",
       "      <td>(-0.135, 117.48]</td>\n",
       "    </tr>\n",
       "    <tr>\n",
       "      <td>82</td>\n",
       "      <td>100.56</td>\n",
       "      <td>(-0.135, 117.48]</td>\n",
       "    </tr>\n",
       "    <tr>\n",
       "      <td>83</td>\n",
       "      <td>108.61</td>\n",
       "      <td>(-0.135, 117.48]</td>\n",
       "    </tr>\n",
       "    <tr>\n",
       "      <td>84</td>\n",
       "      <td>117.55</td>\n",
       "      <td>(117.48, 234.51]</td>\n",
       "    </tr>\n",
       "    <tr>\n",
       "      <td>85</td>\n",
       "      <td>127.38</td>\n",
       "      <td>(117.48, 234.51]</td>\n",
       "    </tr>\n",
       "    <tr>\n",
       "      <td>86</td>\n",
       "      <td>136.32</td>\n",
       "      <td>(117.48, 234.51]</td>\n",
       "    </tr>\n",
       "    <tr>\n",
       "      <td>87</td>\n",
       "      <td>145.26</td>\n",
       "      <td>(117.48, 234.51]</td>\n",
       "    </tr>\n",
       "    <tr>\n",
       "      <td>88</td>\n",
       "      <td>152.41</td>\n",
       "      <td>(117.48, 234.51]</td>\n",
       "    </tr>\n",
       "    <tr>\n",
       "      <td>89</td>\n",
       "      <td>159.56</td>\n",
       "      <td>(117.48, 234.51]</td>\n",
       "    </tr>\n",
       "    <tr>\n",
       "      <td>90</td>\n",
       "      <td>165.37</td>\n",
       "      <td>(117.48, 234.51]</td>\n",
       "    </tr>\n",
       "  </tbody>\n",
       "</table>\n",
       "</div>"
      ],
      "text/plain": [
       "       Iws          Iws_disc\n",
       "80   80.90  (-0.135, 117.48]\n",
       "81   90.73  (-0.135, 117.48]\n",
       "82  100.56  (-0.135, 117.48]\n",
       "83  108.61  (-0.135, 117.48]\n",
       "84  117.55  (117.48, 234.51]\n",
       "85  127.38  (117.48, 234.51]\n",
       "86  136.32  (117.48, 234.51]\n",
       "87  145.26  (117.48, 234.51]\n",
       "88  152.41  (117.48, 234.51]\n",
       "89  159.56  (117.48, 234.51]\n",
       "90  165.37  (117.48, 234.51]"
      ]
     },
     "execution_count": 26,
     "metadata": {},
     "output_type": "execute_result"
    }
   ],
   "source": [
    "# Visualizamos el contenido de los atributos \"Iws\" y \"Iws_disc\" para un subconjunto de muestras \n",
    "# para observar el resultado.\n",
    "data_trans.loc[80:90, [\"Iws\", \"Iws_disc\"]]"
   ]
  },
  {
   "cell_type": "markdown",
   "metadata": {},
   "source": [
    "Por defecto la función `cut` utiliza el intervalo como valor del nuevo atributo. Podemos asignar valores arbitrarios al nuevo atributo, por ejemplo:"
   ]
  },
  {
   "cell_type": "code",
   "execution_count": 27,
   "metadata": {},
   "outputs": [],
   "source": [
    "# Designamos cinco nombres para los intervalos.\n",
    "group_names = ['Very Low', 'Low', 'Medium', 'High', 'Very High']"
   ]
  },
  {
   "cell_type": "code",
   "execution_count": 28,
   "metadata": {},
   "outputs": [],
   "source": [
    "# Creamos un nuevo atributo \"Iws_disc_named\" discretizando de nuevo \"Iws\" con 5 intervalos\n",
    "# del mismo tamaño pero usando ahora las etiquetas definidas.\n",
    "data_trans[\"Iws_disc_named\"] = pd.cut(data_trans[\"Iws\"], 5, labels = group_names)"
   ]
  },
  {
   "cell_type": "code",
   "execution_count": 29,
   "metadata": {},
   "outputs": [
    {
     "data": {
      "text/html": [
       "<div>\n",
       "<style scoped>\n",
       "    .dataframe tbody tr th:only-of-type {\n",
       "        vertical-align: middle;\n",
       "    }\n",
       "\n",
       "    .dataframe tbody tr th {\n",
       "        vertical-align: top;\n",
       "    }\n",
       "\n",
       "    .dataframe thead th {\n",
       "        text-align: right;\n",
       "    }\n",
       "</style>\n",
       "<table border=\"1\" class=\"dataframe\">\n",
       "  <thead>\n",
       "    <tr style=\"text-align: right;\">\n",
       "      <th></th>\n",
       "      <th>Iws</th>\n",
       "      <th>Iws_disc</th>\n",
       "      <th>Iws_disc_named</th>\n",
       "    </tr>\n",
       "  </thead>\n",
       "  <tbody>\n",
       "    <tr>\n",
       "      <td>80</td>\n",
       "      <td>80.90</td>\n",
       "      <td>(-0.135, 117.48]</td>\n",
       "      <td>Very Low</td>\n",
       "    </tr>\n",
       "    <tr>\n",
       "      <td>81</td>\n",
       "      <td>90.73</td>\n",
       "      <td>(-0.135, 117.48]</td>\n",
       "      <td>Very Low</td>\n",
       "    </tr>\n",
       "    <tr>\n",
       "      <td>82</td>\n",
       "      <td>100.56</td>\n",
       "      <td>(-0.135, 117.48]</td>\n",
       "      <td>Very Low</td>\n",
       "    </tr>\n",
       "    <tr>\n",
       "      <td>83</td>\n",
       "      <td>108.61</td>\n",
       "      <td>(-0.135, 117.48]</td>\n",
       "      <td>Very Low</td>\n",
       "    </tr>\n",
       "    <tr>\n",
       "      <td>84</td>\n",
       "      <td>117.55</td>\n",
       "      <td>(117.48, 234.51]</td>\n",
       "      <td>Low</td>\n",
       "    </tr>\n",
       "    <tr>\n",
       "      <td>85</td>\n",
       "      <td>127.38</td>\n",
       "      <td>(117.48, 234.51]</td>\n",
       "      <td>Low</td>\n",
       "    </tr>\n",
       "    <tr>\n",
       "      <td>86</td>\n",
       "      <td>136.32</td>\n",
       "      <td>(117.48, 234.51]</td>\n",
       "      <td>Low</td>\n",
       "    </tr>\n",
       "    <tr>\n",
       "      <td>87</td>\n",
       "      <td>145.26</td>\n",
       "      <td>(117.48, 234.51]</td>\n",
       "      <td>Low</td>\n",
       "    </tr>\n",
       "    <tr>\n",
       "      <td>88</td>\n",
       "      <td>152.41</td>\n",
       "      <td>(117.48, 234.51]</td>\n",
       "      <td>Low</td>\n",
       "    </tr>\n",
       "    <tr>\n",
       "      <td>89</td>\n",
       "      <td>159.56</td>\n",
       "      <td>(117.48, 234.51]</td>\n",
       "      <td>Low</td>\n",
       "    </tr>\n",
       "    <tr>\n",
       "      <td>90</td>\n",
       "      <td>165.37</td>\n",
       "      <td>(117.48, 234.51]</td>\n",
       "      <td>Low</td>\n",
       "    </tr>\n",
       "  </tbody>\n",
       "</table>\n",
       "</div>"
      ],
      "text/plain": [
       "       Iws          Iws_disc Iws_disc_named\n",
       "80   80.90  (-0.135, 117.48]       Very Low\n",
       "81   90.73  (-0.135, 117.48]       Very Low\n",
       "82  100.56  (-0.135, 117.48]       Very Low\n",
       "83  108.61  (-0.135, 117.48]       Very Low\n",
       "84  117.55  (117.48, 234.51]            Low\n",
       "85  127.38  (117.48, 234.51]            Low\n",
       "86  136.32  (117.48, 234.51]            Low\n",
       "87  145.26  (117.48, 234.51]            Low\n",
       "88  152.41  (117.48, 234.51]            Low\n",
       "89  159.56  (117.48, 234.51]            Low\n",
       "90  165.37  (117.48, 234.51]            Low"
      ]
     },
     "execution_count": 29,
     "metadata": {},
     "output_type": "execute_result"
    }
   ],
   "source": [
    "# Visualizamos el contenido de los atributos \"Iws\", \"Iws_disc\" y \"Iws_disc_named\" \n",
    "# para un subconjunto de muestras para observar el resultado.\n",
    "data_trans.loc[80:90, [\"Iws\", \"Iws_disc\", \"Iws_disc_named\"]]"
   ]
  }
 ],
 "metadata": {
  "kernelspec": {
   "display_name": "Python 3",
   "language": "python",
   "name": "python3"
  },
  "language_info": {
   "codemirror_mode": {
    "name": "ipython",
    "version": 3
   },
   "file_extension": ".py",
   "mimetype": "text/x-python",
   "name": "python",
   "nbconvert_exporter": "python",
   "pygments_lexer": "ipython3",
   "version": "3.7.4"
  }
 },
 "nbformat": 4,
 "nbformat_minor": 1
}
