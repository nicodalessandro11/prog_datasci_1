{
 "cells": [
  {
   "cell_type": "markdown",
   "metadata": {},
   "source": [
    "# Programación para *Data Science*"
   ]
  },
  {
   "cell_type": "markdown",
   "metadata": {},
   "source": [
    "Unidad 7: Análisis de datos en Python\n",
    "------------------------------------------------------\n",
    "\n"
   ]
  },
  {
   "cell_type": "markdown",
   "metadata": {},
   "source": [
    "# Introducción\n",
    "\n",
    "En este Notebook encontraréis dos conjuntos de ejercicios: un primer conjunto de **ejercicios para practicar** y un segundo conjunto de **actividades evaluables** como PEC de la asignatura.\n",
    "\n",
    "En cuanto al conjunto de ejercicios para practicar, éstos no puntúan para la PEC, pero os recomendamos que los intentéis resolver como parte del proceso de aprendizaje. Encontraréis ejemplos de posibles soluciones a los ejercicios al propio notebook, pero es importante que intentéis resolverlos vosotros antes de consultar las soluciones. Las soluciones os permitirán validar vuestras respuestas, así como ver alternativas de resolución de las actividades. También os animamos a preguntar cualquier duda que surja sobre la resolución de los **ejercicios para practicar** en el foro del aula.\n",
    "\n",
    "En relación a las actividades evaluables, veréis que cada una de ellas tiene asociada una puntuación que indica el peso que tiene la actividad sobre la nota de la PEC. Adicionalmente, hay un ejercicio opcional, que no tiene puntuación dentro de la PEC, pero que se valora al final del semestre de cara a conceder las matrículas de honor y redondear las notas finales. Podéis sacar la máxima nota de la PEC sin necesidad de hacer este ejercicio! El objetivo de este ejercicio es que sirva como pequeño reto para los estudiantes que quieran profundizar en el contenido de la asignatura.\n",
    "\n",
    "Además, veréis que todas las actividades tienen una etiqueta que indica los recursos necesarios para llevarla a cabo. Hay tres posibles etiquetas:\n",
    "\n",
    "* <span style=\"font-family: Courier New; background-color: #82b74b; color: #000000; padding: 3px; \">NM</span> **Sólo materiales**: las herramientas necesarias para realizar la actividad se pueden encontrar en los materiales de la asignatura. \n",
    "\n",
    "* <span style=\"font-family: Courier New; background-color: #ffcc5c; color: #000000; padding: 3px; \">EG</span> **Consulta externa guiada**: la actividad puede requerir hacer uso de herramientas que no se encuentran en los materiales de la asignatura, pero el enunciado contiene indicaciones de dónde o cómo encontrar la información adicional necesaria para resolver la actividad.\n",
    "\n",
    "* <span style=\"font-family: Courier New; background-color: #f2ae72; color: #000000; padding: 3px; \">EI</span> **Consulta externa independente**: la actividad puede requerir hacer uso de herramientas que no se encuentran en los materiales de la asignatura, y el enunciado puede no incluir la descripción de dónde o cómo encontrar esta información adicional. Será necesario que el estudiante busque esta información utilizando los recursos que se han explicado en la asignatura.\n",
    "\n",
    "Es importante notar que estas etiquetas no indican el nivel de dificultad del ejercicio, sino únicamente la necesidad de consulta de documentación externa para su resolución. Además, recordad que las **etiquetas son informativas**, pero podréis consultar referencias externas en cualquier momento (aunque no se indique explícitamente) o puede ser que podáis hacer una actividad sin consultar ningún tipo de documentación. Por ejemplo, para resolver una actividad que sólo requiera los materiales de la asignatura, puedéis consultar referencias externas si queréis, ya sea tanto para ayudaros en la resolución como para ampliar el conocimiento!\n",
    "\n",
    "En cuanto a la consulta de documentación externa en la resolución de los ejercicios, recordad **citar siempre la bibliografía utilizada** para resolver cada actividad."
   ]
  },
  {
   "cell_type": "markdown",
   "metadata": {},
   "source": [
    "____"
   ]
  },
  {
   "cell_type": "markdown",
   "metadata": {},
   "source": [
    "### Alumno: Nicolás D'Alessandro"
   ]
  },
  {
   "cell_type": "markdown",
   "metadata": {},
   "source": [
    "---\n",
    "## Ejercicios y preguntas teóricas para la PEC"
   ]
  },
  {
   "cell_type": "markdown",
   "metadata": {},
   "source": [
    "A continuación, los ejercicios que se deben completar en esta PEC y que forman parte de la evaluación de esta unidad."
   ]
  },
  {
   "cell_type": "markdown",
   "metadata": {},
   "source": [
    "## Pregunta 1\n",
    "\n",
    "Investiga y describe el funcionamiento del algoritmo de clustering *Leave One Out*. Pon un ejemplo de aplicación del algoritmo para resolver un problema de análisis en el ámbito de la salud. Recordad que hay que citar las referencias consultadas para responder la pregunta, y que la respuesta que proporcionéis debe ser original (redactada por vosotros mismos, después de haber leído y entendido las referencias que consideréis oportunas). **(1 punto)** <span style=\"font-family: Courier New; background-color: #ffcc5c; color: #000000; padding: 3px; \">EG</span>"
   ]
  },
  {
   "cell_type": "markdown",
   "metadata": {},
   "source": [
    "**Leave One Out** es una de las diferentes técnicas de \"model validation\" que existen para estimar la \"accuracy\" de, en este caso, un modelo de ML.\n",
    "\n",
    "   1) Antes de definir este concepto, debemos entender que es la validación cruzada (mas conocida como **\"cross-validation\"** por su denominación en Ingles), cuyo objetivo es medir la habilidad que nuestro modelo tiene para predecir o clasificar (dependiendo el tipo de problema planteado) cuando se prueba en data que no has sido utilizada para el entrenamiento del modelo. Cabe aclarar, que para realizar un problema de ML dividimos nuestro dataset original en dos: un dataset \"train\" y otro \"test\".\n",
    "    \n",
    "   2) Una vez tenemos claro el concepto de cross-validation, podemos profundizar en la definición de **\"leave-one-out\"** que pide el enunciado. Esta técnica de validación-cruzada consiste en separar los datos con el fin de realizar una iteración con un solo un valor del dataset para \"test\" y todo los valores restantes como datos de entrenamiento. Por tanto, se realizarán tantas iteraciones como muestras tenga el dataset, habiendo para cada una de las N iteraciones un cálculo de error. El resultado final lo obtenemos realizando la \"media aritmética\" de los N valores de errores obtenidos.\n",
    "    Es evidente que este tipo de validación cruzada implica un costo computacional muy alto, sobre todo en datasets de gran volumen."
   ]
  },
  {
   "cell_type": "markdown",
   "metadata": {},
   "source": [
    "<img src=\"lovxe.png\"  align=\"center\" style=\"width: 450px;\"/>"
   ]
  },
  {
   "cell_type": "markdown",
   "metadata": {},
   "source": [
    "## Pregunta 2"
   ]
  },
  {
   "cell_type": "markdown",
   "metadata": {},
   "source": [
    "Debemos evitar evaluar los modelos con los mismos datos que se han utilizado para el aprendizaje. De no hacerlo, podríamos favorecer el problema del **sobre-ajuste**. ¿En qué consiste este problema y qué consecuencias puede tener? **(0,5 puntos)** <span style=\"font-family: Courier New; background-color: #f2ae72; color: #000000; padding: 3px; \">EI</span>"
   ]
  },
  {
   "cell_type": "markdown",
   "metadata": {},
   "source": [
    "Como hemos dicho anteriormente, cuando realizamos un problema de ML separamos nuestro dataset en **\"train\"** y **\"test\"**, de modo de entrenar y obtener el modelo con el primero y medir la efectividad frente a datos desconocidos con el segundo.\n",
    "Al trabajar de esta manera, nuestro modelo es siempre suceptible al error o problema de sobre-ajuste (más conocido como **\"overfitting\"** por su definición en Ingles). El sobre ajuste se produce cuando nuestro modelo es capaz de predecir o clasificar de manera muy efectiva con nuestro dataset de entrenamiento, pero falla al hacerlo con nuestra data \"test\". Este problema se da de manera muy recurrente en la elaboración de modelos de ML, y técnicas de cross validation como la explicada en la primera pregunta, son utilizadas justamente para detectar este problema."
   ]
  },
  {
   "cell_type": "markdown",
   "metadata": {},
   "source": [
    "<img src=\"overfiting.png\"  align=\"center\" style=\"width: 800px;\"/>"
   ]
  },
  {
   "cell_type": "markdown",
   "metadata": {},
   "source": [
    "## Ejercicio 1"
   ]
  },
  {
   "cell_type": "markdown",
   "metadata": {},
   "source": [
    "En los siguientes ejercicios de la PEC usaremos el conjunto de datos del dataset `breast_cancer` de *sklearn*. Crea una tabla con los estadísticos descriptivos de todas las características de los tumores de la base de datos `breast_cancer` agrupados por tipo (benigno/maligno).\n",
    "\n",
    "Realizad un test estadístico [ttest](https://docs.scipy.org/doc/scipy/reference/generated/scipy.stats.ttest_ind.html) para comparar el error de la simetría (*symmetry error*) y tersura (*mean smoothness*) de los tumores benignos con las de los malignos. Dado el resultado obtenido, indica qué características podrían ser más relevantes para diagnosticar un tumor maligno.\n",
    "\n",
    "Nota: Consulta este [enlace](http://www.conexionismo.com/leer_articulo.php?ref=prueba_t_de_student_para_la_comparacion_de_dos_muestras_independientes-j960497l) si quieres ampliar conocimientos sobre el test estadístico ttest. Para realizar el test estadístico automáticamente podéis utilizar el método [`ttest_ind`](https://docs.scipy.org/doc/scipy/reference/generated/scipy.stats.ttest_ind.html) de *Scipy.stats*\n",
    "**(1 punto)** <span style=\"font-family: Courier New; background-color: #ffcc5c; color: #000000; padding: 3px; \">EG</span>\n"
   ]
  },
  {
   "cell_type": "code",
   "execution_count": 1,
   "metadata": {},
   "outputs": [
    {
     "name": "stderr",
     "output_type": "stream",
     "text": [
      "/Users/nicolasdalessandro/opt/anaconda3/lib/python3.7/site-packages/statsmodels/tools/_testing.py:19: FutureWarning: pandas.util.testing is deprecated. Use the functions in the public API at pandas.testing instead.\n",
      "  import pandas.util.testing as tm\n"
     ]
    }
   ],
   "source": [
    "#importamos las librerias necesarias\n",
    "import numpy as np \n",
    "import pandas as pd \n",
    "import seaborn as sns\n",
    "import matplotlib.pyplot as plt \n",
    "from sklearn import datasets \n",
    "from scipy import stats\n",
    "\n",
    "#cargamos el dataset solicitado\n",
    "from sklearn.datasets import load_breast_cancer"
   ]
  },
  {
   "cell_type": "code",
   "execution_count": 2,
   "metadata": {},
   "outputs": [],
   "source": [
    "diagnostics = datasets.load_breast_cancer()"
   ]
  },
  {
   "cell_type": "code",
   "execution_count": 3,
   "metadata": {},
   "outputs": [],
   "source": [
    "columns = diagnostics['feature_names'].tolist()\n",
    "df = diagnostics['data'].tolist()"
   ]
  },
  {
   "cell_type": "code",
   "execution_count": 4,
   "metadata": {},
   "outputs": [
    {
     "data": {
      "text/html": [
       "<div>\n",
       "<style scoped>\n",
       "    .dataframe tbody tr th:only-of-type {\n",
       "        vertical-align: middle;\n",
       "    }\n",
       "\n",
       "    .dataframe tbody tr th {\n",
       "        vertical-align: top;\n",
       "    }\n",
       "\n",
       "    .dataframe thead th {\n",
       "        text-align: right;\n",
       "    }\n",
       "</style>\n",
       "<table border=\"1\" class=\"dataframe\">\n",
       "  <thead>\n",
       "    <tr style=\"text-align: right;\">\n",
       "      <th></th>\n",
       "      <th>mean radius</th>\n",
       "      <th>mean texture</th>\n",
       "      <th>mean perimeter</th>\n",
       "      <th>mean area</th>\n",
       "      <th>mean smoothness</th>\n",
       "      <th>mean compactness</th>\n",
       "      <th>mean concavity</th>\n",
       "      <th>mean concave points</th>\n",
       "      <th>mean symmetry</th>\n",
       "      <th>mean fractal dimension</th>\n",
       "      <th>...</th>\n",
       "      <th>worst texture</th>\n",
       "      <th>worst perimeter</th>\n",
       "      <th>worst area</th>\n",
       "      <th>worst smoothness</th>\n",
       "      <th>worst compactness</th>\n",
       "      <th>worst concavity</th>\n",
       "      <th>worst concave points</th>\n",
       "      <th>worst symmetry</th>\n",
       "      <th>worst fractal dimension</th>\n",
       "      <th>target</th>\n",
       "    </tr>\n",
       "  </thead>\n",
       "  <tbody>\n",
       "    <tr>\n",
       "      <th>0</th>\n",
       "      <td>17.99</td>\n",
       "      <td>10.38</td>\n",
       "      <td>122.80</td>\n",
       "      <td>1001.0</td>\n",
       "      <td>0.11840</td>\n",
       "      <td>0.27760</td>\n",
       "      <td>0.3001</td>\n",
       "      <td>0.14710</td>\n",
       "      <td>0.2419</td>\n",
       "      <td>0.07871</td>\n",
       "      <td>...</td>\n",
       "      <td>17.33</td>\n",
       "      <td>184.60</td>\n",
       "      <td>2019.0</td>\n",
       "      <td>0.1622</td>\n",
       "      <td>0.6656</td>\n",
       "      <td>0.7119</td>\n",
       "      <td>0.2654</td>\n",
       "      <td>0.4601</td>\n",
       "      <td>0.11890</td>\n",
       "      <td>0</td>\n",
       "    </tr>\n",
       "    <tr>\n",
       "      <th>1</th>\n",
       "      <td>20.57</td>\n",
       "      <td>17.77</td>\n",
       "      <td>132.90</td>\n",
       "      <td>1326.0</td>\n",
       "      <td>0.08474</td>\n",
       "      <td>0.07864</td>\n",
       "      <td>0.0869</td>\n",
       "      <td>0.07017</td>\n",
       "      <td>0.1812</td>\n",
       "      <td>0.05667</td>\n",
       "      <td>...</td>\n",
       "      <td>23.41</td>\n",
       "      <td>158.80</td>\n",
       "      <td>1956.0</td>\n",
       "      <td>0.1238</td>\n",
       "      <td>0.1866</td>\n",
       "      <td>0.2416</td>\n",
       "      <td>0.1860</td>\n",
       "      <td>0.2750</td>\n",
       "      <td>0.08902</td>\n",
       "      <td>0</td>\n",
       "    </tr>\n",
       "    <tr>\n",
       "      <th>2</th>\n",
       "      <td>19.69</td>\n",
       "      <td>21.25</td>\n",
       "      <td>130.00</td>\n",
       "      <td>1203.0</td>\n",
       "      <td>0.10960</td>\n",
       "      <td>0.15990</td>\n",
       "      <td>0.1974</td>\n",
       "      <td>0.12790</td>\n",
       "      <td>0.2069</td>\n",
       "      <td>0.05999</td>\n",
       "      <td>...</td>\n",
       "      <td>25.53</td>\n",
       "      <td>152.50</td>\n",
       "      <td>1709.0</td>\n",
       "      <td>0.1444</td>\n",
       "      <td>0.4245</td>\n",
       "      <td>0.4504</td>\n",
       "      <td>0.2430</td>\n",
       "      <td>0.3613</td>\n",
       "      <td>0.08758</td>\n",
       "      <td>0</td>\n",
       "    </tr>\n",
       "    <tr>\n",
       "      <th>3</th>\n",
       "      <td>11.42</td>\n",
       "      <td>20.38</td>\n",
       "      <td>77.58</td>\n",
       "      <td>386.1</td>\n",
       "      <td>0.14250</td>\n",
       "      <td>0.28390</td>\n",
       "      <td>0.2414</td>\n",
       "      <td>0.10520</td>\n",
       "      <td>0.2597</td>\n",
       "      <td>0.09744</td>\n",
       "      <td>...</td>\n",
       "      <td>26.50</td>\n",
       "      <td>98.87</td>\n",
       "      <td>567.7</td>\n",
       "      <td>0.2098</td>\n",
       "      <td>0.8663</td>\n",
       "      <td>0.6869</td>\n",
       "      <td>0.2575</td>\n",
       "      <td>0.6638</td>\n",
       "      <td>0.17300</td>\n",
       "      <td>0</td>\n",
       "    </tr>\n",
       "    <tr>\n",
       "      <th>4</th>\n",
       "      <td>20.29</td>\n",
       "      <td>14.34</td>\n",
       "      <td>135.10</td>\n",
       "      <td>1297.0</td>\n",
       "      <td>0.10030</td>\n",
       "      <td>0.13280</td>\n",
       "      <td>0.1980</td>\n",
       "      <td>0.10430</td>\n",
       "      <td>0.1809</td>\n",
       "      <td>0.05883</td>\n",
       "      <td>...</td>\n",
       "      <td>16.67</td>\n",
       "      <td>152.20</td>\n",
       "      <td>1575.0</td>\n",
       "      <td>0.1374</td>\n",
       "      <td>0.2050</td>\n",
       "      <td>0.4000</td>\n",
       "      <td>0.1625</td>\n",
       "      <td>0.2364</td>\n",
       "      <td>0.07678</td>\n",
       "      <td>0</td>\n",
       "    </tr>\n",
       "  </tbody>\n",
       "</table>\n",
       "<p>5 rows × 31 columns</p>\n",
       "</div>"
      ],
      "text/plain": [
       "   mean radius  mean texture  mean perimeter  mean area  mean smoothness  \\\n",
       "0        17.99         10.38          122.80     1001.0          0.11840   \n",
       "1        20.57         17.77          132.90     1326.0          0.08474   \n",
       "2        19.69         21.25          130.00     1203.0          0.10960   \n",
       "3        11.42         20.38           77.58      386.1          0.14250   \n",
       "4        20.29         14.34          135.10     1297.0          0.10030   \n",
       "\n",
       "   mean compactness  mean concavity  mean concave points  mean symmetry  \\\n",
       "0           0.27760          0.3001              0.14710         0.2419   \n",
       "1           0.07864          0.0869              0.07017         0.1812   \n",
       "2           0.15990          0.1974              0.12790         0.2069   \n",
       "3           0.28390          0.2414              0.10520         0.2597   \n",
       "4           0.13280          0.1980              0.10430         0.1809   \n",
       "\n",
       "   mean fractal dimension  ...  worst texture  worst perimeter  worst area  \\\n",
       "0                 0.07871  ...          17.33           184.60      2019.0   \n",
       "1                 0.05667  ...          23.41           158.80      1956.0   \n",
       "2                 0.05999  ...          25.53           152.50      1709.0   \n",
       "3                 0.09744  ...          26.50            98.87       567.7   \n",
       "4                 0.05883  ...          16.67           152.20      1575.0   \n",
       "\n",
       "   worst smoothness  worst compactness  worst concavity  worst concave points  \\\n",
       "0            0.1622             0.6656           0.7119                0.2654   \n",
       "1            0.1238             0.1866           0.2416                0.1860   \n",
       "2            0.1444             0.4245           0.4504                0.2430   \n",
       "3            0.2098             0.8663           0.6869                0.2575   \n",
       "4            0.1374             0.2050           0.4000                0.1625   \n",
       "\n",
       "   worst symmetry  worst fractal dimension  target  \n",
       "0          0.4601                  0.11890       0  \n",
       "1          0.2750                  0.08902       0  \n",
       "2          0.3613                  0.08758       0  \n",
       "3          0.6638                  0.17300       0  \n",
       "4          0.2364                  0.07678       0  \n",
       "\n",
       "[5 rows x 31 columns]"
      ]
     },
     "execution_count": 4,
     "metadata": {},
     "output_type": "execute_result"
    }
   ],
   "source": [
    "df = pd.DataFrame(diagnostics['data'], columns=columns)\n",
    "df = df.assign(target=pd.Series(diagnostics['target']))\n",
    "df.head()"
   ]
  },
  {
   "cell_type": "code",
   "execution_count": 5,
   "metadata": {},
   "outputs": [],
   "source": [
    "symmetry_error_bening = df[df['target'] == 0]['symmetry error']\n",
    "symmetry_error_malign = df[df['target'] == 1]['symmetry error']\n",
    "\n",
    "mean_smoothness_bening = df[df['target'] == 0]['mean smoothness']\n",
    "mean_smoothness_malign = df[df['target'] == 1]['mean smoothness']"
   ]
  },
  {
   "cell_type": "code",
   "execution_count": 6,
   "metadata": {},
   "outputs": [
    {
     "data": {
      "image/png": "[encoded data removed]",
      "text/plain": [
       "<Figure size 720x288 with 2 Axes>"
      ]
     },
     "metadata": {
      "needs_background": "light"
     },
     "output_type": "display_data"
    }
   ],
   "source": [
    "#graficamos la distribución del error de la simetría (symmetry error)\n",
    "fig = plt.subplots(figsize= (10,4))\n",
    "\n",
    "plt.subplot(121)\n",
    "plt.title('symmetry_error_bening')\n",
    "plt.ylim(0, 100)\n",
    "plt.xlim(0, 0.08)\n",
    "symmetry_error_bening.hist(alpha=0.8, bins=15)\n",
    "\n",
    "plt.subplot(122)\n",
    "plt.title('symmetry_error_malign')\n",
    "plt.ylim(0, 100)\n",
    "plt.xlim(0, 0.08)\n",
    "symmetry_error_malign.hist(alpha=0.8, bins=15, color= 'orange')\n",
    "\n",
    "plt.show()"
   ]
  },
  {
   "cell_type": "code",
   "execution_count": 7,
   "metadata": {},
   "outputs": [
    {
     "data": {
      "image/png": "[encoded data removed]",
      "text/plain": [
       "<Figure size 720x288 with 2 Axes>"
      ]
     },
     "metadata": {
      "needs_background": "light"
     },
     "output_type": "display_data"
    }
   ],
   "source": [
    "#graficamos la distribución del error de tersura (mean smoothness) \n",
    "fig = plt.subplots(figsize= (10,4))\n",
    "\n",
    "plt.subplot(121)\n",
    "plt.title('mean_smoothness_bening')\n",
    "plt.ylim(0, 100)\n",
    "plt.xlim(0, 0.16)\n",
    "mean_smoothness_bening.hist(alpha=0.8, bins=15, color='g')\n",
    "\n",
    "plt.subplot(122)\n",
    "plt.title('mean_smoothness_malign')\n",
    "plt.ylim(0, 100)\n",
    "plt.xlim(0, 0.16)\n",
    "mean_smoothness_malign.hist(alpha=0.8, bins=15, color= 'r')\n",
    "\n",
    "plt.show()"
   ]
  },
  {
   "cell_type": "code",
   "execution_count": 8,
   "metadata": {},
   "outputs": [
    {
     "data": {
      "text/plain": [
       "Ttest_indResult(statistic=-0.1552978000059369, pvalue=0.8766418183858812)"
      ]
     },
     "execution_count": 8,
     "metadata": {},
     "output_type": "execute_result"
    }
   ],
   "source": [
    "#realizamos el t-test estadístico sobre el error de la simetría (symmetry error)\n",
    "stats.ttest_ind(symmetry_error_bening, symmetry_error_malign)"
   ]
  },
  {
   "cell_type": "code",
   "execution_count": 7,
   "metadata": {},
   "outputs": [
    {
     "data": {
      "text/plain": [
       "Ttest_indResult(statistic=9.146098808149038, pvalue=1.0518503592032013e-18)"
      ]
     },
     "execution_count": 7,
     "metadata": {},
     "output_type": "execute_result"
    }
   ],
   "source": [
    "#realizamos el t-test estadístico sobre el error de tersura (mean smoothness) \n",
    "stats.ttest_ind(mean_smoothness_bening, mean_smoothness_malign)"
   ]
  },
  {
   "cell_type": "markdown",
   "metadata": {},
   "source": [
    "<span style=\"font-family: Courier New; background-color: #82b74b; color: #000000; padding: 3px; \">CONCLUSIÓN:</span> El p-value pequeño obtenido en el t-test del error de tersura, nos indica que la media de los turomes malignos vs.la de los benignos es estadísticamente significativa, por lo que en principio es una caráteristica de importancia para diagnosticar los tumores."
   ]
  },
  {
   "cell_type": "markdown",
   "metadata": {},
   "source": [
    "## Ejercicio 2"
   ]
  },
  {
   "cell_type": "markdown",
   "metadata": {},
   "source": [
    "Representar mediante [boxplots] (https://en.wikipedia.org/wiki/Boxplots) como varían la textura, el area, la concavidad y la simetría de los tumores según el tipo (*maligna / benigna*). Recuerda ajustar los parámetros de la visualización para facilitar la lectura e interpretación de la gráfica que generen. **(2 puntos)** <span style=\"font-family: Courier New; background-color: #82b74b; color: #000000; padding: 3px; \">NM</span>\n",
    "\n",
    "Nota: Crea un dataframe con los datos de `diagnostics.data` i `diagnostics.target` para dibujar los boxplots."
   ]
  },
  {
   "cell_type": "code",
   "execution_count": 8,
   "metadata": {},
   "outputs": [
    {
     "data": {
      "text/html": [
       "<div>\n",
       "<style scoped>\n",
       "    .dataframe tbody tr th:only-of-type {\n",
       "        vertical-align: middle;\n",
       "    }\n",
       "\n",
       "    .dataframe tbody tr th {\n",
       "        vertical-align: top;\n",
       "    }\n",
       "\n",
       "    .dataframe thead th {\n",
       "        text-align: right;\n",
       "    }\n",
       "</style>\n",
       "<table border=\"1\" class=\"dataframe\">\n",
       "  <thead>\n",
       "    <tr style=\"text-align: right;\">\n",
       "      <th></th>\n",
       "      <th>mean radius</th>\n",
       "      <th>mean texture</th>\n",
       "      <th>mean perimeter</th>\n",
       "      <th>mean area</th>\n",
       "      <th>mean smoothness</th>\n",
       "      <th>mean compactness</th>\n",
       "      <th>mean concavity</th>\n",
       "      <th>mean concave points</th>\n",
       "      <th>mean symmetry</th>\n",
       "      <th>mean fractal dimension</th>\n",
       "      <th>...</th>\n",
       "      <th>worst texture</th>\n",
       "      <th>worst perimeter</th>\n",
       "      <th>worst area</th>\n",
       "      <th>worst smoothness</th>\n",
       "      <th>worst compactness</th>\n",
       "      <th>worst concavity</th>\n",
       "      <th>worst concave points</th>\n",
       "      <th>worst symmetry</th>\n",
       "      <th>worst fractal dimension</th>\n",
       "      <th>target</th>\n",
       "    </tr>\n",
       "  </thead>\n",
       "  <tbody>\n",
       "    <tr>\n",
       "      <th>0</th>\n",
       "      <td>17.99</td>\n",
       "      <td>10.38</td>\n",
       "      <td>122.80</td>\n",
       "      <td>1001.0</td>\n",
       "      <td>0.11840</td>\n",
       "      <td>0.27760</td>\n",
       "      <td>0.3001</td>\n",
       "      <td>0.14710</td>\n",
       "      <td>0.2419</td>\n",
       "      <td>0.07871</td>\n",
       "      <td>...</td>\n",
       "      <td>17.33</td>\n",
       "      <td>184.60</td>\n",
       "      <td>2019.0</td>\n",
       "      <td>0.1622</td>\n",
       "      <td>0.6656</td>\n",
       "      <td>0.7119</td>\n",
       "      <td>0.2654</td>\n",
       "      <td>0.4601</td>\n",
       "      <td>0.11890</td>\n",
       "      <td>0</td>\n",
       "    </tr>\n",
       "    <tr>\n",
       "      <th>1</th>\n",
       "      <td>20.57</td>\n",
       "      <td>17.77</td>\n",
       "      <td>132.90</td>\n",
       "      <td>1326.0</td>\n",
       "      <td>0.08474</td>\n",
       "      <td>0.07864</td>\n",
       "      <td>0.0869</td>\n",
       "      <td>0.07017</td>\n",
       "      <td>0.1812</td>\n",
       "      <td>0.05667</td>\n",
       "      <td>...</td>\n",
       "      <td>23.41</td>\n",
       "      <td>158.80</td>\n",
       "      <td>1956.0</td>\n",
       "      <td>0.1238</td>\n",
       "      <td>0.1866</td>\n",
       "      <td>0.2416</td>\n",
       "      <td>0.1860</td>\n",
       "      <td>0.2750</td>\n",
       "      <td>0.08902</td>\n",
       "      <td>0</td>\n",
       "    </tr>\n",
       "    <tr>\n",
       "      <th>2</th>\n",
       "      <td>19.69</td>\n",
       "      <td>21.25</td>\n",
       "      <td>130.00</td>\n",
       "      <td>1203.0</td>\n",
       "      <td>0.10960</td>\n",
       "      <td>0.15990</td>\n",
       "      <td>0.1974</td>\n",
       "      <td>0.12790</td>\n",
       "      <td>0.2069</td>\n",
       "      <td>0.05999</td>\n",
       "      <td>...</td>\n",
       "      <td>25.53</td>\n",
       "      <td>152.50</td>\n",
       "      <td>1709.0</td>\n",
       "      <td>0.1444</td>\n",
       "      <td>0.4245</td>\n",
       "      <td>0.4504</td>\n",
       "      <td>0.2430</td>\n",
       "      <td>0.3613</td>\n",
       "      <td>0.08758</td>\n",
       "      <td>0</td>\n",
       "    </tr>\n",
       "    <tr>\n",
       "      <th>3</th>\n",
       "      <td>11.42</td>\n",
       "      <td>20.38</td>\n",
       "      <td>77.58</td>\n",
       "      <td>386.1</td>\n",
       "      <td>0.14250</td>\n",
       "      <td>0.28390</td>\n",
       "      <td>0.2414</td>\n",
       "      <td>0.10520</td>\n",
       "      <td>0.2597</td>\n",
       "      <td>0.09744</td>\n",
       "      <td>...</td>\n",
       "      <td>26.50</td>\n",
       "      <td>98.87</td>\n",
       "      <td>567.7</td>\n",
       "      <td>0.2098</td>\n",
       "      <td>0.8663</td>\n",
       "      <td>0.6869</td>\n",
       "      <td>0.2575</td>\n",
       "      <td>0.6638</td>\n",
       "      <td>0.17300</td>\n",
       "      <td>0</td>\n",
       "    </tr>\n",
       "    <tr>\n",
       "      <th>4</th>\n",
       "      <td>20.29</td>\n",
       "      <td>14.34</td>\n",
       "      <td>135.10</td>\n",
       "      <td>1297.0</td>\n",
       "      <td>0.10030</td>\n",
       "      <td>0.13280</td>\n",
       "      <td>0.1980</td>\n",
       "      <td>0.10430</td>\n",
       "      <td>0.1809</td>\n",
       "      <td>0.05883</td>\n",
       "      <td>...</td>\n",
       "      <td>16.67</td>\n",
       "      <td>152.20</td>\n",
       "      <td>1575.0</td>\n",
       "      <td>0.1374</td>\n",
       "      <td>0.2050</td>\n",
       "      <td>0.4000</td>\n",
       "      <td>0.1625</td>\n",
       "      <td>0.2364</td>\n",
       "      <td>0.07678</td>\n",
       "      <td>0</td>\n",
       "    </tr>\n",
       "  </tbody>\n",
       "</table>\n",
       "<p>5 rows × 31 columns</p>\n",
       "</div>"
      ],
      "text/plain": [
       "   mean radius  mean texture  mean perimeter  mean area  mean smoothness  \\\n",
       "0        17.99         10.38          122.80     1001.0          0.11840   \n",
       "1        20.57         17.77          132.90     1326.0          0.08474   \n",
       "2        19.69         21.25          130.00     1203.0          0.10960   \n",
       "3        11.42         20.38           77.58      386.1          0.14250   \n",
       "4        20.29         14.34          135.10     1297.0          0.10030   \n",
       "\n",
       "   mean compactness  mean concavity  mean concave points  mean symmetry  \\\n",
       "0           0.27760          0.3001              0.14710         0.2419   \n",
       "1           0.07864          0.0869              0.07017         0.1812   \n",
       "2           0.15990          0.1974              0.12790         0.2069   \n",
       "3           0.28390          0.2414              0.10520         0.2597   \n",
       "4           0.13280          0.1980              0.10430         0.1809   \n",
       "\n",
       "   mean fractal dimension  ...  worst texture  worst perimeter  worst area  \\\n",
       "0                 0.07871  ...          17.33           184.60      2019.0   \n",
       "1                 0.05667  ...          23.41           158.80      1956.0   \n",
       "2                 0.05999  ...          25.53           152.50      1709.0   \n",
       "3                 0.09744  ...          26.50            98.87       567.7   \n",
       "4                 0.05883  ...          16.67           152.20      1575.0   \n",
       "\n",
       "   worst smoothness  worst compactness  worst concavity  worst concave points  \\\n",
       "0            0.1622             0.6656           0.7119                0.2654   \n",
       "1            0.1238             0.1866           0.2416                0.1860   \n",
       "2            0.1444             0.4245           0.4504                0.2430   \n",
       "3            0.2098             0.8663           0.6869                0.2575   \n",
       "4            0.1374             0.2050           0.4000                0.1625   \n",
       "\n",
       "   worst symmetry  worst fractal dimension  target  \n",
       "0          0.4601                  0.11890       0  \n",
       "1          0.2750                  0.08902       0  \n",
       "2          0.3613                  0.08758       0  \n",
       "3          0.6638                  0.17300       0  \n",
       "4          0.2364                  0.07678       0  \n",
       "\n",
       "[5 rows x 31 columns]"
      ]
     },
     "execution_count": 8,
     "metadata": {},
     "output_type": "execute_result"
    }
   ],
   "source": [
    "#utilizamos el dataset creado en el ejercicio anterior\n",
    "df.head()"
   ]
  },
  {
   "cell_type": "code",
   "execution_count": 9,
   "metadata": {},
   "outputs": [
    {
     "data": {
      "text/plain": [
       "Index(['mean radius', 'mean texture', 'mean perimeter', 'mean area',\n",
       "       'mean smoothness', 'mean compactness', 'mean concavity',\n",
       "       'mean concave points', 'mean symmetry', 'mean fractal dimension',\n",
       "       'radius error', 'texture error', 'perimeter error', 'area error',\n",
       "       'smoothness error', 'compactness error', 'concavity error',\n",
       "       'concave points error', 'symmetry error', 'fractal dimension error',\n",
       "       'worst radius', 'worst texture', 'worst perimeter', 'worst area',\n",
       "       'worst smoothness', 'worst compactness', 'worst concavity',\n",
       "       'worst concave points', 'worst symmetry', 'worst fractal dimension',\n",
       "       'target'],\n",
       "      dtype='object')"
      ]
     },
     "execution_count": 9,
     "metadata": {},
     "output_type": "execute_result"
    }
   ],
   "source": [
    "#visualizamos las columnas\n",
    "df.columns"
   ]
  },
  {
   "cell_type": "code",
   "execution_count": 10,
   "metadata": {},
   "outputs": [],
   "source": [
    "#seleccionamos las columnas solicitadas en el enunciado\n",
    "selected_columns = ['mean texture', 'mean area', 'mean concavity']"
   ]
  },
  {
   "cell_type": "code",
   "execution_count": 11,
   "metadata": {},
   "outputs": [
    {
     "data": {
      "text/html": [
       "<div>\n",
       "<style scoped>\n",
       "    .dataframe tbody tr th:only-of-type {\n",
       "        vertical-align: middle;\n",
       "    }\n",
       "\n",
       "    .dataframe tbody tr th {\n",
       "        vertical-align: top;\n",
       "    }\n",
       "\n",
       "    .dataframe thead th {\n",
       "        text-align: right;\n",
       "    }\n",
       "</style>\n",
       "<table border=\"1\" class=\"dataframe\">\n",
       "  <thead>\n",
       "    <tr style=\"text-align: right;\">\n",
       "      <th></th>\n",
       "      <th>mean texture</th>\n",
       "      <th>mean area</th>\n",
       "      <th>mean concavity</th>\n",
       "    </tr>\n",
       "  </thead>\n",
       "  <tbody>\n",
       "    <tr>\n",
       "      <th>0</th>\n",
       "      <td>10.38</td>\n",
       "      <td>1001.0</td>\n",
       "      <td>0.3001</td>\n",
       "    </tr>\n",
       "    <tr>\n",
       "      <th>1</th>\n",
       "      <td>17.77</td>\n",
       "      <td>1326.0</td>\n",
       "      <td>0.0869</td>\n",
       "    </tr>\n",
       "    <tr>\n",
       "      <th>2</th>\n",
       "      <td>21.25</td>\n",
       "      <td>1203.0</td>\n",
       "      <td>0.1974</td>\n",
       "    </tr>\n",
       "    <tr>\n",
       "      <th>3</th>\n",
       "      <td>20.38</td>\n",
       "      <td>386.1</td>\n",
       "      <td>0.2414</td>\n",
       "    </tr>\n",
       "    <tr>\n",
       "      <th>4</th>\n",
       "      <td>14.34</td>\n",
       "      <td>1297.0</td>\n",
       "      <td>0.1980</td>\n",
       "    </tr>\n",
       "  </tbody>\n",
       "</table>\n",
       "</div>"
      ],
      "text/plain": [
       "   mean texture  mean area  mean concavity\n",
       "0         10.38     1001.0          0.3001\n",
       "1         17.77     1326.0          0.0869\n",
       "2         21.25     1203.0          0.1974\n",
       "3         20.38      386.1          0.2414\n",
       "4         14.34     1297.0          0.1980"
      ]
     },
     "execution_count": 11,
     "metadata": {},
     "output_type": "execute_result"
    }
   ],
   "source": [
    "#filtramos el dataset con las columnas seleccionadas para el grupo de benignos\n",
    "df_bening = df[df['target'] == 0][selected_columns]\n",
    "df_bening.head()"
   ]
  },
  {
   "cell_type": "code",
   "execution_count": 12,
   "metadata": {},
   "outputs": [
    {
     "data": {
      "text/html": [
       "<div>\n",
       "<style scoped>\n",
       "    .dataframe tbody tr th:only-of-type {\n",
       "        vertical-align: middle;\n",
       "    }\n",
       "\n",
       "    .dataframe tbody tr th {\n",
       "        vertical-align: top;\n",
       "    }\n",
       "\n",
       "    .dataframe thead th {\n",
       "        text-align: right;\n",
       "    }\n",
       "</style>\n",
       "<table border=\"1\" class=\"dataframe\">\n",
       "  <thead>\n",
       "    <tr style=\"text-align: right;\">\n",
       "      <th></th>\n",
       "      <th>mean texture</th>\n",
       "      <th>mean area</th>\n",
       "      <th>mean concavity</th>\n",
       "    </tr>\n",
       "  </thead>\n",
       "  <tbody>\n",
       "    <tr>\n",
       "      <th>0</th>\n",
       "      <td>10.38</td>\n",
       "      <td>1001.0</td>\n",
       "      <td>0.3001</td>\n",
       "    </tr>\n",
       "    <tr>\n",
       "      <th>1</th>\n",
       "      <td>17.77</td>\n",
       "      <td>1326.0</td>\n",
       "      <td>0.0869</td>\n",
       "    </tr>\n",
       "    <tr>\n",
       "      <th>2</th>\n",
       "      <td>21.25</td>\n",
       "      <td>1203.0</td>\n",
       "      <td>0.1974</td>\n",
       "    </tr>\n",
       "    <tr>\n",
       "      <th>3</th>\n",
       "      <td>20.38</td>\n",
       "      <td>386.1</td>\n",
       "      <td>0.2414</td>\n",
       "    </tr>\n",
       "    <tr>\n",
       "      <th>4</th>\n",
       "      <td>14.34</td>\n",
       "      <td>1297.0</td>\n",
       "      <td>0.1980</td>\n",
       "    </tr>\n",
       "  </tbody>\n",
       "</table>\n",
       "</div>"
      ],
      "text/plain": [
       "   mean texture  mean area  mean concavity\n",
       "0         10.38     1001.0          0.3001\n",
       "1         17.77     1326.0          0.0869\n",
       "2         21.25     1203.0          0.1974\n",
       "3         20.38      386.1          0.2414\n",
       "4         14.34     1297.0          0.1980"
      ]
     },
     "execution_count": 12,
     "metadata": {},
     "output_type": "execute_result"
    }
   ],
   "source": [
    "#filtramos el dataset con las columnas seleccionadas para el grupo de malignos\n",
    "df_malign = df[df['target'] == 1][selected_columns]\n",
    "df_bening.head()"
   ]
  },
  {
   "cell_type": "code",
   "execution_count": 13,
   "metadata": {
    "scrolled": true
   },
   "outputs": [
    {
     "data": {
      "image/png": "[encoded data removed]",
      "text/plain": [
       "<Figure size 720x360 with 2 Axes>"
      ]
     },
     "metadata": {
      "needs_background": "light"
     },
     "output_type": "display_data"
    }
   ],
   "source": [
    "#graficamos los boxplot para 'mean texture'\n",
    "fig = plt.subplots(figsize= (10,5))\n",
    "\n",
    "plt.subplot(121)\n",
    "plt.title('mean texture_bening')\n",
    "plt.ylim(5, 45)\n",
    "plot_t_bening = df_bening['mean texture'].plot.box(vert=True, color='g')\n",
    "\n",
    "plt.subplot(122)\n",
    "plt.title('mean texture_malign')\n",
    "plt.ylim(5, 45)\n",
    "plot_t_malign = df_malign['mean texture'].plot.box(vert=True, color='r')"
   ]
  },
  {
   "cell_type": "code",
   "execution_count": 15,
   "metadata": {},
   "outputs": [
    {
     "data": {
      "image/png": "[encoded data removed]",
      "text/plain": [
       "<Figure size 720x360 with 2 Axes>"
      ]
     },
     "metadata": {
      "needs_background": "light"
     },
     "output_type": "display_data"
    }
   ],
   "source": [
    "#graficamos los boxplot para 'mean concavity'\n",
    "fig = plt.subplots(figsize= (10,5))\n",
    "\n",
    "plt.subplot(121)\n",
    "plt.title('mean concavity_bening')\n",
    "plt.ylim(-0.01, 0.5)\n",
    "plot_t_bening = df_bening['mean concavity'].plot.box(vert=True, color='g')\n",
    "\n",
    "plt.subplot(122)\n",
    "plt.title('mean concavity_malign')\n",
    "plt.ylim(-0.01, 0.5)\n",
    "plot_t_malign = df_malign['mean concavity'].plot.box(vert=True, color = 'r')"
   ]
  },
  {
   "cell_type": "code",
   "execution_count": 16,
   "metadata": {},
   "outputs": [
    {
     "data": {
      "image/png": "[encoded data removed]",
      "text/plain": [
       "<Figure size 720x360 with 2 Axes>"
      ]
     },
     "metadata": {
      "needs_background": "light"
     },
     "output_type": "display_data"
    }
   ],
   "source": [
    "#graficamos los boxplot para 'mean area'\n",
    "fig, ax = plt.subplots(figsize= (10,5))\n",
    "\n",
    "plt.subplot(121)\n",
    "plt.title('mean area_bening')\n",
    "plt.ylim(-0.01, 2600)\n",
    "plot_t_bening = df_bening['mean area'].plot.box(vert=True, color='g')\n",
    "\n",
    "plt.subplot(122)\n",
    "plt.title('mean area_malign')\n",
    "plt.ylim(-0.01, 2600)\n",
    "plot_t_malign = df_malign['mean area'].plot.box(vert=True, color='r')"
   ]
  },
  {
   "cell_type": "markdown",
   "metadata": {},
   "source": [
    "## Ejercicio 3"
   ]
  },
  {
   "cell_type": "markdown",
   "metadata": {},
   "source": [
    "Ahora aplica un Principal Component Analysis para reducir el número de variables predictivas de los tipos de tumor. <span style=\"font-family: Courier New; background-color: #82b74b; color: #000000; padding: 3px; \">NM</span>\n",
    "\n",
    "a) ¿Qué porción de la variabilidad total la explica el primer componente? **(1.5 puntos)**\n",
    "\n",
    "b) Representa en un diagrama de barras qué porción de la variabilidad total explica cada uno de los tres primeros componentes. **(0.5 puntos)**"
   ]
  },
  {
   "cell_type": "code",
   "execution_count": 17,
   "metadata": {},
   "outputs": [],
   "source": [
    "#importamos las librerias necesarias\n",
    "from mpl_toolkits.mplot3d import Axes3D\n",
    "from sklearn.decomposition import PCA"
   ]
  },
  {
   "cell_type": "code",
   "execution_count": 18,
   "metadata": {},
   "outputs": [],
   "source": [
    "#aplicamos PCA con los tres componentes principales\n",
    "pca = PCA(n_components=3)\n",
    "principalComponents = pca.fit_transform(df)\n",
    "principalDf = pd.DataFrame(data = principalComponents\n",
    "             , columns = ['Principal Component 1', 'Principal Component 2', 'Principal Component 3'])"
   ]
  },
  {
   "cell_type": "code",
   "execution_count": 19,
   "metadata": {},
   "outputs": [
    {
     "data": {
      "image/png": "[encoded data removed]",
      "text/plain": [
       "<Figure size 576x432 with 1 Axes>"
      ]
     },
     "metadata": {
      "needs_background": "light"
     },
     "output_type": "display_data"
    }
   ],
   "source": [
    "#graficamos en 3 dimensiones los principal components\n",
    "\n",
    "fig = plt.figure(1, figsize=(8, 6))\n",
    "ax = Axes3D(fig, elev=-150, azim=110)\n",
    "ax.scatter(principalDf.iloc[:,[0]], principalDf.iloc[:,[1]], principalDf.iloc[:,[2]], c= df['target'])\n",
    "\n",
    "ax.set_title(u\"PCA 3 COMPONENTS\", fontsize=15, color='b')\n",
    "ax.set_xlabel(u\"Principal Component 1\")\n",
    "ax.w_xaxis.set_ticklabels([])\n",
    "ax.set_ylabel(u\"Principal Component 2\")\n",
    "ax.w_yaxis.set_ticklabels([])\n",
    "ax.set_zlabel(u\"Principal Component 3\")\n",
    "_ = ax.w_zaxis.set_ticklabels([])"
   ]
  },
  {
   "cell_type": "code",
   "execution_count": 20,
   "metadata": {},
   "outputs": [
    {
     "name": "stdout",
     "output_type": "stream",
     "text": [
      "La variabilidad explicada por el \"Principal Component 1\" es: 443782.73097976, correspondiente al: 0.98204444%\n"
     ]
    }
   ],
   "source": [
    "#Respuesta A\n",
    "print('La variabilidad explicada por el \"Principal Component 1\" es: ' \n",
    "      + str(pca.explained_variance_)[1:16] + ', correspondiente al: ' + \n",
    "      str(pca.explained_variance_ratio_)[1:11] + '%')"
   ]
  },
  {
   "cell_type": "code",
   "execution_count": 21,
   "metadata": {},
   "outputs": [
    {
     "data": {
      "image/png": "[encoded data removed]",
      "text/plain": [
       "<Figure size 1152x432 with 1 Axes>"
      ]
     },
     "metadata": {
      "needs_background": "light"
     },
     "output_type": "display_data"
    }
   ],
   "source": [
    "#Respuesta B\n",
    "columns = ['Principal Component 1', 'Principal Component 2', 'Principal Component 3']\n",
    "fig = plt.figure(figsize=(16,6))\n",
    "plt.title('Variance ratio explained by each \"Principal Component\"', fontsize=15)\n",
    "plt.bar(columns, pca.explained_variance_ratio_, color= ['orange', 'g', 'b'])\n",
    "plt.show()"
   ]
  },
  {
   "cell_type": "markdown",
   "metadata": {},
   "source": [
    "## Ejercicio 4"
   ]
  },
  {
   "cell_type": "markdown",
   "metadata": {},
   "source": [
    "El objetivo de un modelo de **regresión lineal** es encontrar una relación entre una o más características (variables independientes) y una variable objetivo continua (variable dependiente). Cuando sólo usamos una característica predictiva se le llama **Regresión Lineal Univariada** y si hay múltiples predictores se llama **Regresión Lineal Múltiple**.\n",
    "\n",
    "Cuando la variable dependiente es una variable binaria que contiene datos codificados como 1 (sí, éxito, etc.) o 0 (no, fallo, etc.), como es el caso del dataset `breast_cancer`, tendremos que emplear una [regresión logística](https://ca.wikipedia.org/wiki/Regressi%C3%B3_log%C3%ADstica).\n",
    "\n",
    "Crea un modelo de regresión logística que estime la probabilidad de que un tumor sea maligno dada su área y su textura. Muestra la [matriz de confusión](https://ca.wikipedia.org/wiki/Matriu_de_confusi%C3%B3) del modelo obtenido.\n",
    "\n",
    "Nota: Quizás te interesa explorar la función [sklearn.metrics.confusion_matrix()](https://scikit-learn.org/stable/modules/generated/sklearn.metrics.confusion_matrix.html) **(1,5 puntos)** <span style=\"font-family: Courier New; background-color: #f2ae72; color: #000000; padding: 3px; \">EI</span>"
   ]
  },
  {
   "cell_type": "code",
   "execution_count": 22,
   "metadata": {},
   "outputs": [],
   "source": [
    "#importamos las librerias necesarias\n",
    "from sklearn import linear_model\n",
    "from sklearn.metrics import confusion_matrix\n",
    "from sklearn.model_selection import train_test_split"
   ]
  },
  {
   "cell_type": "code",
   "execution_count": 23,
   "metadata": {},
   "outputs": [],
   "source": [
    "#separamos el dataset en train y test (utilizamos 0.8 para train y 0.2 para test)\n",
    "X_train, X_test, y_train, y_test = train_test_split(df.loc[:,['mean area', 'mean texture', 'area error', \n",
    "                                                              'texture error', 'worst area', 'worst texture']],\n",
    "                                                    df['target'], test_size=.2)"
   ]
  },
  {
   "cell_type": "code",
   "execution_count": 24,
   "metadata": {},
   "outputs": [
    {
     "data": {
      "text/plain": [
       "LogisticRegression(C=1.0, class_weight=None, dual=False, fit_intercept=True,\n",
       "                   intercept_scaling=1, l1_ratio=None, max_iter=200,\n",
       "                   multi_class='auto', n_jobs=None, penalty='l2',\n",
       "                   random_state=None, solver='lbfgs', tol=0.0001, verbose=0,\n",
       "                   warm_start=False)"
      ]
     },
     "execution_count": 24,
     "metadata": {},
     "output_type": "execute_result"
    }
   ],
   "source": [
    "#definimos nuestro modelo de regresión logística y lo entrenamos en los dataset de Train generados anteriormente\n",
    "model = linear_model.LogisticRegression(max_iter=200)\n",
    "model.fit(X_train,y_train)"
   ]
  },
  {
   "cell_type": "code",
   "execution_count": 25,
   "metadata": {},
   "outputs": [
    {
     "data": {
      "text/plain": [
       "0.9472527472527472"
      ]
     },
     "execution_count": 25,
     "metadata": {},
     "output_type": "execute_result"
    }
   ],
   "source": [
    "#medimos el score en nuestro dataset de entrenamiento para comprobar que no haya overfiting\n",
    "model.score(X_train,y_train)"
   ]
  },
  {
   "cell_type": "code",
   "execution_count": 26,
   "metadata": {},
   "outputs": [
    {
     "data": {
      "text/plain": [
       "0.956140350877193"
      ]
     },
     "execution_count": 26,
     "metadata": {},
     "output_type": "execute_result"
    }
   ],
   "source": [
    "#medimos el score en nuevos datos (dataset Test)\n",
    "model.score(X_test,y_test)"
   ]
  },
  {
   "cell_type": "code",
   "execution_count": 27,
   "metadata": {},
   "outputs": [
    {
     "name": "stdout",
     "output_type": "stream",
     "text": [
      "[[39  4]\n",
      " [ 1 70]]\n"
     ]
    }
   ],
   "source": [
    "#realizamos las predicciones e imprimimos nuestra mattriz de confusión\n",
    "predictions = model.predict(X_test)\n",
    "print(confusion_matrix(y_test, predictions))"
   ]
  },
  {
   "cell_type": "markdown",
   "metadata": {},
   "source": [
    "<img src=\"confusion.jpg\" align=\"left\" style=\"width: 400px;\"/>"
   ]
  },
  {
   "cell_type": "markdown",
   "metadata": {},
   "source": [
    "## Ejercicio 5"
   ]
  },
  {
   "cell_type": "markdown",
   "metadata": {},
   "source": [
    "El **Multi-layer Perceptron (MLP)** es un algoritmo de aprendizaje supervisado que aprende una función mediante el entrenamiento de un modelo que asocia n dimensiones de entrada (*predictores*) con dimensiones de salida (*targets*). Teniendo en cuenta un conjunto de funciones y un objetivo, puede aprender un aproximador de funciones no lineales por clasificación o regresión. Es diferente de la regresión logística, ya que entre la capa de entrada y la de salida, puede haber una o más capas no lineales, llamadas capas ocultas.\n",
    "\n",
    "Aplica un clasificador basado en un MLP para predecir los tipos de tumor utilizando el área, la textura, la simetría y la concavidad, como atributos y utilizando el 70% de las muestras de entrenamiento y el 30% de test. Debéis utilizar la función [sklearn.neural_network.MLPClassifier](https://scikit-learn.org/stable/modules/neural_networks_supervised.html).\n",
    "\n",
    "Utiliza tres niveles (*layers*) con 30 neuronas por nivel. ¿Qué valor de precisión obtenemos en un modelo basado en un MLP? **(2 puntos)** <span style=\"font-family: Courier New; background-color: #ffcc5c; color: #000000; padding: 3px; \">EG</span>"
   ]
  },
  {
   "cell_type": "code",
   "execution_count": 28,
   "metadata": {},
   "outputs": [],
   "source": [
    "#importamos la librerías necesarias\n",
    "from sklearn.neural_network import MLPClassifier\n",
    "from sklearn.metrics import precision_score"
   ]
  },
  {
   "cell_type": "code",
   "execution_count": 29,
   "metadata": {},
   "outputs": [
    {
     "data": {
      "text/plain": [
       "Index(['mean radius', 'mean texture', 'mean perimeter', 'mean area',\n",
       "       'mean smoothness', 'mean compactness', 'mean concavity',\n",
       "       'mean concave points', 'mean symmetry', 'mean fractal dimension',\n",
       "       'radius error', 'texture error', 'perimeter error', 'area error',\n",
       "       'smoothness error', 'compactness error', 'concavity error',\n",
       "       'concave points error', 'symmetry error', 'fractal dimension error',\n",
       "       'worst radius', 'worst texture', 'worst perimeter', 'worst area',\n",
       "       'worst smoothness', 'worst compactness', 'worst concavity',\n",
       "       'worst concave points', 'worst symmetry', 'worst fractal dimension',\n",
       "       'target'],\n",
       "      dtype='object')"
      ]
     },
     "execution_count": 29,
     "metadata": {},
     "output_type": "execute_result"
    }
   ],
   "source": [
    "#visualizamos las columnas de nuestro DataFrame (df)\n",
    "df.columns"
   ]
  },
  {
   "cell_type": "code",
   "execution_count": 30,
   "metadata": {},
   "outputs": [],
   "source": [
    "#seleccionamos las columnas según el enunciado\n",
    "selected_columns = ['mean area', 'mean texture', 'mean concavity', 'mean symmetry', 'texture error', 'area error',\n",
    " 'concavity error', 'symmetry error', 'worst texture', 'worst area', 'worst concavity',\n",
    " 'worst symmetry']"
   ]
  },
  {
   "cell_type": "code",
   "execution_count": 31,
   "metadata": {},
   "outputs": [],
   "source": [
    "#separamos el dataset en train y test (utilizamos 70% para train y 30% para test según enunciado)\n",
    "X_train, X_test, y_train, y_test = train_test_split(df.loc[:,selected_columns],\n",
    "                                                    df['target'], test_size=.3, random_state=100)"
   ]
  },
  {
   "cell_type": "code",
   "execution_count": 32,
   "metadata": {},
   "outputs": [],
   "source": [
    "#definimos nuestro modelo de 3 niveles y 30 hidden layers  \n",
    "# *utilizamos verbose para ver la evolución de las iteraciones\n",
    "clf = MLPClassifier(hidden_layer_sizes=(3,30), max_iter=700, verbose=True, \n",
    "                    activation= 'relu', random_state=100)"
   ]
  },
  {
   "cell_type": "code",
   "execution_count": 33,
   "metadata": {},
   "outputs": [
    {
     "name": "stdout",
     "output_type": "stream",
     "text": [
      "Iteration 1, loss = inf\n",
      "Iteration 2, loss = inf\n",
      "Iteration 3, loss = inf\n",
      "Iteration 4, loss = inf\n",
      "Iteration 5, loss = inf\n",
      "Iteration 6, loss = inf\n",
      "Iteration 7, loss = inf\n",
      "Iteration 8, loss = inf\n",
      "Iteration 9, loss = inf\n",
      "Iteration 10, loss = inf\n",
      "Iteration 11, loss = 3.56127208\n",
      "Iteration 12, loss = 2.79753247\n",
      "Iteration 13, loss = 2.12927576\n",
      "Iteration 14, loss = 1.50870048\n",
      "Iteration 15, loss = 1.05094988\n",
      "Iteration 16, loss = 0.80470803\n",
      "Iteration 17, loss = 0.80438384\n",
      "Iteration 18, loss = 0.87531143\n",
      "Iteration 19, loss = 0.93520428\n",
      "Iteration 20, loss = 0.97561815\n",
      "Iteration 21, loss = 0.99213623\n",
      "Iteration 22, loss = 0.98966390\n",
      "Iteration 23, loss = 0.97243882\n",
      "Iteration 24, loss = 0.94207678\n",
      "Iteration 25, loss = 0.90564763\n",
      "Iteration 26, loss = 0.86317496\n",
      "Iteration 27, loss = 0.82112448\n",
      "Iteration 28, loss = 0.78001683\n",
      "Iteration 29, loss = 0.74526250\n",
      "Iteration 30, loss = 0.72099649\n",
      "Iteration 31, loss = 0.70828888\n",
      "Iteration 32, loss = 0.70884766\n",
      "Iteration 33, loss = 0.71651536\n",
      "Iteration 34, loss = 0.72227693\n",
      "Iteration 35, loss = 0.71969895\n",
      "Iteration 36, loss = 0.70937632\n",
      "Iteration 37, loss = 0.69745164\n",
      "Iteration 38, loss = 0.68698947\n",
      "Iteration 39, loss = 0.67776360\n",
      "Iteration 40, loss = 0.66693969\n",
      "Iteration 41, loss = 0.65063888\n",
      "Iteration 42, loss = 0.63355213\n",
      "Iteration 43, loss = 0.62688669\n",
      "Iteration 44, loss = 0.62604266\n",
      "Iteration 45, loss = 0.62484398\n",
      "Iteration 46, loss = 0.62191381\n",
      "Iteration 47, loss = 0.61734899\n",
      "Iteration 48, loss = 0.61362361\n",
      "Iteration 49, loss = 0.61106570\n",
      "Iteration 50, loss = 0.60876604\n",
      "Iteration 51, loss = 0.60640628\n",
      "Iteration 52, loss = 0.60341086\n",
      "Iteration 53, loss = 0.60028104\n",
      "Iteration 54, loss = 0.59729637\n",
      "Iteration 55, loss = 0.59457662\n",
      "Iteration 56, loss = 0.59216773\n",
      "Iteration 57, loss = 0.58967037\n",
      "Iteration 58, loss = 0.58696985\n",
      "Iteration 59, loss = 0.58423948\n",
      "Iteration 60, loss = 0.58153515\n",
      "Iteration 61, loss = 0.57907240\n",
      "Iteration 62, loss = 0.57651048\n",
      "Iteration 63, loss = 0.57400794\n",
      "Iteration 64, loss = 0.57143159\n",
      "Iteration 65, loss = 0.56892087\n",
      "Iteration 66, loss = 0.56632728\n",
      "Iteration 67, loss = 0.56386487\n",
      "Iteration 68, loss = 0.56135776\n",
      "Iteration 69, loss = 0.55894316\n",
      "Iteration 70, loss = 0.55664095\n",
      "Iteration 71, loss = 0.55399348\n",
      "Iteration 72, loss = 0.55150766\n",
      "Iteration 73, loss = 0.54901845\n",
      "Iteration 74, loss = 0.54659772\n",
      "Iteration 75, loss = 0.54415755\n",
      "Iteration 76, loss = 0.54168568\n",
      "Iteration 77, loss = 0.53966653\n",
      "Iteration 78, loss = 0.53681219\n",
      "Iteration 79, loss = 0.53434244\n",
      "Iteration 80, loss = 0.53199295\n",
      "Iteration 81, loss = 0.52950200\n",
      "Iteration 82, loss = 0.52716023\n",
      "Iteration 83, loss = 0.52463286\n",
      "Iteration 84, loss = 0.52224321\n",
      "Iteration 85, loss = 0.51992264\n",
      "Iteration 86, loss = 0.51733041\n",
      "Iteration 87, loss = 0.51480763\n",
      "Iteration 88, loss = 0.51234559\n",
      "Iteration 89, loss = 0.50975173\n",
      "Iteration 90, loss = 0.50703438\n",
      "Iteration 91, loss = 0.50416964\n",
      "Iteration 92, loss = 0.50084951\n",
      "Iteration 93, loss = 0.49689701\n",
      "Iteration 94, loss = 0.49171351\n",
      "Iteration 95, loss = 0.48462585\n",
      "Iteration 96, loss = 0.47437570\n",
      "Iteration 97, loss = 0.46493777\n",
      "Iteration 98, loss = 0.46239459\n",
      "Iteration 99, loss = 0.46008391\n",
      "Iteration 100, loss = 0.45633904\n",
      "Iteration 101, loss = 0.45272125\n",
      "Iteration 102, loss = 0.44998083\n",
      "Iteration 103, loss = 0.44757044\n",
      "Iteration 104, loss = 0.44399540\n",
      "Iteration 105, loss = 0.44010261\n",
      "Iteration 106, loss = 0.43716927\n",
      "Iteration 107, loss = 0.43257084\n",
      "Iteration 108, loss = 0.42592317\n",
      "Iteration 109, loss = 0.41581970\n",
      "Iteration 110, loss = 0.40966135\n",
      "Iteration 111, loss = 0.40414128\n",
      "Iteration 112, loss = 0.39668727\n",
      "Iteration 113, loss = 0.38647095\n",
      "Iteration 114, loss = 0.37314646\n",
      "Iteration 115, loss = 0.36324450\n",
      "Iteration 116, loss = 0.36091014\n",
      "Iteration 117, loss = 0.35891922\n",
      "Iteration 118, loss = 0.35585008\n",
      "Iteration 119, loss = 0.35180021\n",
      "Iteration 120, loss = 0.34811496\n",
      "Iteration 121, loss = 0.34510652\n",
      "Iteration 122, loss = 0.34281102\n",
      "Iteration 123, loss = 0.33989138\n",
      "Iteration 124, loss = 0.33717234\n",
      "Iteration 125, loss = 0.33453808\n",
      "Iteration 126, loss = 0.33213164\n",
      "Iteration 127, loss = 0.32948154\n",
      "Iteration 128, loss = 0.32707450\n",
      "Iteration 129, loss = 0.32522210\n",
      "Iteration 130, loss = 0.32201633\n",
      "Iteration 131, loss = 0.31913882\n",
      "Iteration 132, loss = 0.31586027\n",
      "Iteration 133, loss = 0.31208250\n",
      "Iteration 134, loss = 0.30668055\n",
      "Iteration 135, loss = 0.30292782\n",
      "Iteration 136, loss = 0.30190159\n",
      "Iteration 137, loss = 0.29888565\n",
      "Iteration 138, loss = 0.29647191\n",
      "Iteration 139, loss = 0.29489353\n",
      "Iteration 140, loss = 0.29314686\n",
      "Iteration 141, loss = 0.29148124\n",
      "Iteration 142, loss = 0.28951627\n",
      "Iteration 143, loss = 0.28766467\n",
      "Iteration 144, loss = 0.28611517\n",
      "Iteration 145, loss = 0.28424939\n",
      "Iteration 146, loss = 0.28253044\n",
      "Iteration 147, loss = 0.28089010\n",
      "Iteration 148, loss = 0.27923692\n",
      "Iteration 149, loss = 0.27761324\n",
      "Iteration 150, loss = 0.27622938\n",
      "Iteration 151, loss = 0.27482390\n",
      "Iteration 152, loss = 0.27338137\n",
      "Iteration 153, loss = 0.27198716\n",
      "Iteration 154, loss = 0.27078938\n",
      "Iteration 155, loss = 0.27001962\n",
      "Iteration 156, loss = 0.26818218\n",
      "Iteration 157, loss = 0.26694943\n",
      "Iteration 158, loss = 0.26587882\n",
      "Iteration 159, loss = 0.26471555\n",
      "Iteration 160, loss = 0.26365965\n",
      "Iteration 161, loss = 0.26249146\n",
      "Iteration 162, loss = 0.26139225\n",
      "Iteration 163, loss = 0.26046352\n",
      "Iteration 164, loss = 0.25938312\n",
      "Iteration 165, loss = 0.25839191\n",
      "Iteration 166, loss = 0.25741925\n",
      "Iteration 167, loss = 0.25701521\n",
      "Iteration 168, loss = 0.25579666\n",
      "Iteration 169, loss = 0.25466523\n",
      "Iteration 170, loss = 0.25380283\n",
      "Iteration 171, loss = 0.25299849\n",
      "Iteration 172, loss = 0.25218593\n",
      "Iteration 173, loss = 0.25176706\n",
      "Iteration 174, loss = 0.25018573\n",
      "Iteration 175, loss = 0.24905876\n",
      "Iteration 176, loss = 0.24760802\n",
      "Iteration 177, loss = 0.24598123\n",
      "Iteration 178, loss = 0.24250411\n",
      "Iteration 179, loss = 0.24242777\n",
      "Iteration 180, loss = 0.24174000\n",
      "Iteration 181, loss = 0.24077155\n",
      "Iteration 182, loss = 0.24015770\n",
      "Iteration 183, loss = 0.23917729\n",
      "Iteration 184, loss = 0.23791156\n",
      "Iteration 185, loss = 0.23723868\n",
      "Iteration 186, loss = 0.23694955\n",
      "Iteration 187, loss = 0.23615916\n",
      "Iteration 188, loss = 0.23605698\n",
      "Iteration 189, loss = 0.23553460\n",
      "Iteration 190, loss = 0.23449443\n",
      "Iteration 191, loss = 0.23443574\n",
      "Iteration 192, loss = 0.23374931\n",
      "Iteration 193, loss = 0.23306238\n",
      "Iteration 194, loss = 0.23244706\n",
      "Iteration 195, loss = 0.23218308\n",
      "Iteration 196, loss = 0.23186176\n",
      "Iteration 197, loss = 0.23123913\n",
      "Iteration 198, loss = 0.23146462\n",
      "Iteration 199, loss = 0.23050583\n",
      "Iteration 200, loss = 0.22998218\n",
      "Iteration 201, loss = 0.22956053\n",
      "Iteration 202, loss = 0.22937258\n",
      "Iteration 203, loss = 0.22886178\n",
      "Iteration 204, loss = 0.22842245\n",
      "Iteration 205, loss = 0.22808307\n",
      "Iteration 206, loss = 0.22775750\n",
      "Iteration 207, loss = 0.22771618\n",
      "Iteration 208, loss = 0.22716652\n",
      "Iteration 209, loss = 0.22707236\n",
      "Iteration 210, loss = 0.22704964\n",
      "Iteration 211, loss = 0.22621613\n",
      "Iteration 212, loss = 0.22586421\n",
      "Iteration 213, loss = 0.22597928\n",
      "Iteration 214, loss = 0.22564316\n",
      "Iteration 215, loss = 0.22517878\n",
      "Iteration 216, loss = 0.22552452\n",
      "Iteration 217, loss = 0.22486818\n",
      "Iteration 218, loss = 0.22464146\n",
      "Iteration 219, loss = 0.22408555\n",
      "Iteration 220, loss = 0.22390920\n",
      "Iteration 221, loss = 0.22362580\n",
      "Iteration 222, loss = 0.22335126\n",
      "Iteration 223, loss = 0.22322544\n",
      "Iteration 224, loss = 0.22312069\n",
      "Iteration 225, loss = 0.22355317\n",
      "Iteration 226, loss = 0.22282693\n",
      "Iteration 227, loss = 0.22283726\n",
      "Iteration 228, loss = 0.22209735\n",
      "Iteration 229, loss = 0.22165782\n",
      "Iteration 230, loss = 0.22149089\n",
      "Iteration 231, loss = 0.22131460\n",
      "Iteration 232, loss = 0.22115211\n",
      "Iteration 233, loss = 0.22104764\n",
      "Iteration 234, loss = 0.22067541\n",
      "Iteration 235, loss = 0.22044993\n",
      "Iteration 236, loss = 0.22030500\n",
      "Iteration 237, loss = 0.22005853\n",
      "Iteration 238, loss = 0.22007242\n",
      "Iteration 239, loss = 0.21975984\n",
      "Iteration 240, loss = 0.21940415\n",
      "Iteration 241, loss = 0.21726799\n",
      "Iteration 242, loss = 0.21528963\n",
      "Iteration 243, loss = 0.21643468\n",
      "Iteration 244, loss = 0.22393480\n",
      "Iteration 245, loss = 0.21711190\n",
      "Iteration 246, loss = 0.22021821\n",
      "Iteration 247, loss = 0.21572264\n",
      "Iteration 248, loss = 0.21521687\n",
      "Iteration 249, loss = 0.21720017\n",
      "Iteration 250, loss = 0.21743338\n",
      "Iteration 251, loss = 0.21637903\n",
      "Iteration 252, loss = 0.21512460\n",
      "Iteration 253, loss = 0.21531460\n",
      "Training loss did not improve more than tol=0.000100 for 10 consecutive epochs. Stopping.\n"
     ]
    },
    {
     "data": {
      "text/plain": [
       "MLPClassifier(activation='relu', alpha=0.0001, batch_size='auto', beta_1=0.9,\n",
       "              beta_2=0.999, early_stopping=False, epsilon=1e-08,\n",
       "              hidden_layer_sizes=(3, 30), learning_rate='constant',\n",
       "              learning_rate_init=0.001, max_fun=15000, max_iter=700,\n",
       "              momentum=0.9, n_iter_no_change=10, nesterovs_momentum=True,\n",
       "              power_t=0.5, random_state=100, shuffle=True, solver='adam',\n",
       "              tol=0.0001, validation_fraction=0.1, verbose=True,\n",
       "              warm_start=False)"
      ]
     },
     "execution_count": 33,
     "metadata": {},
     "output_type": "execute_result"
    }
   ],
   "source": [
    "#entrenamos nuestro modelo en los datasets generados para ello\n",
    "clf.fit(X_train, y_train)"
   ]
  },
  {
   "cell_type": "code",
   "execution_count": 34,
   "metadata": {},
   "outputs": [
    {
     "name": "stdout",
     "output_type": "stream",
     "text": [
      "[[ 61   8]\n",
      " [  2 100]]\n"
     ]
    }
   ],
   "source": [
    "#realizamos las predicciones e imprimimos nuestra mattriz de confusión\n",
    "predictions = clf.predict(X_test)\n",
    "print(confusion_matrix(y_test, predictions))"
   ]
  },
  {
   "cell_type": "markdown",
   "metadata": {},
   "source": [
    "<img src=\"confusion.jpg\" align=\"left\" style=\"width: 400px;\"/>"
   ]
  },
  {
   "cell_type": "markdown",
   "metadata": {},
   "source": [
    "### PRECISION:"
   ]
  },
  {
   "cell_type": "markdown",
   "metadata": {},
   "source": [
    "Definimos **precisión** como el raito de TP / (TP + FP). Para calcularla planteamos dos opciones:"
   ]
  },
  {
   "cell_type": "code",
   "execution_count": 35,
   "metadata": {},
   "outputs": [
    {
     "data": {
      "text/plain": [
       "0.9259259259259259"
      ]
     },
     "execution_count": 35,
     "metadata": {},
     "output_type": "execute_result"
    }
   ],
   "source": [
    "#OPCIÓN 1: Podemos calcularlo a mano con los valores obtenidos en nuestra matriz\n",
    "precision = 100/(100+8)\n",
    "precision"
   ]
  },
  {
   "cell_type": "code",
   "execution_count": 36,
   "metadata": {},
   "outputs": [
    {
     "data": {
      "text/plain": [
       "0.9259259259259259"
      ]
     },
     "execution_count": 36,
     "metadata": {},
     "output_type": "execute_result"
    }
   ],
   "source": [
    "#OPCIÓN 2: Utilizamos sklearn \"precision_score\"    *podemos observar que ambos nos devuelven el mismo valor\n",
    "precision_score(y_test, predictions)"
   ]
  },
  {
   "cell_type": "markdown",
   "metadata": {},
   "source": [
    "## Ejercicio Opcional\n",
    "\n"
   ]
  },
  {
   "cell_type": "markdown",
   "metadata": {},
   "source": [
    "Aplicad un clasificador basado en un [árbol de decicisión](https://es.wikipedia.org/wiki/Árbol_de_decisión)\n",
    "de un máximo de 3 niveles de profundidad para predecir los tipos de tumor utilizando el area, la tersura y la simetría como atributos y utilizando 60% de las muestras de entrenamiento y el 40% de test. Debéis utilizar la función [sklearn.tree.DecisionTreeClassifier](https://scikit-learn.org/stable/modules/generated/sklearn.tree.DecisionTreeClassifier.html).\n",
    "\n",
    "¿Qué valor de precisión obtenemos en un modelo basado en un árbol de decisión? Representa el árbol de decisión y expórtalo a un archivo PDF. Explora el árbol resultante al PDF y responde a la siguiente pregunta: Dados estos datos, cómo diagnosticarías a un paciente que presenta un tumor de area 400, textura 12.18, y un valor de lisura de 19 puntos?\n",
    "\n",
    "Nota: Tal vez la función [tree](https://scikit-learn.org/stable/modules/tree.html) de _sklearn_ sea de utilidad. <span style=\"font-family: Courier New; background-color: #ffcc5c; color: #000000; padding: 3px; \">EG</span>"
   ]
  },
  {
   "cell_type": "code",
   "execution_count": 37,
   "metadata": {},
   "outputs": [],
   "source": [
    "#importamos las librerias necesarias\n",
    "from sklearn.tree import DecisionTreeClassifier\n",
    "from sklearn import tree\n",
    "import graphviz"
   ]
  },
  {
   "cell_type": "code",
   "execution_count": 38,
   "metadata": {},
   "outputs": [],
   "source": [
    "#separamos el dataset en train y test (utilizamos 60% para train y 40% para test según enunciado)\n",
    "X_train, X_test, y_train, y_test = train_test_split(df.loc[:,['mean area', 'mean texture', 'mean symmetry']],\n",
    "                                                    df['target'], test_size=.4)"
   ]
  },
  {
   "cell_type": "code",
   "execution_count": 39,
   "metadata": {},
   "outputs": [],
   "source": [
    "#definimos nuestro modelo y lo entrenamos en los dataset de Train generados anteriormente\n",
    "clf2 = tree.DecisionTreeClassifier(max_depth=3)\n",
    "clf2 = clf2.fit(X_train, y_train)"
   ]
  },
  {
   "cell_type": "code",
   "execution_count": 40,
   "metadata": {},
   "outputs": [
    {
     "data": {
      "text/plain": [
       "0.8991228070175439"
      ]
     },
     "execution_count": 40,
     "metadata": {},
     "output_type": "execute_result"
    }
   ],
   "source": [
    "#medimos el score en nuestro dataset de test\n",
    "clf2.score(X_test, y_test)"
   ]
  },
  {
   "cell_type": "code",
   "execution_count": 41,
   "metadata": {},
   "outputs": [
    {
     "data": {
      "image/svg+xml": [
       "<?xml version=\"1.0\" encoding=\"UTF-8\" standalone=\"no\"?>\n",
       "<!DOCTYPE svg PUBLIC \"-//W3C//DTD SVG 1.1//EN\"\n",
       " \"http://www.w3.org/Graphics/SVG/1.1/DTD/svg11.dtd\">\n",
       "<!-- Generated by graphviz version 2.40.1 (20161225.0304)\n",
       " -->\n",
       "<!-- Title: Tree Pages: 1 -->\n",
       "<svg width=\"958pt\" height=\"373pt\"\n",
       " viewBox=\"0.00 0.00 958.00 373.00\" xmlns=\"http://www.w3.org/2000/svg\" xmlns:xlink=\"http://www.w3.org/1999/xlink\">\n",
       "<g id=\"graph0\" class=\"graph\" transform=\"scale(1 1) rotate(0) translate(4 369)\">\n",
       "<title>Tree</title>\n",
       "<polygon fill=\"#ffffff\" stroke=\"transparent\" points=\"-4,4 -4,-369 954,-369 954,4 -4,4\"/>\n",
       "<!-- 0 -->\n",
       "<g id=\"node1\" class=\"node\">\n",
       "<title>0</title>\n",
       "<path fill=\"#b0d8f5\" stroke=\"#000000\" d=\"M514.5,-365C514.5,-365 404.5,-365 404.5,-365 398.5,-365 392.5,-359 392.5,-353 392.5,-353 392.5,-309 392.5,-309 392.5,-303 398.5,-297 404.5,-297 404.5,-297 514.5,-297 514.5,-297 520.5,-297 526.5,-303 526.5,-309 526.5,-309 526.5,-353 526.5,-353 526.5,-359 520.5,-365 514.5,-365\"/>\n",
       "<text text-anchor=\"start\" x=\"400.5\" y=\"-349.8\" font-family=\"Helvetica,sans-Serif\" font-size=\"14.00\" fill=\"#000000\">mean area ≤ 697.8</text>\n",
       "<text text-anchor=\"start\" x=\"423\" y=\"-334.8\" font-family=\"Helvetica,sans-Serif\" font-size=\"14.00\" fill=\"#000000\">gini = 0.469</text>\n",
       "<text text-anchor=\"start\" x=\"413.5\" y=\"-319.8\" font-family=\"Helvetica,sans-Serif\" font-size=\"14.00\" fill=\"#000000\">samples = 341</text>\n",
       "<text text-anchor=\"start\" x=\"403.5\" y=\"-304.8\" font-family=\"Helvetica,sans-Serif\" font-size=\"14.00\" fill=\"#000000\">value = [128, 213]</text>\n",
       "</g>\n",
       "<!-- 1 -->\n",
       "<g id=\"node2\" class=\"node\">\n",
       "<title>1</title>\n",
       "<path fill=\"#58ace9\" stroke=\"#000000\" d=\"M429,-261C429,-261 294,-261 294,-261 288,-261 282,-255 282,-249 282,-249 282,-205 282,-205 282,-199 288,-193 294,-193 294,-193 429,-193 429,-193 435,-193 441,-199 441,-205 441,-205 441,-249 441,-249 441,-255 435,-261 429,-261\"/>\n",
       "<text text-anchor=\"start\" x=\"290\" y=\"-245.8\" font-family=\"Helvetica,sans-Serif\" font-size=\"14.00\" fill=\"#000000\">mean symmetry ≤ 0.21</text>\n",
       "<text text-anchor=\"start\" x=\"325\" y=\"-230.8\" font-family=\"Helvetica,sans-Serif\" font-size=\"14.00\" fill=\"#000000\">gini = 0.234</text>\n",
       "<text text-anchor=\"start\" x=\"315.5\" y=\"-215.8\" font-family=\"Helvetica,sans-Serif\" font-size=\"14.00\" fill=\"#000000\">samples = 236</text>\n",
       "<text text-anchor=\"start\" x=\"309.5\" y=\"-200.8\" font-family=\"Helvetica,sans-Serif\" font-size=\"14.00\" fill=\"#000000\">value = [32, 204]</text>\n",
       "</g>\n",
       "<!-- 0&#45;&gt;1 -->\n",
       "<g id=\"edge1\" class=\"edge\">\n",
       "<title>0&#45;&gt;1</title>\n",
       "<path fill=\"none\" stroke=\"#000000\" d=\"M427.4111,-296.9465C418.866,-287.8782 409.5387,-277.9799 400.6609,-268.5585\"/>\n",
       "<polygon fill=\"#000000\" stroke=\"#000000\" points=\"403.0663,-266.0076 393.661,-261.13 397.9717,-270.8082 403.0663,-266.0076\"/>\n",
       "<text text-anchor=\"middle\" x=\"392.9187\" y=\"-282.419\" font-family=\"Helvetica,sans-Serif\" font-size=\"14.00\" fill=\"#000000\">True</text>\n",
       "</g>\n",
       "<!-- 8 -->\n",
       "<g id=\"node9\" class=\"node\">\n",
       "<title>8</title>\n",
       "<path fill=\"#e78d4c\" stroke=\"#000000\" d=\"M644.5,-261C644.5,-261 512.5,-261 512.5,-261 506.5,-261 500.5,-255 500.5,-249 500.5,-249 500.5,-205 500.5,-205 500.5,-199 506.5,-193 512.5,-193 512.5,-193 644.5,-193 644.5,-193 650.5,-193 656.5,-199 656.5,-205 656.5,-205 656.5,-249 656.5,-249 656.5,-255 650.5,-261 644.5,-261\"/>\n",
       "<text text-anchor=\"start\" x=\"508.5\" y=\"-245.8\" font-family=\"Helvetica,sans-Serif\" font-size=\"14.00\" fill=\"#000000\">mean texture ≤ 16.235</text>\n",
       "<text text-anchor=\"start\" x=\"542\" y=\"-230.8\" font-family=\"Helvetica,sans-Serif\" font-size=\"14.00\" fill=\"#000000\">gini = 0.157</text>\n",
       "<text text-anchor=\"start\" x=\"532.5\" y=\"-215.8\" font-family=\"Helvetica,sans-Serif\" font-size=\"14.00\" fill=\"#000000\">samples = 105</text>\n",
       "<text text-anchor=\"start\" x=\"534\" y=\"-200.8\" font-family=\"Helvetica,sans-Serif\" font-size=\"14.00\" fill=\"#000000\">value = [96, 9]</text>\n",
       "</g>\n",
       "<!-- 0&#45;&gt;8 -->\n",
       "<g id=\"edge8\" class=\"edge\">\n",
       "<title>0&#45;&gt;8</title>\n",
       "<path fill=\"none\" stroke=\"#000000\" d=\"M498.4651,-296.9465C509.1495,-287.6088 520.8409,-277.3911 531.9066,-267.7203\"/>\n",
       "<polygon fill=\"#000000\" stroke=\"#000000\" points=\"534.2209,-270.346 539.4474,-261.13 529.6145,-265.0752 534.2209,-270.346\"/>\n",
       "<text text-anchor=\"middle\" x=\"537.7696\" y=\"-282.3736\" font-family=\"Helvetica,sans-Serif\" font-size=\"14.00\" fill=\"#000000\">False</text>\n",
       "</g>\n",
       "<!-- 2 -->\n",
       "<g id=\"node3\" class=\"node\">\n",
       "<title>2</title>\n",
       "<path fill=\"#4aa6e7\" stroke=\"#000000\" d=\"M250,-157C250,-157 125,-157 125,-157 119,-157 113,-151 113,-145 113,-145 113,-101 113,-101 113,-95 119,-89 125,-89 125,-89 250,-89 250,-89 256,-89 262,-95 262,-101 262,-101 262,-145 262,-145 262,-151 256,-157 250,-157\"/>\n",
       "<text text-anchor=\"start\" x=\"121\" y=\"-141.8\" font-family=\"Helvetica,sans-Serif\" font-size=\"14.00\" fill=\"#000000\">mean texture ≤ 19.58</text>\n",
       "<text text-anchor=\"start\" x=\"151\" y=\"-126.8\" font-family=\"Helvetica,sans-Serif\" font-size=\"14.00\" fill=\"#000000\">gini = 0.149</text>\n",
       "<text text-anchor=\"start\" x=\"141.5\" y=\"-111.8\" font-family=\"Helvetica,sans-Serif\" font-size=\"14.00\" fill=\"#000000\">samples = 210</text>\n",
       "<text text-anchor=\"start\" x=\"135.5\" y=\"-96.8\" font-family=\"Helvetica,sans-Serif\" font-size=\"14.00\" fill=\"#000000\">value = [17, 193]</text>\n",
       "</g>\n",
       "<!-- 1&#45;&gt;2 -->\n",
       "<g id=\"edge2\" class=\"edge\">\n",
       "<title>1&#45;&gt;2</title>\n",
       "<path fill=\"none\" stroke=\"#000000\" d=\"M304.5259,-192.9465C288.1522,-183.1599 270.1611,-172.4066 253.3011,-162.3294\"/>\n",
       "<polygon fill=\"#000000\" stroke=\"#000000\" points=\"254.9814,-159.2562 244.6021,-157.13 251.3901,-165.2648 254.9814,-159.2562\"/>\n",
       "</g>\n",
       "<!-- 5 -->\n",
       "<g id=\"node6\" class=\"node\">\n",
       "<title>5</title>\n",
       "<path fill=\"#f8ddca\" stroke=\"#000000\" d=\"M420.5,-157C420.5,-157 302.5,-157 302.5,-157 296.5,-157 290.5,-151 290.5,-145 290.5,-145 290.5,-101 290.5,-101 290.5,-95 296.5,-89 302.5,-89 302.5,-89 420.5,-89 420.5,-89 426.5,-89 432.5,-95 432.5,-101 432.5,-101 432.5,-145 432.5,-145 432.5,-151 426.5,-157 420.5,-157\"/>\n",
       "<text text-anchor=\"start\" x=\"298.5\" y=\"-141.8\" font-family=\"Helvetica,sans-Serif\" font-size=\"14.00\" fill=\"#000000\">mean area ≤ 349.95</text>\n",
       "<text text-anchor=\"start\" x=\"325\" y=\"-126.8\" font-family=\"Helvetica,sans-Serif\" font-size=\"14.00\" fill=\"#000000\">gini = 0.488</text>\n",
       "<text text-anchor=\"start\" x=\"319.5\" y=\"-111.8\" font-family=\"Helvetica,sans-Serif\" font-size=\"14.00\" fill=\"#000000\">samples = 26</text>\n",
       "<text text-anchor=\"start\" x=\"313\" y=\"-96.8\" font-family=\"Helvetica,sans-Serif\" font-size=\"14.00\" fill=\"#000000\">value = [15, 11]</text>\n",
       "</g>\n",
       "<!-- 1&#45;&gt;5 -->\n",
       "<g id=\"edge5\" class=\"edge\">\n",
       "<title>1&#45;&gt;5</title>\n",
       "<path fill=\"none\" stroke=\"#000000\" d=\"M361.5,-192.9465C361.5,-184.776 361.5,-175.9318 361.5,-167.3697\"/>\n",
       "<polygon fill=\"#000000\" stroke=\"#000000\" points=\"365.0001,-167.13 361.5,-157.13 358.0001,-167.13 365.0001,-167.13\"/>\n",
       "</g>\n",
       "<!-- 3 -->\n",
       "<g id=\"node4\" class=\"node\">\n",
       "<title>3</title>\n",
       "<path fill=\"#3d9fe6\" stroke=\"#000000\" d=\"M101,-53C101,-53 12,-53 12,-53 6,-53 0,-47 0,-41 0,-41 0,-12 0,-12 0,-6 6,0 12,0 12,0 101,0 101,0 107,0 113,-6 113,-12 113,-12 113,-41 113,-41 113,-47 107,-53 101,-53\"/>\n",
       "<text text-anchor=\"start\" x=\"20\" y=\"-37.8\" font-family=\"Helvetica,sans-Serif\" font-size=\"14.00\" fill=\"#000000\">gini = 0.041</text>\n",
       "<text text-anchor=\"start\" x=\"10.5\" y=\"-22.8\" font-family=\"Helvetica,sans-Serif\" font-size=\"14.00\" fill=\"#000000\">samples = 142</text>\n",
       "<text text-anchor=\"start\" x=\"8\" y=\"-7.8\" font-family=\"Helvetica,sans-Serif\" font-size=\"14.00\" fill=\"#000000\">value = [3, 139]</text>\n",
       "</g>\n",
       "<!-- 2&#45;&gt;3 -->\n",
       "<g id=\"edge3\" class=\"edge\">\n",
       "<title>2&#45;&gt;3</title>\n",
       "<path fill=\"none\" stroke=\"#000000\" d=\"M141.3143,-88.9777C128.2621,-79.3629 114.0861,-68.9203 101.1273,-59.3743\"/>\n",
       "<polygon fill=\"#000000\" stroke=\"#000000\" points=\"102.9386,-56.3615 92.8114,-53.2485 98.7869,-61.9974 102.9386,-56.3615\"/>\n",
       "</g>\n",
       "<!-- 4 -->\n",
       "<g id=\"node5\" class=\"node\">\n",
       "<title>4</title>\n",
       "<path fill=\"#6cb6ec\" stroke=\"#000000\" d=\"M232,-53C232,-53 143,-53 143,-53 137,-53 131,-47 131,-41 131,-41 131,-12 131,-12 131,-6 137,0 143,0 143,0 232,0 232,0 238,0 244,-6 244,-12 244,-12 244,-41 244,-41 244,-47 238,-53 232,-53\"/>\n",
       "<text text-anchor=\"start\" x=\"151\" y=\"-37.8\" font-family=\"Helvetica,sans-Serif\" font-size=\"14.00\" fill=\"#000000\">gini = 0.327</text>\n",
       "<text text-anchor=\"start\" x=\"145.5\" y=\"-22.8\" font-family=\"Helvetica,sans-Serif\" font-size=\"14.00\" fill=\"#000000\">samples = 68</text>\n",
       "<text text-anchor=\"start\" x=\"139\" y=\"-7.8\" font-family=\"Helvetica,sans-Serif\" font-size=\"14.00\" fill=\"#000000\">value = [14, 54]</text>\n",
       "</g>\n",
       "<!-- 2&#45;&gt;4 -->\n",
       "<g id=\"edge4\" class=\"edge\">\n",
       "<title>2&#45;&gt;4</title>\n",
       "<path fill=\"none\" stroke=\"#000000\" d=\"M187.5,-88.9777C187.5,-80.7364 187.5,-71.887 187.5,-63.5153\"/>\n",
       "<polygon fill=\"#000000\" stroke=\"#000000\" points=\"191.0001,-63.2484 187.5,-53.2485 184.0001,-63.2485 191.0001,-63.2484\"/>\n",
       "</g>\n",
       "<!-- 6 -->\n",
       "<g id=\"node7\" class=\"node\">\n",
       "<title>6</title>\n",
       "<path fill=\"#399de5\" stroke=\"#000000\" d=\"M347,-53C347,-53 274,-53 274,-53 268,-53 262,-47 262,-41 262,-41 262,-12 262,-12 262,-6 268,0 274,0 274,0 347,0 347,0 353,0 359,-6 359,-12 359,-12 359,-41 359,-41 359,-47 353,-53 347,-53\"/>\n",
       "<text text-anchor=\"start\" x=\"281.5\" y=\"-37.8\" font-family=\"Helvetica,sans-Serif\" font-size=\"14.00\" fill=\"#000000\">gini = 0.0</text>\n",
       "<text text-anchor=\"start\" x=\"272.5\" y=\"-22.8\" font-family=\"Helvetica,sans-Serif\" font-size=\"14.00\" fill=\"#000000\">samples = 6</text>\n",
       "<text text-anchor=\"start\" x=\"270\" y=\"-7.8\" font-family=\"Helvetica,sans-Serif\" font-size=\"14.00\" fill=\"#000000\">value = [0, 6]</text>\n",
       "</g>\n",
       "<!-- 5&#45;&gt;6 -->\n",
       "<g id=\"edge6\" class=\"edge\">\n",
       "<title>5&#45;&gt;6</title>\n",
       "<path fill=\"none\" stroke=\"#000000\" d=\"M343.5193,-88.9777C338.9218,-80.2786 333.9663,-70.9018 329.3275,-62.1247\"/>\n",
       "<polygon fill=\"#000000\" stroke=\"#000000\" points=\"332.4035,-60.4543 324.6365,-53.2485 326.2147,-63.7251 332.4035,-60.4543\"/>\n",
       "</g>\n",
       "<!-- 7 -->\n",
       "<g id=\"node8\" class=\"node\">\n",
       "<title>7</title>\n",
       "<path fill=\"#eeab7b\" stroke=\"#000000\" d=\"M470,-53C470,-53 389,-53 389,-53 383,-53 377,-47 377,-41 377,-41 377,-12 377,-12 377,-6 383,0 389,0 389,0 470,0 470,0 476,0 482,-6 482,-12 482,-12 482,-41 482,-41 482,-47 476,-53 470,-53\"/>\n",
       "<text text-anchor=\"start\" x=\"393\" y=\"-37.8\" font-family=\"Helvetica,sans-Serif\" font-size=\"14.00\" fill=\"#000000\">gini = 0.375</text>\n",
       "<text text-anchor=\"start\" x=\"387.5\" y=\"-22.8\" font-family=\"Helvetica,sans-Serif\" font-size=\"14.00\" fill=\"#000000\">samples = 20</text>\n",
       "<text text-anchor=\"start\" x=\"385\" y=\"-7.8\" font-family=\"Helvetica,sans-Serif\" font-size=\"14.00\" fill=\"#000000\">value = [15, 5]</text>\n",
       "</g>\n",
       "<!-- 5&#45;&gt;7 -->\n",
       "<g id=\"edge7\" class=\"edge\">\n",
       "<title>5&#45;&gt;7</title>\n",
       "<path fill=\"none\" stroke=\"#000000\" d=\"M385.4743,-88.9777C391.7333,-80.0954 398.4901,-70.5067 404.7867,-61.5711\"/>\n",
       "<polygon fill=\"#000000\" stroke=\"#000000\" points=\"407.7521,-63.4389 410.6513,-53.2485 402.0301,-59.4068 407.7521,-63.4389\"/>\n",
       "</g>\n",
       "<!-- 9 -->\n",
       "<g id=\"node10\" class=\"node\">\n",
       "<title>9</title>\n",
       "<path fill=\"#aad5f4\" stroke=\"#000000\" d=\"M637.5,-157C637.5,-157 519.5,-157 519.5,-157 513.5,-157 507.5,-151 507.5,-145 507.5,-145 507.5,-101 507.5,-101 507.5,-95 513.5,-89 519.5,-89 519.5,-89 637.5,-89 637.5,-89 643.5,-89 649.5,-95 649.5,-101 649.5,-101 649.5,-145 649.5,-145 649.5,-151 643.5,-157 637.5,-157\"/>\n",
       "<text text-anchor=\"start\" x=\"515.5\" y=\"-141.8\" font-family=\"Helvetica,sans-Serif\" font-size=\"14.00\" fill=\"#000000\">mean area ≤ 996.55</text>\n",
       "<text text-anchor=\"start\" x=\"542\" y=\"-126.8\" font-family=\"Helvetica,sans-Serif\" font-size=\"14.00\" fill=\"#000000\">gini = 0.463</text>\n",
       "<text text-anchor=\"start\" x=\"536.5\" y=\"-111.8\" font-family=\"Helvetica,sans-Serif\" font-size=\"14.00\" fill=\"#000000\">samples = 11</text>\n",
       "<text text-anchor=\"start\" x=\"538\" y=\"-96.8\" font-family=\"Helvetica,sans-Serif\" font-size=\"14.00\" fill=\"#000000\">value = [4, 7]</text>\n",
       "</g>\n",
       "<!-- 8&#45;&gt;9 -->\n",
       "<g id=\"edge9\" class=\"edge\">\n",
       "<title>8&#45;&gt;9</title>\n",
       "<path fill=\"none\" stroke=\"#000000\" d=\"M578.5,-192.9465C578.5,-184.776 578.5,-175.9318 578.5,-167.3697\"/>\n",
       "<polygon fill=\"#000000\" stroke=\"#000000\" points=\"582.0001,-167.13 578.5,-157.13 575.0001,-167.13 582.0001,-167.13\"/>\n",
       "</g>\n",
       "<!-- 12 -->\n",
       "<g id=\"node13\" class=\"node\">\n",
       "<title>12</title>\n",
       "<path fill=\"#e6843d\" stroke=\"#000000\" d=\"M846,-157C846,-157 711,-157 711,-157 705,-157 699,-151 699,-145 699,-145 699,-101 699,-101 699,-95 705,-89 711,-89 711,-89 846,-89 846,-89 852,-89 858,-95 858,-101 858,-101 858,-145 858,-145 858,-151 852,-157 846,-157\"/>\n",
       "<text text-anchor=\"start\" x=\"707\" y=\"-141.8\" font-family=\"Helvetica,sans-Serif\" font-size=\"14.00\" fill=\"#000000\">mean symmetry ≤ 0.15</text>\n",
       "<text text-anchor=\"start\" x=\"742\" y=\"-126.8\" font-family=\"Helvetica,sans-Serif\" font-size=\"14.00\" fill=\"#000000\">gini = 0.042</text>\n",
       "<text text-anchor=\"start\" x=\"736.5\" y=\"-111.8\" font-family=\"Helvetica,sans-Serif\" font-size=\"14.00\" fill=\"#000000\">samples = 94</text>\n",
       "<text text-anchor=\"start\" x=\"734\" y=\"-96.8\" font-family=\"Helvetica,sans-Serif\" font-size=\"14.00\" fill=\"#000000\">value = [92, 2]</text>\n",
       "</g>\n",
       "<!-- 8&#45;&gt;12 -->\n",
       "<g id=\"edge12\" class=\"edge\">\n",
       "<title>8&#45;&gt;12</title>\n",
       "<path fill=\"none\" stroke=\"#000000\" d=\"M643.9875,-192.9465C663.1532,-182.9803 684.2467,-172.0117 703.9319,-161.7754\"/>\n",
       "<polygon fill=\"#000000\" stroke=\"#000000\" points=\"705.608,-164.8488 712.8654,-157.13 702.3785,-158.6383 705.608,-164.8488\"/>\n",
       "</g>\n",
       "<!-- 10 -->\n",
       "<g id=\"node11\" class=\"node\">\n",
       "<title>10</title>\n",
       "<path fill=\"#55abe9\" stroke=\"#000000\" d=\"M585,-53C585,-53 512,-53 512,-53 506,-53 500,-47 500,-41 500,-41 500,-12 500,-12 500,-6 506,0 512,0 512,0 585,0 585,0 591,0 597,-6 597,-12 597,-12 597,-41 597,-41 597,-47 591,-53 585,-53\"/>\n",
       "<text text-anchor=\"start\" x=\"512\" y=\"-37.8\" font-family=\"Helvetica,sans-Serif\" font-size=\"14.00\" fill=\"#000000\">gini = 0.219</text>\n",
       "<text text-anchor=\"start\" x=\"510.5\" y=\"-22.8\" font-family=\"Helvetica,sans-Serif\" font-size=\"14.00\" fill=\"#000000\">samples = 8</text>\n",
       "<text text-anchor=\"start\" x=\"508\" y=\"-7.8\" font-family=\"Helvetica,sans-Serif\" font-size=\"14.00\" fill=\"#000000\">value = [1, 7]</text>\n",
       "</g>\n",
       "<!-- 9&#45;&gt;10 -->\n",
       "<g id=\"edge10\" class=\"edge\">\n",
       "<title>9&#45;&gt;10</title>\n",
       "<path fill=\"none\" stroke=\"#000000\" d=\"M567.9231,-88.9777C565.3041,-80.5533 562.4876,-71.4934 559.8341,-62.9579\"/>\n",
       "<polygon fill=\"#000000\" stroke=\"#000000\" points=\"563.1265,-61.7586 556.8156,-53.2485 556.4421,-63.8367 563.1265,-61.7586\"/>\n",
       "</g>\n",
       "<!-- 11 -->\n",
       "<g id=\"node12\" class=\"node\">\n",
       "<title>11</title>\n",
       "<path fill=\"#e58139\" stroke=\"#000000\" d=\"M700,-53C700,-53 627,-53 627,-53 621,-53 615,-47 615,-41 615,-41 615,-12 615,-12 615,-6 621,0 627,0 627,0 700,0 700,0 706,0 712,-6 712,-12 712,-12 712,-41 712,-41 712,-47 706,-53 700,-53\"/>\n",
       "<text text-anchor=\"start\" x=\"634.5\" y=\"-37.8\" font-family=\"Helvetica,sans-Serif\" font-size=\"14.00\" fill=\"#000000\">gini = 0.0</text>\n",
       "<text text-anchor=\"start\" x=\"625.5\" y=\"-22.8\" font-family=\"Helvetica,sans-Serif\" font-size=\"14.00\" fill=\"#000000\">samples = 3</text>\n",
       "<text text-anchor=\"start\" x=\"623\" y=\"-7.8\" font-family=\"Helvetica,sans-Serif\" font-size=\"14.00\" fill=\"#000000\">value = [3, 0]</text>\n",
       "</g>\n",
       "<!-- 9&#45;&gt;11 -->\n",
       "<g id=\"edge11\" class=\"edge\">\n",
       "<title>9&#45;&gt;11</title>\n",
       "<path fill=\"none\" stroke=\"#000000\" d=\"M608.4678,-88.9777C616.4529,-79.9123 625.0862,-70.111 633.0944,-61.0192\"/>\n",
       "<polygon fill=\"#000000\" stroke=\"#000000\" points=\"635.9558,-63.066 639.9392,-53.2485 630.7029,-58.4391 635.9558,-63.066\"/>\n",
       "</g>\n",
       "<!-- 13 -->\n",
       "<g id=\"node14\" class=\"node\">\n",
       "<title>13</title>\n",
       "<path fill=\"#ea9a61\" stroke=\"#000000\" d=\"M815,-53C815,-53 742,-53 742,-53 736,-53 730,-47 730,-41 730,-41 730,-12 730,-12 730,-6 736,0 742,0 742,0 815,0 815,0 821,0 827,-6 827,-12 827,-12 827,-41 827,-41 827,-47 821,-53 815,-53\"/>\n",
       "<text text-anchor=\"start\" x=\"742\" y=\"-37.8\" font-family=\"Helvetica,sans-Serif\" font-size=\"14.00\" fill=\"#000000\">gini = 0.278</text>\n",
       "<text text-anchor=\"start\" x=\"740.5\" y=\"-22.8\" font-family=\"Helvetica,sans-Serif\" font-size=\"14.00\" fill=\"#000000\">samples = 6</text>\n",
       "<text text-anchor=\"start\" x=\"738\" y=\"-7.8\" font-family=\"Helvetica,sans-Serif\" font-size=\"14.00\" fill=\"#000000\">value = [5, 1]</text>\n",
       "</g>\n",
       "<!-- 12&#45;&gt;13 -->\n",
       "<g id=\"edge13\" class=\"edge\">\n",
       "<title>12&#45;&gt;13</title>\n",
       "<path fill=\"none\" stroke=\"#000000\" d=\"M778.5,-88.9777C778.5,-80.7364 778.5,-71.887 778.5,-63.5153\"/>\n",
       "<polygon fill=\"#000000\" stroke=\"#000000\" points=\"782.0001,-63.2484 778.5,-53.2485 775.0001,-63.2485 782.0001,-63.2484\"/>\n",
       "</g>\n",
       "<!-- 14 -->\n",
       "<g id=\"node15\" class=\"node\">\n",
       "<title>14</title>\n",
       "<path fill=\"#e5823b\" stroke=\"#000000\" d=\"M938,-53C938,-53 857,-53 857,-53 851,-53 845,-47 845,-41 845,-41 845,-12 845,-12 845,-6 851,0 857,0 857,0 938,0 938,0 944,0 950,-6 950,-12 950,-12 950,-41 950,-41 950,-47 944,-53 938,-53\"/>\n",
       "<text text-anchor=\"start\" x=\"861\" y=\"-37.8\" font-family=\"Helvetica,sans-Serif\" font-size=\"14.00\" fill=\"#000000\">gini = 0.022</text>\n",
       "<text text-anchor=\"start\" x=\"855.5\" y=\"-22.8\" font-family=\"Helvetica,sans-Serif\" font-size=\"14.00\" fill=\"#000000\">samples = 88</text>\n",
       "<text text-anchor=\"start\" x=\"853\" y=\"-7.8\" font-family=\"Helvetica,sans-Serif\" font-size=\"14.00\" fill=\"#000000\">value = [87, 1]</text>\n",
       "</g>\n",
       "<!-- 12&#45;&gt;14 -->\n",
       "<g id=\"edge14\" class=\"edge\">\n",
       "<title>12&#45;&gt;14</title>\n",
       "<path fill=\"none\" stroke=\"#000000\" d=\"M820.4549,-88.9777C832.1986,-79.4545 844.9438,-69.1191 856.624,-59.6473\"/>\n",
       "<polygon fill=\"#000000\" stroke=\"#000000\" points=\"858.9522,-62.2656 864.5148,-53.2485 854.5432,-56.8286 858.9522,-62.2656\"/>\n",
       "</g>\n",
       "</g>\n",
       "</svg>\n"
      ],
      "text/plain": [
       "<graphviz.files.Source at 0x1a22ed0ed0>"
      ]
     },
     "execution_count": 41,
     "metadata": {},
     "output_type": "execute_result"
    }
   ],
   "source": [
    "#visualizamos nuestro árbol de decision\n",
    "dot_data = tree.export_graphviz(clf2, out_file=None, feature_names=X_train.columns,\n",
    "                                filled=True, rounded=True, \n",
    "                                special_characters=True)  \n",
    "\n",
    "graph = graphviz.Source(dot_data)  \n",
    "graph"
   ]
  },
  {
   "cell_type": "code",
   "execution_count": 43,
   "metadata": {},
   "outputs": [
    {
     "data": {
      "text/plain": [
       "'clf2.pdf'"
      ]
     },
     "execution_count": 43,
     "metadata": {},
     "output_type": "execute_result"
    }
   ],
   "source": [
    "#exportamos nuestro dataset a pdf utilizando la librería graphviz\n",
    "graph.render(\"clf2\") "
   ]
  },
  {
   "cell_type": "markdown",
   "metadata": {},
   "source": [
    "Con estos datos ¿cómo diagnosticarías a un paciente que presenta un tumor de area 400, simetría 0.18 y un valor de textura de 19 puntos?"
   ]
  },
  {
   "cell_type": "code",
   "execution_count": 44,
   "metadata": {},
   "outputs": [
    {
     "data": {
      "text/html": [
       "<div>\n",
       "<style scoped>\n",
       "    .dataframe tbody tr th:only-of-type {\n",
       "        vertical-align: middle;\n",
       "    }\n",
       "\n",
       "    .dataframe tbody tr th {\n",
       "        vertical-align: top;\n",
       "    }\n",
       "\n",
       "    .dataframe thead th {\n",
       "        text-align: right;\n",
       "    }\n",
       "</style>\n",
       "<table border=\"1\" class=\"dataframe\">\n",
       "  <thead>\n",
       "    <tr style=\"text-align: right;\">\n",
       "      <th></th>\n",
       "      <th>area</th>\n",
       "      <th>texture</th>\n",
       "      <th>simetry</th>\n",
       "    </tr>\n",
       "  </thead>\n",
       "  <tbody>\n",
       "    <tr>\n",
       "      <td>0</td>\n",
       "      <td>400</td>\n",
       "      <td>19</td>\n",
       "      <td>0.18</td>\n",
       "    </tr>\n",
       "  </tbody>\n",
       "</table>\n",
       "</div>"
      ],
      "text/plain": [
       "   area  texture  simetry\n",
       "0   400       19     0.18"
      ]
     },
     "execution_count": 44,
     "metadata": {},
     "output_type": "execute_result"
    }
   ],
   "source": [
    "#creamos un dataset con nuestros datos a predecir\n",
    "test = pd.DataFrame(data=[[400, 19, 0.18]], columns= ['area', 'texture', 'simetry'])\n",
    "test"
   ]
  },
  {
   "cell_type": "code",
   "execution_count": 45,
   "metadata": {},
   "outputs": [
    {
     "name": "stdout",
     "output_type": "stream",
     "text": [
      "[1]\n"
     ]
    }
   ],
   "source": [
    "#hacemos la predicción y obtenemos el resultado\n",
    "print(clf2.predict(test))"
   ]
  },
  {
   "cell_type": "markdown",
   "metadata": {},
   "source": [
    "____"
   ]
  }
 ],
 "metadata": {
  "kernelspec": {
   "display_name": "Python 3",
   "language": "python",
   "name": "python3"
  },
  "language_info": {
   "codemirror_mode": {
    "name": "ipython",
    "version": 3
   },
   "file_extension": ".py",
   "mimetype": "text/x-python",
   "name": "python",
   "nbconvert_exporter": "python",
   "pygments_lexer": "ipython3",
   "version": "3.7.4"
  }
 },
 "nbformat": 4,
 "nbformat_minor": 1
}
