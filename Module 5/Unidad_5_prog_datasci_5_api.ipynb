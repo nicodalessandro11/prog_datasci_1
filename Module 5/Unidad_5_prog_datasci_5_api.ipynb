{
 "cells": [
  {
   "cell_type": "markdown",
   "metadata": {},
   "source": [
    "# Programación para *Data Science*"
   ]
  },
  {
   "cell_type": "markdown",
   "metadata": {},
   "source": [
    "Unidad 5: Adquisición de datos en Python\n",
    "------------------------------------------------------\n",
    "\n",
    "## Instrucciones de uso\n",
    "\n",
    "A continuación se presentarán explicaciones y ejemplos de adquisición de datos en Python. Recordad que podéis ir ejecutando los ejemplos para obtener sus resultados.\n",
    "\n",
    "## Introducción\n",
    "\n",
    "Los procesos de adquisición de datos son muy diversos. En esta unidad, veremos ejemplos de adquisición de datos de Internet con tres métodos diferentes:\n",
    "\n",
    "- descarga directa\n",
    "- petición a APIs de terceros\n",
    "- *web crawling*\n",
    "\n",
    "Por lo que respeta a la interacción con APIs de terceros, repasaremos dos alternativas, la construcción manual de las peticiones HTTP y el uso de librerías Python. \n",
    "\n",
    "Con relación al *web crawling*, veremos cómo utilizar la librería [Scrapy](https://scrapy.org/) para construir un pequeño *web crawler* que capture datos de nuestro interés. \n"
   ]
  },
  {
   "cell_type": "markdown",
   "metadata": {},
   "source": [
    "### Primeros pasos\n",
    "\n",
    "En esta unidad trabajaremos en varias ocasiones con datos en formato JSON (recordad que ya hemos introducido el formato JSON en la xwiki). \n",
    "\n",
    "\n"
   ]
  },
  {
   "cell_type": "markdown",
   "metadata": {},
   "source": [
    "La librería json de Python nos ofrece algunas funciones muy útiles para trabajar en este formato. Por ejemplo, podemos obtener la representación JSON de objetos Python o crear objetos Python a partir de su representación en JSON."
   ]
  },
  {
   "cell_type": "code",
   "execution_count": 7,
   "metadata": {},
   "outputs": [
    {
     "name": "stdout",
     "output_type": "stream",
     "text": [
      "<class 'dict'>\n",
      "{'nombre': 'Yann', 'apellidos': {'apellido1': 'LeCun', 'apellido2': '-'}, 'edad': 56}\n",
      "<class 'list'>\n",
      "[1, 2, 3]\n"
     ]
    }
   ],
   "source": [
    "# Construimos un diccionario de ejemplo y mostramos el tipo de datos y el contenido de la variable.\n",
    "diccionario_ejemplo = {\"nombre\": \"Yann\", \"apellidos\": {\"apellido1\": \"LeCun\", \"apellido2\": \"-\"}, \"edad\": 56}\n",
    "print(type(diccionario_ejemplo))\n",
    "print(diccionario_ejemplo)\n",
    "\n",
    "# Construimos una lista de ejemplo y mostramos el tipo de datos y el contenido de la variable.\n",
    "lista_ejemplo = [1, 2, 3]\n",
    "print(type(lista_ejemplo))\n",
    "print(lista_ejemplo)"
   ]
  },
  {
   "cell_type": "code",
   "execution_count": 11,
   "metadata": {},
   "outputs": [
    {
     "name": "stdout",
     "output_type": "stream",
     "text": [
      "<class 'str'>\n",
      "{\"nombre\": \"Yann\", \"apellidos\": {\"apellido1\": \"LeCun\", \"apellido2\": \"-\"}, \"edad\": 56}\n",
      "<class 'str'>\n",
      "[1, 2, 3]\n"
     ]
    }
   ],
   "source": [
    "# Importamos la librería json.\n",
    "import json\n",
    "\n",
    "# Mostramos la representación json del diccionario.\n",
    "json_dict = json.dumps(diccionario_ejemplo)\n",
    "print(type(json_dict))\n",
    "print(json_dict)\n",
    "\n",
    "# Mostramos la representación json de la lista.\n",
    "json_list = json.dumps(lista_ejemplo)\n",
    "print(type(json_list))\n",
    "print(json_list)"
   ]
  },
  {
   "cell_type": "markdown",
   "metadata": {},
   "source": [
    "Fijaos que, en ambos casos, obtenemos una cadena de caracteres que nos representa, en formato JSON, los objetos Python. Este proceso se conoce como **serializar** el objeto.\n",
    "\n",
    "También podemos realizar el proceso inverso (conocido como **deserializar**), creando objetos Python (por ejemplo, listas o diccionarios) a partir de cadenas de texto en formato JSON.\n"
   ]
  },
  {
   "cell_type": "code",
   "execution_count": 12,
   "metadata": {},
   "outputs": [
    {
     "name": "stdout",
     "output_type": "stream",
     "text": [
      "<class 'dict'>\n",
      "{'nombre': 'Yann', 'apellidos': {'apellido1': 'LeCun', 'apellido2': '-'}, 'edad': 56}\n",
      "<class 'list'>\n",
      "[1, 2, 3]\n"
     ]
    }
   ],
   "source": [
    "# Deserializamos la cadena json_dict.\n",
    "diccionario_ejemplo2 = json.loads(json_dict)\n",
    "print(type(diccionario_ejemplo2))\n",
    "print(diccionario_ejemplo2)\n",
    "\n",
    "# Deserializamos la cadena json_list.\n",
    "lista_ejemplo2 = json.loads(json_list)\n",
    "print(type(lista_ejemplo2))\n",
    "print(lista_ejemplo2)"
   ]
  },
  {
   "cell_type": "markdown",
   "metadata": {},
   "source": [
    "Para mejorar la legibilidad de los datos que obtendremos de las API, definiremos una función que mostrará cadenas JSON por pantalla formateadas para mejorar la lectura. La función aceptará tanto cadenas de carácteres con contenido JSON como objetos Python, y mostrará el contenido por pantalla.\n",
    "\n",
    "Además, la función recibirá un parámetro opcional que nos permitirá indicar el número máximo de líneas que hay que mostrar. Así, podremos usar la función para visualizar las primeras líneas de un JSON largo, sin tener que mostrar el JSON completo por pantalla."
   ]
  },
  {
   "cell_type": "code",
   "execution_count": 13,
   "metadata": {},
   "outputs": [],
   "source": [
    "# Define la función 'json_print', que tiene un parámetro obligatorio 'json_data' y un parámetro opcional limit\n",
    "# y no devuelve ningún valor.\n",
    "# La función muestra por pantalla el contenido de la variable 'json_data' en formato JSON, limitando el número \n",
    "# de líneas a mostrar si se incluye el parámetro limit.\n",
    "def json_print(json_data, limit=None):\n",
    "    if isinstance(json_data, (str, unicode)):\n",
    "        json_data = json.loads(json_data)\n",
    "    nice = json.dumps(json_data, sort_keys=True, indent=3, separators=(',', ': '))\n",
    "    print(\"\\n\".join(nice.split(\"\\n\")[0:limit]))\n",
    "    if limit is not None:\n",
    "        print(\"[...]\")\n",
    "    "
   ]
  },
  {
   "cell_type": "markdown",
   "metadata": {},
   "source": [
    "Veamos un ejemplo del resultado de utilizar la función que acabamos de definir."
   ]
  },
  {
   "cell_type": "code",
   "execution_count": 14,
   "metadata": {},
   "outputs": [
    {
     "name": "stdout",
     "output_type": "stream",
     "text": [
      "{\"nombre\": \"Yann\", \"apellidos\": {\"apellido1\": \"LeCun\", \"apellido2\": \"-\"}, \"edad\": 56}\n"
     ]
    }
   ],
   "source": [
    "# Muestra el valor de la variable 'json_ejemplo' con la función 'print'.\n",
    "json_ejemplo = '{\"nombre\": \"Yann\", \"apellidos\": {\"apellido1\": \"LeCun\", \"apellido2\": \"-\"}, \"edad\": 56}'\n",
    "print(json_ejemplo)"
   ]
  },
  {
   "cell_type": "code",
   "execution_count": 15,
   "metadata": {},
   "outputs": [
    {
     "ename": "NameError",
     "evalue": "name 'unicode' is not defined",
     "output_type": "error",
     "traceback": [
      "\u001b[0;31m---------------------------------------------------------------------------\u001b[0m",
      "\u001b[0;31mNameError\u001b[0m                                 Traceback (most recent call last)",
      "\u001b[0;32m<ipython-input-15-67938e80ac6d>\u001b[0m in \u001b[0;36m<module>\u001b[0;34m\u001b[0m\n\u001b[1;32m      1\u001b[0m \u001b[0;31m# Muestra el valor de la variable 'json_ejemplo' con la función 'json_print' que acabamos de definir.\u001b[0m\u001b[0;34m\u001b[0m\u001b[0;34m\u001b[0m\u001b[0;34m\u001b[0m\u001b[0m\n\u001b[0;32m----> 2\u001b[0;31m \u001b[0mjson_print\u001b[0m\u001b[0;34m(\u001b[0m\u001b[0mjson_ejemplo\u001b[0m\u001b[0;34m)\u001b[0m\u001b[0;34m\u001b[0m\u001b[0;34m\u001b[0m\u001b[0m\n\u001b[0m",
      "\u001b[0;32m<ipython-input-13-3db0f19ca501>\u001b[0m in \u001b[0;36mjson_print\u001b[0;34m(json_data, limit)\u001b[0m\n\u001b[1;32m      4\u001b[0m \u001b[0;31m# de líneas a mostrar si se incluye el parámetro limit.\u001b[0m\u001b[0;34m\u001b[0m\u001b[0;34m\u001b[0m\u001b[0;34m\u001b[0m\u001b[0m\n\u001b[1;32m      5\u001b[0m \u001b[0;32mdef\u001b[0m \u001b[0mjson_print\u001b[0m\u001b[0;34m(\u001b[0m\u001b[0mjson_data\u001b[0m\u001b[0;34m,\u001b[0m \u001b[0mlimit\u001b[0m\u001b[0;34m=\u001b[0m\u001b[0;32mNone\u001b[0m\u001b[0;34m)\u001b[0m\u001b[0;34m:\u001b[0m\u001b[0;34m\u001b[0m\u001b[0;34m\u001b[0m\u001b[0m\n\u001b[0;32m----> 6\u001b[0;31m     \u001b[0;32mif\u001b[0m \u001b[0misinstance\u001b[0m\u001b[0;34m(\u001b[0m\u001b[0mjson_data\u001b[0m\u001b[0;34m,\u001b[0m \u001b[0;34m(\u001b[0m\u001b[0mstr\u001b[0m\u001b[0;34m,\u001b[0m \u001b[0municode\u001b[0m\u001b[0;34m)\u001b[0m\u001b[0;34m)\u001b[0m\u001b[0;34m:\u001b[0m\u001b[0;34m\u001b[0m\u001b[0;34m\u001b[0m\u001b[0m\n\u001b[0m\u001b[1;32m      7\u001b[0m         \u001b[0mjson_data\u001b[0m \u001b[0;34m=\u001b[0m \u001b[0mjson\u001b[0m\u001b[0;34m.\u001b[0m\u001b[0mloads\u001b[0m\u001b[0;34m(\u001b[0m\u001b[0mjson_data\u001b[0m\u001b[0;34m)\u001b[0m\u001b[0;34m\u001b[0m\u001b[0;34m\u001b[0m\u001b[0m\n\u001b[1;32m      8\u001b[0m     \u001b[0mnice\u001b[0m \u001b[0;34m=\u001b[0m \u001b[0mjson\u001b[0m\u001b[0;34m.\u001b[0m\u001b[0mdumps\u001b[0m\u001b[0;34m(\u001b[0m\u001b[0mjson_data\u001b[0m\u001b[0;34m,\u001b[0m \u001b[0msort_keys\u001b[0m\u001b[0;34m=\u001b[0m\u001b[0;32mTrue\u001b[0m\u001b[0;34m,\u001b[0m \u001b[0mindent\u001b[0m\u001b[0;34m=\u001b[0m\u001b[0;36m3\u001b[0m\u001b[0;34m,\u001b[0m \u001b[0mseparators\u001b[0m\u001b[0;34m=\u001b[0m\u001b[0;34m(\u001b[0m\u001b[0;34m','\u001b[0m\u001b[0;34m,\u001b[0m \u001b[0;34m': '\u001b[0m\u001b[0;34m)\u001b[0m\u001b[0;34m)\u001b[0m\u001b[0;34m\u001b[0m\u001b[0;34m\u001b[0m\u001b[0m\n",
      "\u001b[0;31mNameError\u001b[0m: name 'unicode' is not defined"
     ]
    }
   ],
   "source": [
    "# Muestra el valor de la variable 'json_ejemplo' con la función 'json_print' que acabamos de definir.\n",
    "json_print(json_ejemplo)"
   ]
  },
  {
   "cell_type": "code",
   "execution_count": 16,
   "metadata": {},
   "outputs": [
    {
     "ename": "NameError",
     "evalue": "name 'unicode' is not defined",
     "output_type": "error",
     "traceback": [
      "\u001b[0;31m---------------------------------------------------------------------------\u001b[0m",
      "\u001b[0;31mNameError\u001b[0m                                 Traceback (most recent call last)",
      "\u001b[0;32m<ipython-input-16-da3cf104e073>\u001b[0m in \u001b[0;36m<module>\u001b[0;34m\u001b[0m\n\u001b[1;32m      1\u001b[0m \u001b[0;31m# Mostramos únicamente las tres primeras líneas.\u001b[0m\u001b[0;34m\u001b[0m\u001b[0;34m\u001b[0m\u001b[0;34m\u001b[0m\u001b[0m\n\u001b[0;32m----> 2\u001b[0;31m \u001b[0mjson_print\u001b[0m\u001b[0;34m(\u001b[0m\u001b[0mjson_ejemplo\u001b[0m\u001b[0;34m,\u001b[0m \u001b[0;36m3\u001b[0m\u001b[0;34m)\u001b[0m\u001b[0;34m\u001b[0m\u001b[0;34m\u001b[0m\u001b[0m\n\u001b[0m",
      "\u001b[0;32m<ipython-input-13-3db0f19ca501>\u001b[0m in \u001b[0;36mjson_print\u001b[0;34m(json_data, limit)\u001b[0m\n\u001b[1;32m      4\u001b[0m \u001b[0;31m# de líneas a mostrar si se incluye el parámetro limit.\u001b[0m\u001b[0;34m\u001b[0m\u001b[0;34m\u001b[0m\u001b[0;34m\u001b[0m\u001b[0m\n\u001b[1;32m      5\u001b[0m \u001b[0;32mdef\u001b[0m \u001b[0mjson_print\u001b[0m\u001b[0;34m(\u001b[0m\u001b[0mjson_data\u001b[0m\u001b[0;34m,\u001b[0m \u001b[0mlimit\u001b[0m\u001b[0;34m=\u001b[0m\u001b[0;32mNone\u001b[0m\u001b[0;34m)\u001b[0m\u001b[0;34m:\u001b[0m\u001b[0;34m\u001b[0m\u001b[0;34m\u001b[0m\u001b[0m\n\u001b[0;32m----> 6\u001b[0;31m     \u001b[0;32mif\u001b[0m \u001b[0misinstance\u001b[0m\u001b[0;34m(\u001b[0m\u001b[0mjson_data\u001b[0m\u001b[0;34m,\u001b[0m \u001b[0;34m(\u001b[0m\u001b[0mstr\u001b[0m\u001b[0;34m,\u001b[0m \u001b[0municode\u001b[0m\u001b[0;34m)\u001b[0m\u001b[0;34m)\u001b[0m\u001b[0;34m:\u001b[0m\u001b[0;34m\u001b[0m\u001b[0;34m\u001b[0m\u001b[0m\n\u001b[0m\u001b[1;32m      7\u001b[0m         \u001b[0mjson_data\u001b[0m \u001b[0;34m=\u001b[0m \u001b[0mjson\u001b[0m\u001b[0;34m.\u001b[0m\u001b[0mloads\u001b[0m\u001b[0;34m(\u001b[0m\u001b[0mjson_data\u001b[0m\u001b[0;34m)\u001b[0m\u001b[0;34m\u001b[0m\u001b[0;34m\u001b[0m\u001b[0m\n\u001b[1;32m      8\u001b[0m     \u001b[0mnice\u001b[0m \u001b[0;34m=\u001b[0m \u001b[0mjson\u001b[0m\u001b[0;34m.\u001b[0m\u001b[0mdumps\u001b[0m\u001b[0;34m(\u001b[0m\u001b[0mjson_data\u001b[0m\u001b[0;34m,\u001b[0m \u001b[0msort_keys\u001b[0m\u001b[0;34m=\u001b[0m\u001b[0;32mTrue\u001b[0m\u001b[0;34m,\u001b[0m \u001b[0mindent\u001b[0m\u001b[0;34m=\u001b[0m\u001b[0;36m3\u001b[0m\u001b[0;34m,\u001b[0m \u001b[0mseparators\u001b[0m\u001b[0;34m=\u001b[0m\u001b[0;34m(\u001b[0m\u001b[0;34m','\u001b[0m\u001b[0;34m,\u001b[0m \u001b[0;34m': '\u001b[0m\u001b[0;34m)\u001b[0m\u001b[0;34m)\u001b[0m\u001b[0;34m\u001b[0m\u001b[0;34m\u001b[0m\u001b[0m\n",
      "\u001b[0;31mNameError\u001b[0m: name 'unicode' is not defined"
     ]
    }
   ],
   "source": [
    "# Mostramos únicamente las tres primeras líneas.\n",
    "json_print(json_ejemplo, 3)"
   ]
  },
  {
   "cell_type": "markdown",
   "metadata": {},
   "source": [
    "## Descarga directa de datos\n",
    "\n",
    "La descarga directa del conjunto de datos es quizás el método más sencillo de adquisición de datos y consiste en descargar un fichero con los datos de interés ya recopilados por algún otro analista. De hecho, en la unidad anterior ya hemos usado este método para adquirir el fichero con los datos sobre los personajes de cómic de Marvel. Una vez descargado el fichero, el procedimiento para cargarlo en Python dependerá del formato concreto (ya hemos visto un ejemplo de carga de datos desde un fichero .csv).\n",
    "\n",
    "Algunos de los sitios web donde podéis encontrar conjuntos de datos para analizar son:\n",
    "- [Open Data gencat](http://dadesobertes.gencat.cat/en/), el portal de datos abiertos de la Generalitat.\n",
    "- [datos.gov.es](http://datos.gob.es/es/catalogo), el catálogo de conjuntos de datos del Gobierno de España.\n",
    "- [European Data Sources](https://data.europa.eu/), el portal de datos abiertos de la Unión Europea.\n",
    "- [Mark Newman network datasets](http://www-personal.umich.edu/~mejn/netdata/), conjuntos de datos en forma de red recopilados por Mark Newman.\n",
    "- [Stanford Large Network Dataset Collection](http://snap.stanford.edu/data/), otra recopilación de conjuntos de datos en forma de red, en este caso creado por Jure Leskovec.\n",
    "- [SecRepo.com](http://www.secrepo.com/), datos relacionados con la seguridad.\n",
    "- [AWS Public Datasets](https://aws.amazon.com/public-datasets/), conjuntos de datos recopilados y hospedados por Amazon.\n",
    "- [UC Irvine Machine Learning Repository](http://archive.ics.uci.edu/ml/), datos recopilados por un grupo de investigación de la Universidad de California en Irvine.\n",
    "- El [repositorio de Five Thirty Eight](https://github.com/fivethirtyeight), que recoge datos utilizados en artículos de la publicación y que ya hemos visto en la unidad anterior.\n",
    "\n"
   ]
  },
  {
   "cell_type": "markdown",
   "metadata": {},
   "source": [
    "## Uso de API de terceros"
   ]
  },
  {
   "cell_type": "markdown",
   "metadata": {},
   "source": [
    "### Acceso a API manualmente\n",
    "\n",
    "Podemos utilizar la librería de Python [Requests](http://docs.python-requests.org/) para realizar peticiones a web API de manera manual. Para ello, tendremos que acceder a la documentación de la API con la que queramos actuar, construir manualmente las peticiones para obtener la información deseada y procesar también manualmente la respuesta recibida.\n",
    "\n",
    "Veamos un ejemplo de petición HTTP a una API pública. El sitio http://postcodes.io/ ofrece una API de geolocalización sobre códigos postales en el Reino Unido. Leyendo la documentación, podemos ver que tiene un método GET con la URL http://api.postcodes.io/postcodes/:código-postal que nos retorna información del código postal especificado. "
   ]
  },
  {
   "cell_type": "code",
   "execution_count": 17,
   "metadata": {},
   "outputs": [
    {
     "ename": "SyntaxError",
     "evalue": "Missing parentheses in call to 'print'. Did you mean print(\"Código de estado de la respuesta: \", response.status_code, \"\\n\")? (<ipython-input-17-10b199f300a7>, line 9)",
     "output_type": "error",
     "traceback": [
      "\u001b[0;36m  File \u001b[0;32m\"<ipython-input-17-10b199f300a7>\"\u001b[0;36m, line \u001b[0;32m9\u001b[0m\n\u001b[0;31m    print \"Código de estado de la respuesta: \", response.status_code, \"\\n\"\u001b[0m\n\u001b[0m                                             ^\u001b[0m\n\u001b[0;31mSyntaxError\u001b[0m\u001b[0;31m:\u001b[0m Missing parentheses in call to 'print'. Did you mean print(\"Código de estado de la respuesta: \", response.status_code, \"\\n\")?\n"
     ]
    }
   ],
   "source": [
    "# Importamos la librería.\n",
    "import requests\n",
    "\n",
    "# Realizamos una petición get a la API, preguntando sobre el código postal \"E98 1TT\"\n",
    "# Notad que el carácter espacio se codifica como %20 en la URL.\n",
    "response = requests.get('http://api.postcodes.io/postcodes/E98%201TT')\n",
    "\n",
    "# Mostramos la respuesta recibida.\n",
    "print \"Código de estado de la respuesta: \", response.status_code, \"\\n\"\n",
    "print \"Cabecera de la respuesta: \"\n",
    "json_print(dict(response.headers))\n",
    "print \"\\nCuerpo de la respuesta: \"\n",
    "json_print(response.content)"
   ]
  },
  {
   "cell_type": "markdown",
   "metadata": {},
   "source": [
    "Como podemos ver, el estado de la respuesta es 200, lo que [nos indica](https://www.w3.org/Protocols/rfc2616/rfc2616-sec10.html) que la petición se ha procesado correctamente. Entre otros campos, la cabecera de la respuesta incluye el tipo de contenido que encontraremos en el cuerpo, que será un texto en formato JSON. Por último, el cuerpo de la respuesta incluye datos sobre el código postal consultado. Por ejemplo, podemos ver que corresponde a Inglaterra (concretamente, a la ciudad de Londres).\n",
    "\n",
    "Notad que podemos visualizar también la respuesta accediendo a la [misma URL](http://api.postcodes.io/postcodes/E98%201TT) con un navegador web. En este caso, se pueden instalar extensiones específicas que gestionen la visualización mejorada del JSON retornado (por ejemplo, [JSONView](https://chrome.google.com/webstore/detail/jsonview/chklaanhfefbnpoihckbnefhakgolnmc) para Chrome o Firefox)."
   ]
  },
  {
   "cell_type": "markdown",
   "metadata": {},
   "source": [
    "### Acceso a API con librerías de Python\n",
    "\n",
    "Aunque podríamos usar este método para interactuar con cualquier API HTTP, lo cierto es que cuando la complejidad de las funciones disponibles incrementa (por ejemplo, al incluir autenticación) puede no resultar muy práctico. Cuando queramos acceder a APIs populares, normalmente encontraremos que ya existen librerías de Python diseñadas para interactuar con las estas APIs, de manera que podremos obtener datos sin necesidad de manejar las peticiones HTTP manualmente.\n",
    "\n",
    "Google maps dispone de un [conjunto de API](https://developers.google.com/maps/) muy populares que permiten, entre otros, obtener las coordenadas geográficas de una dirección, conseguir indicaciones para desplazarse de un punto a otro, o adquirir datos sobre la elevación del terreno en cualquier punto del mundo. La librería [googlemaps](https://googlemaps.github.io/google-maps-services-python/docs/) integra peticiones a la API de Google en código Python.\n",
    "\n",
    "Para usar las APIs de Google Maps, es necesario registrar un usuario y obtener una clave de autenticación, que adjuntaremos a las peticiones que se realicen contra la API. Además, tendremos que especificar qué APIs concretas vamos a usar. \n",
    "\n",
    "Para el siguiente ejemplo, realizaremos estos tres pasos para obtener la clave de autenticación:\n",
    "\n",
    "1. Crearemos un proyecto en la plataforma de Google Developers.\n",
    "2. Activaremos las APIs deseadas.\n",
    "3. Solicitaremos credenciales de acceso.\n",
    "\n",
    "En primer lugar crearemos un nuevo proyecto en el entorno de desarrolladores de google. Nos dirigiremos a:\n",
    "https://console.developers.google.com/apis/library\n",
    "y haremos clic sobre «Project: New project». Asignaremos un nombre cualquiera al proyecto y confirmaremos la creación pulsando «Create».\n",
    "\n",
    "Una vez creado el proyecto, activaremos las APIs que usaremos después. Primero, seleccionaremos la API de geocodificación ([_Google Maps Geocoding API_](https://console.developers.google.com/apis/api/geocoding_backend)), que se encuentra en la categoría _Google Maps APIs_ (es posible que tengáis que pulsar sobre el botón _more_ para ver la lista completa de APIs). Haremos click sobre _Enable_ para activarla.\n",
    "\n",
    "Repetiremos el proceso para la API de direcciones ([_Google Maps Directions API_](https://console.developers.google.com/apis/api/directions_backend)), que se encuentra también en la categoría _Google Maps APIs_.\n",
    "\n",
    "Finalmente, clickaremos sobre el menú «Credentials», indicaremos «Create credentials» y escogeremos «API Key». Nos aparecerá una ventana con una cadena de caracteres que representa nuestra clave. Para que el siguiente ejemplo funcione, **es necesario que asignéis a la variable api_key el valor de vuestra clave**."
   ]
  },
  {
   "cell_type": "code",
   "execution_count": 9,
   "metadata": {},
   "outputs": [],
   "source": [
    "# Importamos la librería googlemaps, que interactuará con la API de google maps.\n",
    "import googlemaps\n",
    "\n",
    "# Importamos la librería datetime, que nos ofrece funciones de manejos de fechas.\n",
    "from datetime import datetime\n",
    "\n",
    "####################################################################################\n",
    "# ATENCIÓN! Asignad a la variable 'api_key' la clave que hayáis obtenido de Google.\n",
    "api_key = \"\"\n",
    "####################################################################################\n",
    "\n",
    "# Inicializamos el cliente, indicando la clave de autenticación.\n",
    "gmaps = googlemaps.Client(key=api_key)\n"
   ]
  },
  {
   "cell_type": "markdown",
   "metadata": {},
   "source": [
    "En primer lugar, utilizaremos la [API de geocodificación](https://developers.google.com/maps/documentation/geocoding/start) para obtener datos de una dirección a través del método [geocode](https://googlemaps.github.io/google-maps-services-python/docs/2.4.6/#googlemaps.Client.geocode) del cliente de google maps que nos ofrece la librería (almacenado en la variable `gmaps`)."
   ]
  },
  {
   "cell_type": "code",
   "execution_count": 10,
   "metadata": {},
   "outputs": [
    {
     "name": "stdout",
     "output_type": "stream",
     "text": [
      "------ Resultado de geocode ------\n",
      "[\n",
      "   {\n",
      "      \"address_components\": [\n",
      "         {\n",
      "            \"long_name\": \"156\",\n",
      "            \"short_name\": \"156\",\n",
      "            \"types\": [\n",
      "               \"street_number\"\n",
      "            ]\n",
      "         },\n",
      "         {\n",
      "            \"long_name\": \"Rambla del Poblenou\",\n",
      "            \"short_name\": \"Rambla del Poblenou\",\n",
      "            \"types\": [\n",
      "               \"route\"\n",
      "            ]\n",
      "         },\n",
      "         {\n",
      "            \"long_name\": \"Barcelona\",\n",
      "            \"short_name\": \"Barcelona\",\n",
      "[...]\n"
     ]
    }
   ],
   "source": [
    "# Utilizamos la API de geocodificación para obtener datos de una dirección.\n",
    "geocode_result = gmaps.geocode('Rambla del Poblenou, 156, Barcelona')\n",
    "print(\"------ Resultado de geocode ------\")\n",
    "json_print(geocode_result, 20)"
   ]
  },
  {
   "cell_type": "markdown",
   "metadata": {},
   "source": [
    "Otro ejemplo del uso de la [API de geocodificación](https://developers.google.com/maps/documentation/geocoding/start) utiliza el método [reverse_geocode](https://googlemaps.github.io/google-maps-services-python/docs/2.4.6/#googlemaps.Client.reverse_geocode) para obtener información sobre unas coordenadas geográficas concretas:"
   ]
  },
  {
   "cell_type": "code",
   "execution_count": 11,
   "metadata": {},
   "outputs": [
    {
     "name": "stdout",
     "output_type": "stream",
     "text": [
      "------ Resultado de reverse geocode ------\n",
      "[\n",
      "   {\n",
      "      \"address_components\": [\n",
      "         {\n",
      "            \"long_name\": \"17\",\n",
      "            \"short_name\": \"17\",\n",
      "            \"types\": [\n",
      "               \"street_number\"\n",
      "            ]\n",
      "         },\n",
      "         {\n",
      "            \"long_name\": \"Avinguda del Canal Ol\\u00edmpic\",\n",
      "            \"short_name\": \"Av. del Canal Ol\\u00edmpic\",\n",
      "            \"types\": [\n",
      "               \"route\"\n",
      "            ]\n",
      "         },\n",
      "         {\n",
      "            \"long_name\": \"Castelldefels\",\n",
      "            \"short_name\": \"Castelldefels\",\n",
      "[...]\n"
     ]
    }
   ],
   "source": [
    "# Obtenemos datos sobre unas coordenadas geográficas.\n",
    "reverse_geocode_result = gmaps.reverse_geocode((41.2768089, 1.9884642))\n",
    "print(\"------ Resultado de reverse geocode ------\")\n",
    "json_print(reverse_geocode_result, 20)\n",
    "\n"
   ]
  },
  {
   "cell_type": "markdown",
   "metadata": {},
   "source": [
    "El siguiente ejemplo interactúa con la [API de direcciones](https://developers.google.com/maps/documentation/directions/), usando el método [_directions_](https://googlemaps.github.io/google-maps-services-python/docs/2.4.6/#googlemaps.Client.directions) de la librería googlemaps de Python, para obtener indicaciones de desplazamiento entre dos puntos."
   ]
  },
  {
   "cell_type": "code",
   "execution_count": 12,
   "metadata": {},
   "outputs": [
    {
     "name": "stdout",
     "output_type": "stream",
     "text": [
      "------ Resultado de directions ------\n",
      "[\n",
      "   {\n",
      "      \"bounds\": {\n",
      "         \"northeast\": {\n",
      "            \"lat\": 41.98102,\n",
      "            \"lng\": 2.817006\n",
      "         },\n",
      "         \"southwest\": {\n",
      "            \"lat\": 41.481153,\n",
      "            \"lng\": 2.014348\n",
      "         }\n",
      "      },\n",
      "      \"copyrights\": \"Map data \\u00a92017 Google, Inst. Geogr. Nacional\",\n",
      "      \"legs\": [\n",
      "         {\n",
      "[...]\n"
     ]
    }
   ],
   "source": [
    "# Obtenemos indicaciones sobre cómo ir de una dirección a otra, considerando el tráfico del momento actual.\n",
    "now = datetime.now()\n",
    "directions_result = gmaps.directions(\"Carrer Colom, 114, Terrassa\",\n",
    "                                     \"Carrer Sant Antoni, 1, Salt\",\n",
    "                                     mode=\"transit\",\n",
    "                                     departure_time=now)\n",
    "print(\"------ Resultado de directions ------\")\n",
    "json_print(directions_result, 15)"
   ]
  },
  {
   "cell_type": "markdown",
   "metadata": {},
   "source": [
    "Notad que, en este caso, no hemos tenido que gestionar las peticiones HTTP manualmente: la librería lo ha hecho por nosotros de forma transparente. \n",
    "\n",
    "Además, las funciones de la librería nos devuelven directamente objetos Python, que pueden ser usados como cualquier otro. Por ejemplo, podemos seleccionar solo una parte de las respuestas de las APIs según nuestro interés:"
   ]
  },
  {
   "cell_type": "code",
   "execution_count": 17,
   "metadata": {},
   "outputs": [
    {
     "data": {
      "text/plain": [
       "[u'geometry',\n",
       " u'address_components',\n",
       " u'place_id',\n",
       " u'formatted_address',\n",
       " u'types']"
      ]
     },
     "execution_count": 17,
     "metadata": {},
     "output_type": "execute_result"
    }
   ],
   "source": [
    "# Mostramos las claves del diccionario que devuelve la llamada a geocode.\n",
    "geocode_result[0].keys()"
   ]
  },
  {
   "cell_type": "code",
   "execution_count": 18,
   "metadata": {},
   "outputs": [
    {
     "data": {
      "text/plain": [
       "{u'lat': 41.4063554, u'lng': 2.1947451}"
      ]
     },
     "execution_count": 18,
     "metadata": {},
     "output_type": "execute_result"
    }
   ],
   "source": [
    "# Mostramos únicamente las coordenadas geográficas de la dirección de interés.\n",
    "geocode_result[0][\"geometry\"][\"location\"]"
   ]
  },
  {
   "cell_type": "code",
   "execution_count": 30,
   "metadata": {},
   "outputs": [
    {
     "name": "stdout",
     "output_type": "stream",
     "text": [
      "{u'lat': 41.2772149, u'lng': 1.9892062} Av. del Canal Olímpic, 17, 08860 Castelldefels, Barcelona, Spain\n",
      "{u'lat': 41.2800161, u'lng': 1.9766294} Castelldefels, Barcelona, Spain\n",
      "{u'lat': 41.2790599, u'lng': 1.9734743} Castelldefels, Barcelona, Spain\n",
      "{u'lat': 41.2792267, u'lng': 1.9636914} 08860 Sitges, Barcelona, Spain\n",
      "{u'lat': 41.3847492, u'lng': 1.949021} El Baix Llobregat, Barcelona, Spain\n",
      "{u'lat': 41.383401, u'lng': 2.027319} Barcelona Metropolitan Area, Barcelona, Spain\n",
      "{u'lat': 41.3850477, u'lng': 2.1733131} Barcelona, Spain\n",
      "{u'lat': 41.5911589, u'lng': 1.5208624} Catalonia, Spain\n",
      "{u'lat': 40.46366700000001, u'lng': -3.74922} Spain\n"
     ]
    }
   ],
   "source": [
    "# Mostramos las localizaciones cercanas a las coordenadas geográficas que hemos preguntado con reverse_geocode, \n",
    "# imprimiendo las coordenadas exactas y la dirección.\n",
    "for result in reverse_geocode_result:\n",
    "    print result[\"geometry\"][\"location\"], result[\"formatted_address\"]"
   ]
  },
  {
   "cell_type": "code",
   "execution_count": 40,
   "metadata": {},
   "outputs": [
    {
     "name": "stdout",
     "output_type": "stream",
     "text": [
      "{u'text': u'112 km', u'value': 112026}\n"
     ]
    }
   ],
   "source": [
    "# Mostramos únicamente la distancia del trayecto entre los dos puntos preguntados a la API de direcciones.\n",
    "print directions_result[0][\"legs\"][0][\"distance\"]"
   ]
  },
  {
   "cell_type": "markdown",
   "metadata": {},
   "source": [
    "## Capturando datos manualmente: _web crawling_"
   ]
  },
  {
   "cell_type": "markdown",
   "metadata": {},
   "source": [
    "[Scrapy](https://scrapy.org/) es una librería de Python que provee de un _framework_ para la extracción de datos de páginas web. Scrapy es muy completa y dispone de múltiples funcionalidades, pero veremos un ejemplo sencillo de su uso.\n",
    "\n",
    "Suponed que queremos obtener un listado de las titulaciones de grado que ofrece la UOC. La UOC no ofrece una API con esta información, pero sí que podemos encontrarla en la página http://estudios.uoc.edu/es/grados. De todos modos, no queremos ir copiando manualmente los nombres de todas las titulaciones para obtener el listado de interés, por lo que desarollaremos un pequeño *crawler* que obtenga estos datos por nosotros.\n",
    "\n",
    "Ya tenemos identificada la url que queremos explorar (http://estudios.uoc.edu/es/grados), así que solo será necesario identificar dónde se encuentran los datos de interés dentro de la página. Para hacerlo, en primer lugar nos fijaremos en algún título de grado que aparezca en la página, por ejemplo, Diseño y Creación Digitales o Multimedia. Seguidamente accederemos al código fuente de la página (podemos usar la combinación de teclas `CTRL + u` en los navegadores Firefox o Chrome) y buscaremos los nombres de los grados que hemos visto anteriormente:\n",
    "\n",
    "\n"
   ]
  },
  {
   "cell_type": "raw",
   "metadata": {},
   "source": [
    "<a \n",
    "   title=\"Diseño y Creación Digitales\" \n",
    "   href=\"/es/grados/diseño-creacion-digital/presentacion\" \n",
    "   class=\"card-absolute-link\">\n",
    "    &nbsp;\n",
    "</a>"
   ]
  },
  {
   "cell_type": "raw",
   "metadata": {},
   "source": [
    "<a \n",
    "   title=\"Multimedia\" \n",
    "   href=\"/es/grados/multimedia/presentacion\" \n",
    "   class=\"card-absolute-link\">\n",
    "    &nbsp;\n",
    "</a> "
   ]
  },
  {
   "cell_type": "markdown",
   "metadata": {},
   "source": [
    "Como se puede apreciar, los datos que queremos recopilar (los nombres de las titulaciones de grado que ofrece la UOC) se encuentran en el atributo título (_title_) de un hipervínculo (un elemento señalado con la etiqueta `<a>`) que tiene el atributo clase fijado a «card-absolute-link». \n",
    "\n",
    "Para indicar que queremos seleccionar estos datos, utilizaremos la sintaxis XPath. En concreto, utilizaremos la expresión:\n",
    "```\n",
    "//a[@class=\"card-absolute-link\"]/@title\n",
    "```\n",
    "\n",
    "que nos indica que queremos seleccionar todas las etiquetas `<a>` que tengan como atributo clase el valor \"card-absolute-link\" y de ellas extraer el título. Con esto ya podemos programar nuestra araña para que extraiga los datos de interés.\n",
    "\n",
    "La estructura de un *crawler* con Scrapy viene prefijada. En nuestro caso, solo será necesario definir una araña e incluir un *parser* que extraiga los datos de las titulaciones y que disponga de la URL de inicio."
   ]
  },
  {
   "cell_type": "code",
   "execution_count": 1,
   "metadata": {},
   "outputs": [],
   "source": [
    "# Importamos scrapy.\n",
    "import scrapy\n",
    "from scrapy.crawler import CrawlerProcess\n",
    "\n",
    "# Creamos la araña.\n",
    "class uoc_spider(scrapy.Spider):\n",
    "    \n",
    "    # Asignamos un nombre a la araña.\n",
    "    name = \"uoc_spider\"\n",
    "    \n",
    "    # Indicamos la url que queremos analizar en primer lugar.\n",
    "    start_urls = [\n",
    "        \"http://estudios.uoc.edu/es/grados\"\n",
    "    ]\n",
    "\n",
    "    # Definimos el analizador.\n",
    "    def parse(self, response):\n",
    "        # Extraemos el título del grado.\n",
    "        for grado in response.xpath('//a[@class=\"card-absolute-link\"]/@title'):\n",
    "            yield {\n",
    "                'title': grado.extract()\n",
    "            }"
   ]
  },
  {
   "cell_type": "markdown",
   "metadata": {},
   "source": [
    "Una vez definida la araña, lanzaremos el *crawler* indicando que queremos que use la araña `uoc_spider` que acabamos de definir:"
   ]
  },
  {
   "cell_type": "code",
   "execution_count": 2,
   "metadata": {},
   "outputs": [
    {
     "name": "stderr",
     "output_type": "stream",
     "text": [
      "INFO:scrapy.utils.log:Scrapy 1.0.3 started (bot: scrapybot)\n",
      "INFO:scrapy.utils.log:Optional features available: ssl, http11, boto\n",
      "INFO:scrapy.utils.log:Overridden settings: {'USER_AGENT': 'Mozilla/4.0 (compatible; MSIE 7.0; Windows NT 5.1)', 'LOG_ENABLED': False}\n",
      "INFO:scrapy.middleware:Enabled extensions: CloseSpider, TelnetConsole, LogStats, CoreStats, SpiderState\n",
      "INFO:scrapy.middleware:Enabled downloader middlewares: HttpAuthMiddleware, DownloadTimeoutMiddleware, UserAgentMiddleware, RetryMiddleware, DefaultHeadersMiddleware, MetaRefreshMiddleware, HttpCompressionMiddleware, RedirectMiddleware, CookiesMiddleware, ChunkedTransferMiddleware, DownloaderStats\n",
      "INFO:scrapy.middleware:Enabled spider middlewares: HttpErrorMiddleware, OffsiteMiddleware, RefererMiddleware, UrlLengthMiddleware, DepthMiddleware\n",
      "INFO:scrapy.middleware:Enabled item pipelines: \n",
      "INFO:scrapy.core.engine:Spider opened\n",
      "INFO:scrapy.extensions.logstats:Crawled 0 pages (at 0 pages/min), scraped 0 items (at 0 items/min)\n",
      "DEBUG:scrapy.telnet:Telnet console listening on 127.0.0.1:6025\n",
      "DEBUG:scrapy.core.engine:Crawled (200) <GET http://estudios.uoc.edu/es/grados> (referer: None)\n",
      "DEBUG:scrapy.core.scraper:Scraped from <200 http://estudios.uoc.edu/es/grados>\n",
      "{'title': u'Antropolog\\xeda y Evoluci\\xf3n Humana (interuniversitario: URV, UOC)'}\n",
      "DEBUG:scrapy.core.scraper:Scraped from <200 http://estudios.uoc.edu/es/grados>\n",
      "{'title': u'Ciencias Sociales'}\n",
      "DEBUG:scrapy.core.scraper:Scraped from <200 http://estudios.uoc.edu/es/grados>\n",
      "{'title': u'Historia, Geograf\\xeda e Historia del Arte (interuniversitario: UOC, UdL)'}\n",
      "DEBUG:scrapy.core.scraper:Scraped from <200 http://estudios.uoc.edu/es/grados>\n",
      "{'title': u'Humanidades'}\n",
      "DEBUG:scrapy.core.scraper:Scraped from <200 http://estudios.uoc.edu/es/grados>\n",
      "{'title': u'Lengua y Literatura Catalanas'}\n",
      "DEBUG:scrapy.core.scraper:Scraped from <200 http://estudios.uoc.edu/es/grados>\n",
      "{'title': u'Traducci\\xf3n, Interpretaci\\xf3n y Lenguas Aplicadas (interuniversitario: UVic-UCC, UOC)'}\n",
      "DEBUG:scrapy.core.scraper:Scraped from <200 http://estudios.uoc.edu/es/grados>\n",
      "{'title': u'Comunicaci\\xf3n'}\n",
      "DEBUG:scrapy.core.scraper:Scraped from <200 http://estudios.uoc.edu/es/grados>\n",
      "{'title': u'Dise\\xf1o y Creaci\\xf3n Digitales'}\n",
      "DEBUG:scrapy.core.scraper:Scraped from <200 http://estudios.uoc.edu/es/grados>\n",
      "{'title': u'Informaci\\xf3n y Documentaci\\xf3n'}\n",
      "DEBUG:scrapy.core.scraper:Scraped from <200 http://estudios.uoc.edu/es/grados>\n",
      "{'title': u'Criminolog\\xeda'}\n",
      "DEBUG:scrapy.core.scraper:Scraped from <200 http://estudios.uoc.edu/es/grados>\n",
      "{'title': u'Derecho'}\n",
      "DEBUG:scrapy.core.scraper:Scraped from <200 http://estudios.uoc.edu/es/grados>\n",
      "{'title': u'Gesti\\xf3n y Administraci\\xf3n P\\xfablica (interuniversitario: UOC, UB)'}\n",
      "DEBUG:scrapy.core.scraper:Scraped from <200 http://estudios.uoc.edu/es/grados>\n",
      "{'title': u'Dise\\xf1o y Creaci\\xf3n Digitales'}\n",
      "DEBUG:scrapy.core.scraper:Scraped from <200 http://estudios.uoc.edu/es/grados>\n",
      "{'title': u'Multimedia'}\n",
      "DEBUG:scrapy.core.scraper:Scraped from <200 http://estudios.uoc.edu/es/grados>\n",
      "{'title': u'Administraci\\xf3n y Direcci\\xf3n de Empresas'}\n",
      "DEBUG:scrapy.core.scraper:Scraped from <200 http://estudios.uoc.edu/es/grados>\n",
      "{'title': u'Doble titulaci\\xf3n de Administraci\\xf3n y Direcci\\xf3n de Empresas y de Turismo'}\n",
      "DEBUG:scrapy.core.scraper:Scraped from <200 http://estudios.uoc.edu/es/grados>\n",
      "{'title': u'Econom\\xeda'}\n",
      "DEBUG:scrapy.core.scraper:Scraped from <200 http://estudios.uoc.edu/es/grados>\n",
      "{'title': u'Marketing e Investigaci\\xf3n de Mercados'}\n",
      "DEBUG:scrapy.core.scraper:Scraped from <200 http://estudios.uoc.edu/es/grados>\n",
      "{'title': u'Relaciones Laborales y Ocupaci\\xf3n'}\n",
      "DEBUG:scrapy.core.scraper:Scraped from <200 http://estudios.uoc.edu/es/grados>\n",
      "{'title': u'Doble titulaci\\xf3n de Ingenier\\xeda Inform\\xe1tica y de Administraci\\xf3n y Direcci\\xf3n de Empresas'}\n",
      "DEBUG:scrapy.core.scraper:Scraped from <200 http://estudios.uoc.edu/es/grados>\n",
      "{'title': u'Ingenier\\xeda Inform\\xe1tica'}\n",
      "DEBUG:scrapy.core.scraper:Scraped from <200 http://estudios.uoc.edu/es/grados>\n",
      "{'title': u'Multimedia'}\n",
      "DEBUG:scrapy.core.scraper:Scraped from <200 http://estudios.uoc.edu/es/grados>\n",
      "{'title': u'Tecnolog\\xedas de la Telecomunicaci\\xf3n'}\n",
      "DEBUG:scrapy.core.scraper:Scraped from <200 http://estudios.uoc.edu/es/grados>\n",
      "{'title': u'Educaci\\xf3n Social'}\n",
      "DEBUG:scrapy.core.scraper:Scraped from <200 http://estudios.uoc.edu/es/grados>\n",
      "{'title': u'Psicolog\\xeda'}\n",
      "DEBUG:scrapy.core.scraper:Scraped from <200 http://estudios.uoc.edu/es/grados>\n",
      "{'title': u'Turismo'}\n",
      "INFO:scrapy.core.engine:Closing spider (finished)\n",
      "INFO:scrapy.statscollectors:Dumping Scrapy stats:\n",
      "{'downloader/request_bytes': 240,\n",
      " 'downloader/request_count': 1,\n",
      " 'downloader/request_method_count/GET': 1,\n",
      " 'downloader/response_bytes': 196142,\n",
      " 'downloader/response_count': 1,\n",
      " 'downloader/response_status_count/200': 1,\n",
      " 'finish_reason': 'finished',\n",
      " 'finish_time': datetime.datetime(2017, 3, 29, 9, 23, 58, 810837),\n",
      " 'item_scraped_count': 26,\n",
      " 'log_count/DEBUG': 28,\n",
      " 'log_count/INFO': 7,\n",
      " 'response_received_count': 1,\n",
      " 'scheduler/dequeued': 1,\n",
      " 'scheduler/dequeued/memory': 1,\n",
      " 'scheduler/enqueued': 1,\n",
      " 'scheduler/enqueued/memory': 1,\n",
      " 'start_time': datetime.datetime(2017, 3, 29, 9, 23, 57, 719932)}\n",
      "INFO:scrapy.core.engine:Spider closed (finished)\n"
     ]
    }
   ],
   "source": [
    "if __name__ == \"__main__\":\n",
    "\n",
    "    # Creamos un crawler.\n",
    "    process = CrawlerProcess({\n",
    "        'USER_AGENT': 'Mozilla/4.0 (compatible; MSIE 7.0; Windows NT 5.1)',\n",
    "        'DOWNLOAD_HANDLERS': {'s3': None},\n",
    "        'LOG_ENABLED': False\n",
    "    })\n",
    "\n",
    "    # Inicializamos el crawler con nuestra araña.\n",
    "    process.crawl(uoc_spider)\n",
    "    \n",
    "    # Lanzamos la araña.\n",
    "    process.start()"
   ]
  },
  {
   "cell_type": "markdown",
   "metadata": {},
   "source": [
    "La ejecución de Scrapy muestra un log detallado con todos los eventos que han ido ocurriendo, lo que es muy útil para identificar problemas, sobre todo en capturas complejas. En nuestro caso, además, podemos ver como se han extraído los nombres de las titulaciones de grado:"
   ]
  },
  {
   "cell_type": "raw",
   "metadata": {},
   "source": [
    "DEBUG:scrapy.core.scraper:Scraped from <200 http://estudios.uoc.edu/es/grados>\n",
    "{'title': u'Antropolog\\xeda y Evoluci\\xf3n Humana (interuniversitario: URV, UOC)'}\n",
    "DEBUG:scrapy.core.scraper:Scraped from <200 http://estudios.uoc.edu/es/grados>\n",
    "{'title': u'Ciencias Sociales'}\n",
    "DEBUG:scrapy.core.scraper:Scraped from <200 http://estudios.uoc.edu/es/grados>\n",
    "{'title': u'Historia, Geograf\\xeda e Historia del Arte (interuniversitario: UOC, UdL)'}\n",
    "DEBUG:scrapy.core.scraper:Scraped from <200 http://estudios.uoc.edu/es/grados>\n",
    "{'title': u'Humanidades'}\n",
    "DEBUG:scrapy.core.scraper:Scraped from <200 http://estudios.uoc.edu/es/grados>\n",
    "{'title': u'Lengua y Literatura Catalanas'}\n",
    "DEBUG:scrapy.core.scraper:Scraped from <200 http://estudios.uoc.edu/es/grados>\n",
    "{'title': u'Traducci\\xf3n, Interpretaci\\xf3n y Lenguas Aplicadas (interuniversitario: UVic-UCC, UOC)'}"
   ]
  }
 ],
 "metadata": {
  "kernelspec": {
   "display_name": "Python 3",
   "language": "python",
   "name": "python3"
  },
  "language_info": {
   "codemirror_mode": {
    "name": "ipython",
    "version": 3
   },
   "file_extension": ".py",
   "mimetype": "text/x-python",
   "name": "python",
   "nbconvert_exporter": "python",
   "pygments_lexer": "ipython3",
   "version": "3.7.4"
  }
 },
 "nbformat": 4,
 "nbformat_minor": 1
}
